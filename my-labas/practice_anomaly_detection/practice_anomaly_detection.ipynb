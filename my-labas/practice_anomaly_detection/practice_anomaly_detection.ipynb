{
 "cells": [
  {
   "cell_type": "markdown",
   "id": "d1357927",
   "metadata": {},
   "source": [
    "# Практическая работа по лекциям 10 и 11\n",
    "## Поймай меня, если сможешь\n",
    "## Преамбула\n",
    "Будем решать `задачу идентификации злоумышленника` по его поведению в сети Интернет. Если коротко, то он будет вести себя совсем не так, как обычный человек. Если это взломщик почтовых ящиков, то, скорее всего, в отличие от владельца ящика, он будет ставить флажки на письмах по-другому, иначе перемещать курсор мышки, удалять или отправлять письма с нетипичной для владельца тематикой.\n",
    "\n",
    "В нашем случае необходимо решить похожую задачу: алгоритм будет анализировать `последовательность из нескольких веб-сайтов, посещенных подряд одним и тем же человеком`, и определять, владелец это или злоумышленник (кто-то другой).\n",
    "\n",
    "\n",
    "### Данные\n",
    "- `practice_anomaly_data.csv` $-$ таблица с данными о сессиях пользователей. Данные были собраны с прокси-серверов Университета Блеза Паскаля. \n",
    "- `site.pkl` $-$ словарь с сайтами.\n",
    "\n",
    "Изначально данные были размечены, но я удалил столбец с метками, чтобы можно было решить задачу поиска аномалий `методами обучения без учителя`. \n",
    "\n",
    "### Признаки пользователей\n",
    "- Признаки, названия которых начинаются с `site`, это номера сайтов, которые посетил пользователь в конкретную сессию. По номеру сайта можно найти ссылку в файле `site.pkl`;\n",
    "- Признаки, названия которых начинаются с `time`, являются временными метками, когда пользователь посетил сайт.\n",
    "- Допустимо ожидаемый процент аномалий меньше 1% (примерно 0.9%)"
   ]
  },
  {
   "cell_type": "markdown",
   "id": "3a77ba0b",
   "metadata": {},
   "source": [
    "## Ход работы\n",
    "### 1. Загрузка данных\n",
    "1. Загрузите данные из файла `practice_anomaly_data.csv`, используя атрибут `session_id` в качестве индекса."
   ]
  },
  {
   "cell_type": "code",
   "execution_count": 15,
   "id": "c95e3000",
   "metadata": {},
   "outputs": [],
   "source": [
    "import pandas as pd\n",
    "\n",
    "df = pd.read_csv('practice_anomaly_data.csv', index_col=\"session_id\")\n"
   ]
  },
  {
   "cell_type": "code",
   "execution_count": 16,
   "id": "4053fab6",
   "metadata": {},
   "outputs": [
    {
     "name": "stdout",
     "output_type": "stream",
     "text": [
      "<class 'pandas.core.frame.DataFrame'>\n",
      "Index: 253561 entries, 1 to 253561\n",
      "Data columns (total 20 columns):\n",
      " #   Column  Non-Null Count   Dtype  \n",
      "---  ------  --------------   -----  \n",
      " 0   site1   253561 non-null  int64  \n",
      " 1   time1   253561 non-null  object \n",
      " 2   site2   250098 non-null  float64\n",
      " 3   time2   250098 non-null  object \n",
      " 4   site3   246919 non-null  float64\n",
      " 5   time3   246919 non-null  object \n",
      " 6   site4   244321 non-null  float64\n",
      " 7   time4   244321 non-null  object \n",
      " 8   site5   241829 non-null  float64\n",
      " 9   time5   241829 non-null  object \n",
      " 10  site6   239495 non-null  float64\n",
      " 11  time6   239495 non-null  object \n",
      " 12  site7   237297 non-null  float64\n",
      " 13  time7   237297 non-null  object \n",
      " 14  site8   235224 non-null  float64\n",
      " 15  time8   235224 non-null  object \n",
      " 16  site9   233084 non-null  float64\n",
      " 17  time9   233084 non-null  object \n",
      " 18  site10  231052 non-null  float64\n",
      " 19  time10  231052 non-null  object \n",
      "dtypes: float64(9), int64(1), object(10)\n",
      "memory usage: 40.6+ MB\n"
     ]
    }
   ],
   "source": [
    "df.info()"
   ]
  },
  {
   "cell_type": "code",
   "execution_count": 17,
   "id": "f6961585",
   "metadata": {},
   "outputs": [
    {
     "data": {
      "text/html": [
       "<div>\n",
       "<style scoped>\n",
       "    .dataframe tbody tr th:only-of-type {\n",
       "        vertical-align: middle;\n",
       "    }\n",
       "\n",
       "    .dataframe tbody tr th {\n",
       "        vertical-align: top;\n",
       "    }\n",
       "\n",
       "    .dataframe thead th {\n",
       "        text-align: right;\n",
       "    }\n",
       "</style>\n",
       "<table border=\"1\" class=\"dataframe\">\n",
       "  <thead>\n",
       "    <tr style=\"text-align: right;\">\n",
       "      <th></th>\n",
       "      <th>count</th>\n",
       "      <th>mean</th>\n",
       "      <th>std</th>\n",
       "      <th>min</th>\n",
       "      <th>25%</th>\n",
       "      <th>50%</th>\n",
       "      <th>75%</th>\n",
       "      <th>max</th>\n",
       "    </tr>\n",
       "  </thead>\n",
       "  <tbody>\n",
       "    <tr>\n",
       "      <th>site1</th>\n",
       "      <td>253561.0</td>\n",
       "      <td>3243.550144</td>\n",
       "      <td>7247.006212</td>\n",
       "      <td>1.0</td>\n",
       "      <td>53.0</td>\n",
       "      <td>677.0</td>\n",
       "      <td>1980.0</td>\n",
       "      <td>41601.0</td>\n",
       "    </tr>\n",
       "    <tr>\n",
       "      <th>site2</th>\n",
       "      <td>250098.0</td>\n",
       "      <td>3272.400883</td>\n",
       "      <td>7307.480404</td>\n",
       "      <td>1.0</td>\n",
       "      <td>53.0</td>\n",
       "      <td>677.0</td>\n",
       "      <td>1980.0</td>\n",
       "      <td>41600.0</td>\n",
       "    </tr>\n",
       "    <tr>\n",
       "      <th>site3</th>\n",
       "      <td>246919.0</td>\n",
       "      <td>3303.987757</td>\n",
       "      <td>7347.809918</td>\n",
       "      <td>1.0</td>\n",
       "      <td>53.0</td>\n",
       "      <td>677.0</td>\n",
       "      <td>1986.5</td>\n",
       "      <td>41599.0</td>\n",
       "    </tr>\n",
       "    <tr>\n",
       "      <th>site4</th>\n",
       "      <td>244321.0</td>\n",
       "      <td>3325.109422</td>\n",
       "      <td>7371.245606</td>\n",
       "      <td>1.0</td>\n",
       "      <td>52.0</td>\n",
       "      <td>677.0</td>\n",
       "      <td>1995.0</td>\n",
       "      <td>41599.0</td>\n",
       "    </tr>\n",
       "    <tr>\n",
       "      <th>site5</th>\n",
       "      <td>241829.0</td>\n",
       "      <td>3343.406035</td>\n",
       "      <td>7379.758550</td>\n",
       "      <td>1.0</td>\n",
       "      <td>52.0</td>\n",
       "      <td>678.0</td>\n",
       "      <td>2054.0</td>\n",
       "      <td>41599.0</td>\n",
       "    </tr>\n",
       "    <tr>\n",
       "      <th>site6</th>\n",
       "      <td>239495.0</td>\n",
       "      <td>3352.312637</td>\n",
       "      <td>7380.413775</td>\n",
       "      <td>1.0</td>\n",
       "      <td>52.0</td>\n",
       "      <td>679.0</td>\n",
       "      <td>2077.0</td>\n",
       "      <td>41600.0</td>\n",
       "    </tr>\n",
       "    <tr>\n",
       "      <th>site7</th>\n",
       "      <td>237297.0</td>\n",
       "      <td>3395.546771</td>\n",
       "      <td>7435.727671</td>\n",
       "      <td>1.0</td>\n",
       "      <td>55.0</td>\n",
       "      <td>679.0</td>\n",
       "      <td>2197.0</td>\n",
       "      <td>41600.0</td>\n",
       "    </tr>\n",
       "    <tr>\n",
       "      <th>site8</th>\n",
       "      <td>235224.0</td>\n",
       "      <td>3430.157765</td>\n",
       "      <td>7473.417900</td>\n",
       "      <td>1.0</td>\n",
       "      <td>55.0</td>\n",
       "      <td>704.0</td>\n",
       "      <td>2287.0</td>\n",
       "      <td>41601.0</td>\n",
       "    </tr>\n",
       "    <tr>\n",
       "      <th>site9</th>\n",
       "      <td>233084.0</td>\n",
       "      <td>3438.400088</td>\n",
       "      <td>7471.062652</td>\n",
       "      <td>1.0</td>\n",
       "      <td>55.0</td>\n",
       "      <td>733.0</td>\n",
       "      <td>2366.0</td>\n",
       "      <td>41601.0</td>\n",
       "    </tr>\n",
       "    <tr>\n",
       "      <th>site10</th>\n",
       "      <td>231052.0</td>\n",
       "      <td>3460.388861</td>\n",
       "      <td>7492.447548</td>\n",
       "      <td>1.0</td>\n",
       "      <td>55.0</td>\n",
       "      <td>733.0</td>\n",
       "      <td>2403.0</td>\n",
       "      <td>41601.0</td>\n",
       "    </tr>\n",
       "  </tbody>\n",
       "</table>\n",
       "</div>"
      ],
      "text/plain": [
       "           count         mean          std  min   25%    50%     75%      max\n",
       "site1   253561.0  3243.550144  7247.006212  1.0  53.0  677.0  1980.0  41601.0\n",
       "site2   250098.0  3272.400883  7307.480404  1.0  53.0  677.0  1980.0  41600.0\n",
       "site3   246919.0  3303.987757  7347.809918  1.0  53.0  677.0  1986.5  41599.0\n",
       "site4   244321.0  3325.109422  7371.245606  1.0  52.0  677.0  1995.0  41599.0\n",
       "site5   241829.0  3343.406035  7379.758550  1.0  52.0  678.0  2054.0  41599.0\n",
       "site6   239495.0  3352.312637  7380.413775  1.0  52.0  679.0  2077.0  41600.0\n",
       "site7   237297.0  3395.546771  7435.727671  1.0  55.0  679.0  2197.0  41600.0\n",
       "site8   235224.0  3430.157765  7473.417900  1.0  55.0  704.0  2287.0  41601.0\n",
       "site9   233084.0  3438.400088  7471.062652  1.0  55.0  733.0  2366.0  41601.0\n",
       "site10  231052.0  3460.388861  7492.447548  1.0  55.0  733.0  2403.0  41601.0"
      ]
     },
     "execution_count": 17,
     "metadata": {},
     "output_type": "execute_result"
    }
   ],
   "source": [
    "df.describe().T"
   ]
  },
  {
   "cell_type": "code",
   "execution_count": 18,
   "id": "4b9b9f39",
   "metadata": {},
   "outputs": [
    {
     "data": {
      "text/html": [
       "<div>\n",
       "<style scoped>\n",
       "    .dataframe tbody tr th:only-of-type {\n",
       "        vertical-align: middle;\n",
       "    }\n",
       "\n",
       "    .dataframe tbody tr th {\n",
       "        vertical-align: top;\n",
       "    }\n",
       "\n",
       "    .dataframe thead th {\n",
       "        text-align: right;\n",
       "    }\n",
       "</style>\n",
       "<table border=\"1\" class=\"dataframe\">\n",
       "  <thead>\n",
       "    <tr style=\"text-align: right;\">\n",
       "      <th></th>\n",
       "      <th>site1</th>\n",
       "      <th>time1</th>\n",
       "      <th>site2</th>\n",
       "      <th>time2</th>\n",
       "      <th>site3</th>\n",
       "      <th>time3</th>\n",
       "      <th>site4</th>\n",
       "      <th>time4</th>\n",
       "      <th>site5</th>\n",
       "      <th>time5</th>\n",
       "      <th>site6</th>\n",
       "      <th>time6</th>\n",
       "      <th>site7</th>\n",
       "      <th>time7</th>\n",
       "      <th>site8</th>\n",
       "      <th>time8</th>\n",
       "      <th>site9</th>\n",
       "      <th>time9</th>\n",
       "      <th>site10</th>\n",
       "      <th>time10</th>\n",
       "    </tr>\n",
       "    <tr>\n",
       "      <th>session_id</th>\n",
       "      <th></th>\n",
       "      <th></th>\n",
       "      <th></th>\n",
       "      <th></th>\n",
       "      <th></th>\n",
       "      <th></th>\n",
       "      <th></th>\n",
       "      <th></th>\n",
       "      <th></th>\n",
       "      <th></th>\n",
       "      <th></th>\n",
       "      <th></th>\n",
       "      <th></th>\n",
       "      <th></th>\n",
       "      <th></th>\n",
       "      <th></th>\n",
       "      <th></th>\n",
       "      <th></th>\n",
       "      <th></th>\n",
       "      <th></th>\n",
       "    </tr>\n",
       "  </thead>\n",
       "  <tbody>\n",
       "    <tr>\n",
       "      <th>1</th>\n",
       "      <td>718</td>\n",
       "      <td>2014-02-20 10:02:45</td>\n",
       "      <td>NaN</td>\n",
       "      <td>NaN</td>\n",
       "      <td>NaN</td>\n",
       "      <td>NaN</td>\n",
       "      <td>NaN</td>\n",
       "      <td>NaN</td>\n",
       "      <td>NaN</td>\n",
       "      <td>NaN</td>\n",
       "      <td>NaN</td>\n",
       "      <td>NaN</td>\n",
       "      <td>NaN</td>\n",
       "      <td>NaN</td>\n",
       "      <td>NaN</td>\n",
       "      <td>NaN</td>\n",
       "      <td>NaN</td>\n",
       "      <td>NaN</td>\n",
       "      <td>NaN</td>\n",
       "      <td>NaN</td>\n",
       "    </tr>\n",
       "    <tr>\n",
       "      <th>2</th>\n",
       "      <td>890</td>\n",
       "      <td>2014-02-22 11:19:50</td>\n",
       "      <td>941.0</td>\n",
       "      <td>2014-02-22 11:19:50</td>\n",
       "      <td>3847.0</td>\n",
       "      <td>2014-02-22 11:19:51</td>\n",
       "      <td>941.0</td>\n",
       "      <td>2014-02-22 11:19:51</td>\n",
       "      <td>942.0</td>\n",
       "      <td>2014-02-22 11:19:51</td>\n",
       "      <td>3846.0</td>\n",
       "      <td>2014-02-22 11:19:51</td>\n",
       "      <td>3847.0</td>\n",
       "      <td>2014-02-22 11:19:52</td>\n",
       "      <td>3846.0</td>\n",
       "      <td>2014-02-22 11:19:52</td>\n",
       "      <td>1516.0</td>\n",
       "      <td>2014-02-22 11:20:15</td>\n",
       "      <td>1518.0</td>\n",
       "      <td>2014-02-22 11:20:16</td>\n",
       "    </tr>\n",
       "    <tr>\n",
       "      <th>3</th>\n",
       "      <td>14769</td>\n",
       "      <td>2013-12-16 16:40:17</td>\n",
       "      <td>39.0</td>\n",
       "      <td>2013-12-16 16:40:18</td>\n",
       "      <td>14768.0</td>\n",
       "      <td>2013-12-16 16:40:19</td>\n",
       "      <td>14769.0</td>\n",
       "      <td>2013-12-16 16:40:19</td>\n",
       "      <td>37.0</td>\n",
       "      <td>2013-12-16 16:40:19</td>\n",
       "      <td>39.0</td>\n",
       "      <td>2013-12-16 16:40:19</td>\n",
       "      <td>14768.0</td>\n",
       "      <td>2013-12-16 16:40:20</td>\n",
       "      <td>14768.0</td>\n",
       "      <td>2013-12-16 16:40:21</td>\n",
       "      <td>14768.0</td>\n",
       "      <td>2013-12-16 16:40:22</td>\n",
       "      <td>14768.0</td>\n",
       "      <td>2013-12-16 16:40:24</td>\n",
       "    </tr>\n",
       "    <tr>\n",
       "      <th>4</th>\n",
       "      <td>782</td>\n",
       "      <td>2014-03-28 10:52:12</td>\n",
       "      <td>782.0</td>\n",
       "      <td>2014-03-28 10:52:42</td>\n",
       "      <td>782.0</td>\n",
       "      <td>2014-03-28 10:53:12</td>\n",
       "      <td>782.0</td>\n",
       "      <td>2014-03-28 10:53:42</td>\n",
       "      <td>782.0</td>\n",
       "      <td>2014-03-28 10:54:12</td>\n",
       "      <td>782.0</td>\n",
       "      <td>2014-03-28 10:54:42</td>\n",
       "      <td>782.0</td>\n",
       "      <td>2014-03-28 10:55:12</td>\n",
       "      <td>782.0</td>\n",
       "      <td>2014-03-28 10:55:42</td>\n",
       "      <td>782.0</td>\n",
       "      <td>2014-03-28 10:56:12</td>\n",
       "      <td>782.0</td>\n",
       "      <td>2014-03-28 10:56:42</td>\n",
       "    </tr>\n",
       "    <tr>\n",
       "      <th>5</th>\n",
       "      <td>22</td>\n",
       "      <td>2014-02-28 10:53:05</td>\n",
       "      <td>177.0</td>\n",
       "      <td>2014-02-28 10:55:22</td>\n",
       "      <td>175.0</td>\n",
       "      <td>2014-02-28 10:55:22</td>\n",
       "      <td>178.0</td>\n",
       "      <td>2014-02-28 10:55:23</td>\n",
       "      <td>177.0</td>\n",
       "      <td>2014-02-28 10:55:23</td>\n",
       "      <td>178.0</td>\n",
       "      <td>2014-02-28 10:55:59</td>\n",
       "      <td>175.0</td>\n",
       "      <td>2014-02-28 10:55:59</td>\n",
       "      <td>177.0</td>\n",
       "      <td>2014-02-28 10:55:59</td>\n",
       "      <td>177.0</td>\n",
       "      <td>2014-02-28 10:57:06</td>\n",
       "      <td>178.0</td>\n",
       "      <td>2014-02-28 10:57:11</td>\n",
       "    </tr>\n",
       "  </tbody>\n",
       "</table>\n",
       "</div>"
      ],
      "text/plain": [
       "            site1                time1  site2                time2    site3  \\\n",
       "session_id                                                                    \n",
       "1             718  2014-02-20 10:02:45    NaN                  NaN      NaN   \n",
       "2             890  2014-02-22 11:19:50  941.0  2014-02-22 11:19:50   3847.0   \n",
       "3           14769  2013-12-16 16:40:17   39.0  2013-12-16 16:40:18  14768.0   \n",
       "4             782  2014-03-28 10:52:12  782.0  2014-03-28 10:52:42    782.0   \n",
       "5              22  2014-02-28 10:53:05  177.0  2014-02-28 10:55:22    175.0   \n",
       "\n",
       "                          time3    site4                time4  site5  \\\n",
       "session_id                                                             \n",
       "1                           NaN      NaN                  NaN    NaN   \n",
       "2           2014-02-22 11:19:51    941.0  2014-02-22 11:19:51  942.0   \n",
       "3           2013-12-16 16:40:19  14769.0  2013-12-16 16:40:19   37.0   \n",
       "4           2014-03-28 10:53:12    782.0  2014-03-28 10:53:42  782.0   \n",
       "5           2014-02-28 10:55:22    178.0  2014-02-28 10:55:23  177.0   \n",
       "\n",
       "                          time5   site6                time6    site7  \\\n",
       "session_id                                                              \n",
       "1                           NaN     NaN                  NaN      NaN   \n",
       "2           2014-02-22 11:19:51  3846.0  2014-02-22 11:19:51   3847.0   \n",
       "3           2013-12-16 16:40:19    39.0  2013-12-16 16:40:19  14768.0   \n",
       "4           2014-03-28 10:54:12   782.0  2014-03-28 10:54:42    782.0   \n",
       "5           2014-02-28 10:55:23   178.0  2014-02-28 10:55:59    175.0   \n",
       "\n",
       "                          time7    site8                time8    site9  \\\n",
       "session_id                                                               \n",
       "1                           NaN      NaN                  NaN      NaN   \n",
       "2           2014-02-22 11:19:52   3846.0  2014-02-22 11:19:52   1516.0   \n",
       "3           2013-12-16 16:40:20  14768.0  2013-12-16 16:40:21  14768.0   \n",
       "4           2014-03-28 10:55:12    782.0  2014-03-28 10:55:42    782.0   \n",
       "5           2014-02-28 10:55:59    177.0  2014-02-28 10:55:59    177.0   \n",
       "\n",
       "                          time9   site10               time10  \n",
       "session_id                                                     \n",
       "1                           NaN      NaN                  NaN  \n",
       "2           2014-02-22 11:20:15   1518.0  2014-02-22 11:20:16  \n",
       "3           2013-12-16 16:40:22  14768.0  2013-12-16 16:40:24  \n",
       "4           2014-03-28 10:56:12    782.0  2014-03-28 10:56:42  \n",
       "5           2014-02-28 10:57:06    178.0  2014-02-28 10:57:11  "
      ]
     },
     "execution_count": 18,
     "metadata": {},
     "output_type": "execute_result"
    }
   ],
   "source": [
    "df.head()"
   ]
  },
  {
   "cell_type": "markdown",
   "id": "df2367bc",
   "metadata": {},
   "source": [
    "2. Используя модуль `pickle`* языка программирования `python`, загрузите содержимое словаря с сайтами из файла `site.pkl`.\n",
    "\n",
    "*Краткое описание модуля <a href=https://pythonworld.ru/moduli/modul-pickle.html>здесь</a>"
   ]
  },
  {
   "cell_type": "code",
   "execution_count": 19,
   "id": "83abe06b",
   "metadata": {},
   "outputs": [],
   "source": [
    "import pickle\n",
    "\n",
    "with open('site.pkl', 'rb') as f:\n",
    "    site = pickle.load(f)"
   ]
  },
  {
   "cell_type": "markdown",
   "id": "f208231f",
   "metadata": {},
   "source": [
    "### 2. Предобработка данных\n",
    "В данных имеются проблемы. Разделите набор признаков на два поднабора: по времени посещения и по сайтам, которые посещали пользователи.\n",
    "1. Заполните пропущенные номера сайтов;\n",
    "2. Проверьте типы данных у атрибутов обеих таблиц. Все временные признаки приведите к типу `datetime` с помощью метода `pd.to_datetime`.\n",
    "\n",
    "Обратите внимание, что пропуски нужно `заполнять осторожно и обдуманно`, потому что вы можете внести лишние зависимости, которые впоследствии будут мешать корректно идентифицировать аномальных пользователей."
   ]
  },
  {
   "cell_type": "markdown",
   "id": "d5a57726",
   "metadata": {},
   "source": [
    "```\n",
    "Пропуски в столбцах указывают на то, что пользователь не посещал определенные сайты в указанные временные промежутки. \n",
    "Использование метода ffill (заполнение вперед) позволяет предположить, что если пользователь посетил сайт в предыдущий раз, он мог продолжать его посещать в последующих временных точках. \n",
    "\n",
    "А так-же метод forward fill сохраняет структуру данных и позволяет избежать добавления новых значений, которые не имеют оснований. \n",
    "```"
   ]
  },
  {
   "cell_type": "code",
   "execution_count": 20,
   "id": "59d120cd",
   "metadata": {},
   "outputs": [],
   "source": [
    "site_features = df.filter(like='site')\n",
    "time_features = df.filter(like='time')"
   ]
  },
  {
   "cell_type": "code",
   "execution_count": 21,
   "id": "a146df7c",
   "metadata": {},
   "outputs": [],
   "source": [
    "filled_sites = site_features.ffill()"
   ]
  },
  {
   "cell_type": "code",
   "execution_count": 22,
   "id": "cce0e8fb",
   "metadata": {},
   "outputs": [
    {
     "name": "stdout",
     "output_type": "stream",
     "text": [
      "site1       int64\n",
      "time1      object\n",
      "site2     float64\n",
      "time2      object\n",
      "site3     float64\n",
      "time3      object\n",
      "site4     float64\n",
      "time4      object\n",
      "site5     float64\n",
      "time5      object\n",
      "site6     float64\n",
      "time6      object\n",
      "site7     float64\n",
      "time7      object\n",
      "site8     float64\n",
      "time8      object\n",
      "site9     float64\n",
      "time9      object\n",
      "site10    float64\n",
      "time10     object\n",
      "dtype: object\n"
     ]
    }
   ],
   "source": [
    "# Проверяем типы данных до преобразования\n",
    "types_before = df.dtypes\n",
    "print(types_before)"
   ]
  },
  {
   "cell_type": "code",
   "execution_count": 23,
   "id": "12515621",
   "metadata": {},
   "outputs": [],
   "source": [
    "# Приводим все временные столбцы к типу datetime\n",
    "for column in df.columns:\n",
    "    if 'time' in column:\n",
    "        df[column] = pd.to_datetime(df[column], errors='coerce')"
   ]
  },
  {
   "cell_type": "code",
   "execution_count": 24,
   "id": "f2b325a0",
   "metadata": {},
   "outputs": [
    {
     "name": "stdout",
     "output_type": "stream",
     "text": [
      "site1              int64\n",
      "time1     datetime64[ns]\n",
      "site2            float64\n",
      "time2     datetime64[ns]\n",
      "site3            float64\n",
      "time3     datetime64[ns]\n",
      "site4            float64\n",
      "time4     datetime64[ns]\n",
      "site5            float64\n",
      "time5     datetime64[ns]\n",
      "site6            float64\n",
      "time6     datetime64[ns]\n",
      "site7            float64\n",
      "time7     datetime64[ns]\n",
      "site8            float64\n",
      "time8     datetime64[ns]\n",
      "site9            float64\n",
      "time9     datetime64[ns]\n",
      "site10           float64\n",
      "time10    datetime64[ns]\n",
      "dtype: object\n"
     ]
    }
   ],
   "source": [
    "# Проверяем типы данных после преобразования\n",
    "types_after = df.dtypes\n",
    "print(types_after)"
   ]
  },
  {
   "cell_type": "markdown",
   "id": "67c3338e",
   "metadata": {},
   "source": [
    "### 3. Кластеризация данных \n",
    "Поскольку в полученных данных нет меток, определяющих явно пользователя как обычного/аномального, нужно сформировать представление о данных. Необходимо произвести кластеризацию и посмотреть, какие метки и каким пользователям выдаёт алгоритм. Для этого:\n",
    "1. Обучите* на предобработанных данных алгоритм кластеризации `k-means` и получите метки кластеров. Известно ли в этом кейсе, сколько кластеров требуется для решения задачи? `Прокомментируйте`.\n",
    "\n",
    "*Перед кластеризацией временные признаки переведите в число и разделите на $10^9$, а затем прошкалируйте. Но при этом временные метки не удаляйте, а отложите в сторону для дальнейших действий."
   ]
  },
  {
   "cell_type": "code",
   "execution_count": 25,
   "id": "72db5d12",
   "metadata": {},
   "outputs": [],
   "source": [
    "from sklearn.preprocessing import StandardScaler\n",
    "\n",
    "\n",
    "# Преобразование временных меток в числовой формат\n",
    "time_columns = df.filter(like='time').columns\n",
    "time_data = df[time_columns].copy()\n",
    "for column in time_columns:\n",
    "    df[column] = pd.to_datetime(df[column]).astype(int) / 10**9"
   ]
  },
  {
   "cell_type": "code",
   "execution_count": 26,
   "id": "12ba2358",
   "metadata": {},
   "outputs": [],
   "source": [
    "from sklearn.impute import SimpleImputer\n",
    "imputer = SimpleImputer(strategy='mean')\n",
    "site_data = df.drop(columns=time_columns)\n",
    "# Заполняем пропуски в данных с сайтами\n",
    "site_data_imputed = imputer.fit_transform(site_data)"
   ]
  },
  {
   "cell_type": "code",
   "execution_count": 27,
   "id": "516cd4cc",
   "metadata": {},
   "outputs": [],
   "source": [
    "# Масштабируем данные\n",
    "scaler = StandardScaler()\n",
    "scaled_data = scaler.fit_transform(site_data_imputed)"
   ]
  },
  {
   "cell_type": "code",
   "execution_count": 28,
   "id": "98d73dd6",
   "metadata": {},
   "outputs": [
    {
     "data": {
      "image/png": "[encoded data removed]",
      "text/plain": [
       "<Figure size 1000x600 with 1 Axes>"
      ]
     },
     "metadata": {},
     "output_type": "display_data"
    }
   ],
   "source": [
    "from sklearn.cluster import KMeans\n",
    "import matplotlib.pyplot as plt\n",
    "\n",
    "inertia = []\n",
    "k_range = range(1, 11)\n",
    "\n",
    "for k in k_range:\n",
    "    kmeans = KMeans(n_clusters=k, random_state=42)\n",
    "    kmeans.fit(scaled_data)\n",
    "    inertia.append(kmeans.inertia_)\n",
    "\n",
    "plt.figure(figsize=(10, 6))\n",
    "plt.plot(k_range, inertia, marker='o')\n",
    "plt.xlabel('Количество кластеров')\n",
    "plt.ylabel('Inertia')\n",
    "plt.title('Метод локтя для определения числа кластеров')\n",
    "plt.grid()\n",
    "plt.show()"
   ]
  },
  {
   "cell_type": "code",
   "execution_count": 29,
   "id": "e00e1a08",
   "metadata": {},
   "outputs": [],
   "source": [
    "optimal_k = 3  # Замените на выбранное значение на основе метода локтя\n",
    "kmeans = KMeans(n_clusters=optimal_k, random_state=42)\n",
    "df['cluster'] = kmeans.fit_predict(scaled_data)"
   ]
  },
  {
   "cell_type": "markdown",
   "id": "15cd7292",
   "metadata": {},
   "source": [
    "```Количество кластеров заранее неизвестно, поэтому мы используем метод локтя для его определения.```"
   ]
  },
  {
   "cell_type": "markdown",
   "id": "ecf4c7c4",
   "metadata": {},
   "source": [
    "2. Обучите на предобработанных данных алгоритм кластеризации по плотности DBSCAN. Получите метки классов и сохраните в отдельный столбец данных."
   ]
  },
  {
   "cell_type": "code",
   "execution_count": 30,
   "id": "e5afd5f5",
   "metadata": {},
   "outputs": [],
   "source": [
    "# ваш код здесь"
   ]
  },
  {
   "cell_type": "markdown",
   "id": "33f6a79f",
   "metadata": {},
   "source": [
    "3. Пока достаточно трудно проанализировать результаты двух кластеризаций. У нас есть временные метки, которые могут помочь проанализировать результаты кластеризации. Воспользуйтесь методом конструирования признаков и добавьте в набор следующие фичи:\n",
    "   * час, когда пользователь зашёл на сайт;\n",
    "   * день недели, когда пользователь зашёл на сайт;\n",
    "   * бинарный признак, указывающий, что день был выходным днём;\n",
    "   * посчитать длительность сессии (разница времени между `site10` и `site1`);\n",
    "   * признак, сообщающий, первая или вторая половина часа, когда пользователь зашёл на сайт;\n",
    "   * придумать свои дополнительные признаки."
   ]
  },
  {
   "cell_type": "code",
   "execution_count": 31,
   "id": "74030d68",
   "metadata": {},
   "outputs": [],
   "source": [
    "# ваш код здесь"
   ]
  },
  {
   "cell_type": "markdown",
   "id": "2376d76d",
   "metadata": {},
   "source": [
    "4. Придумайте, как с помощью сконструированных признаков можно визуализировать разницу между кластерами. "
   ]
  },
  {
   "cell_type": "code",
   "execution_count": 32,
   "id": "3da9cc69",
   "metadata": {},
   "outputs": [],
   "source": [
    "# ваш код здесь"
   ]
  },
  {
   "cell_type": "markdown",
   "id": "21ee1787",
   "metadata": {},
   "source": [
    "5. Обучите алгоритмы кластеризации, но уже с добавлением полученных признаков. Снова постройте визуализации из пункта 4. `Внесли ли новые фичи изменения в результат кластеризации?`"
   ]
  },
  {
   "cell_type": "markdown",
   "id": "b691245e",
   "metadata": {},
   "source": [
    "## 4. Конструирование признаков (feature engineering)\n",
    "Полученных признаков мало, можно ещё добавить фичей. Например:\n",
    "1. попробуйте создать такой признак, который будет представлять собой число вида `ГГГГММ` от той даты, когда проходила сессия. Например, 201407 - 2014 год и 7 месяц. Таким образом, мы будем учитывать помесячный линейный тренд за весь период предоставленных данных;\n",
    "2. попробуйте намайнить признаки на основе словаря с сайтами: сформируйте `\"мешок\" сайтов`*. То есть необходимо создать новую матрицу, в которой строкам будут соответствовать сессии из 10 сайтов, а столбцам – индексы сайтов. На пересечении строки и столбца будет стоять число – количество раз, которое встретился сайт в сессии номер N. \n",
    "\n",
    "*Не используйте для второго задания `pandas` и `numpy`! Полученная матрица просто не влезет в память вашего компьютера. Вместо этого используйте класс <a href=https://scikit-learn.org/1.5/modules/generated/sklearn.feature_extraction.text.CountVectorizer.html>CountVectorizer</a> для создания матрицы."
   ]
  },
  {
   "cell_type": "code",
   "execution_count": 33,
   "id": "ba846867",
   "metadata": {},
   "outputs": [],
   "source": [
    "# ваш код здесь"
   ]
  },
  {
   "cell_type": "code",
   "execution_count": 34,
   "id": "d47c02bc",
   "metadata": {},
   "outputs": [],
   "source": [
    "# и можно ещё здесь"
   ]
  },
  {
   "cell_type": "code",
   "execution_count": 35,
   "id": "58a914d1",
   "metadata": {},
   "outputs": [],
   "source": [
    "# подсказка\n",
    "# CountVectorizer принимает на вход множество текстов,\n",
    "# поэтому вам необходимо последовательности индексов сайтов для одной сессии\n",
    "# склеить в строки\n",
    "# код ниже поможет\n",
    "def row_to_text(row):\n",
    "    return ' '.join(map(str, row))\n",
    "# функцию необходимо применить к каждой строке таблицы с последовательностями индексов"
   ]
  },
  {
   "cell_type": "markdown",
   "id": "b5534d4e",
   "metadata": {},
   "source": [
    "## Поиск аномальных пользователей"
   ]
  },
  {
   "cell_type": "markdown",
   "id": "d76f402c",
   "metadata": {},
   "source": [
    "На этом этапе у нас должны быть две матрицы: исходные признаки+новые фичи и матрица от CountVectorizer'a. \n",
    "1. Склейте две матрицы по вертикали;\n",
    "2. Произведите кластеризацию методами `k-means` и `dbscan` на обобщённых данных. Сохраните результаты кластеризации в отдельный датафрейм, в котором метки классов расставлены в соответствии с наблюдениями в исходных данных;"
   ]
  },
  {
   "cell_type": "code",
   "execution_count": 36,
   "id": "bb74ba10",
   "metadata": {},
   "outputs": [],
   "source": [
    "# ваш код здесь"
   ]
  },
  {
   "cell_type": "markdown",
   "id": "62192d99",
   "metadata": {},
   "source": [
    "3. Полученный набор данных многомерен. (`Сколько столбцов в полученной матрице?`) Однако хотелось бы визуализировать множество пользователей и попробовать разделить их на чёткие кластеры визуально. Посмотрите метод для понижения размерности, который называется методом стохастически вложенных соседей (<a href=https://nuancesprog.ru/p/14951/>t-SNE</a>) и примените его к вашим данным. Визуализируйте результат. `Видны ли чёткие границы кластеров?` "
   ]
  },
  {
   "cell_type": "code",
   "execution_count": 37,
   "id": "57c9ce07",
   "metadata": {},
   "outputs": [],
   "source": [
    "# ваш код здесь"
   ]
  },
  {
   "cell_type": "markdown",
   "id": "a35c3512",
   "metadata": {},
   "source": [
    "4. Попробуйте использовать модельные методы. Возьмите для начала метод опорных векторов с одним классом `One-Class SVM`. Установите параметр `kernel='linear` и сгенерируйте метки классов. Это позволит модели предполагать, что данные линейно разделимы. Поможет ли это предположение модели в идентификации аномального пользователя? Затем установите параметр `kernel='poly'`, что позволит создать модель, учитывающую нелинейные зависимости. Сгенерируйте метки классов. Пользуйтесь документацией библиотеки `scikit-learn`: [OneClassSVM - документация](https://scikit-learn.org/dev/modules/generated/sklearn.svm.OneClassSVM.html)"
   ]
  },
  {
   "cell_type": "code",
   "execution_count": 38,
   "id": "106d4d26",
   "metadata": {},
   "outputs": [],
   "source": [
    "# ваш код здесь"
   ]
  },
  {
   "cell_type": "markdown",
   "id": "f4652f36",
   "metadata": {},
   "source": [
    "5. После этого используйте более сложную модель изолирующего леса ([`Isolation Forest`](https://scikit-learn.ru/stable/modules/generated/sklearn.ensemble.IsolationForest.html#sklearn.ensemble.IsolationForest)). По своей работе он модель похожа на случайный лес, однако при этом стремится с помощью неглубоких деревьев отделить самые аномальные наблюдения от всей выборки. Подберите гиперпараметры модели вручную, сгенерируйте метки и сохраните их."
   ]
  },
  {
   "cell_type": "code",
   "execution_count": 39,
   "id": "b6674a9f",
   "metadata": {},
   "outputs": [],
   "source": [
    "# ваш код здесь"
   ]
  },
  {
   "cell_type": "markdown",
   "id": "17c5f98f",
   "metadata": {},
   "source": [
    "6. Проанализируйте полученные результаты работы модели. Используя визуализации в данных и допустимо ожидаемый процент аномалий, попытайтесь определить, какая модель справилась лучше. Сделайте выводы."
   ]
  },
  {
   "cell_type": "code",
   "execution_count": 40,
   "id": "52ed03e0",
   "metadata": {},
   "outputs": [],
   "source": [
    "# ваш код здесь"
   ]
  },
  {
   "cell_type": "markdown",
   "id": "23ed366c",
   "metadata": {},
   "source": [
    "7. Сохраните метки лучшей модели в файл csv (только колонку с ответами модели!) и отправьте вместе с этим отчётом мне в телегу."
   ]
  },
  {
   "cell_type": "code",
   "execution_count": null,
   "id": "9f774d8a",
   "metadata": {},
   "outputs": [],
   "source": []
  }
 ],
 "metadata": {
  "kernelspec": {
   "display_name": "Python 3",
   "language": "python",
   "name": "python3"
  },
  "language_info": {
   "codemirror_mode": {
    "name": "ipython",
    "version": 3
   },
   "file_extension": ".py",
   "mimetype": "text/x-python",
   "name": "python",
   "nbconvert_exporter": "python",
   "pygments_lexer": "ipython3",
   "version": "3.10.15"
  }
 },
 "nbformat": 4,
 "nbformat_minor": 5
}
