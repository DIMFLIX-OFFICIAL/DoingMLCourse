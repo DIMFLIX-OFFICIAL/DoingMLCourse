{
 "cells": [
  {
   "cell_type": "code",
   "execution_count": 1301,
   "metadata": {},
   "outputs": [],
   "source": [
    "import pandas as pd\n",
    "import matplotlib.pyplot as plt\n",
    "from sklearn.preprocessing import LabelEncoder\n",
    "\n",
    "df = pd.read_csv(\"data/housing.csv\")"
   ]
  },
  {
   "cell_type": "markdown",
   "metadata": {},
   "source": [
    "# Предпросмотр"
   ]
  },
  {
   "cell_type": "code",
   "execution_count": null,
   "metadata": {},
   "outputs": [],
   "source": [
    "df.head()"
   ]
  },
  {
   "cell_type": "code",
   "execution_count": null,
   "metadata": {},
   "outputs": [],
   "source": [
    "df.info()"
   ]
  },
  {
   "cell_type": "code",
   "execution_count": null,
   "metadata": {},
   "outputs": [],
   "source": [
    "df.describe().T"
   ]
  },
  {
   "cell_type": "markdown",
   "metadata": {},
   "source": [
    "# Обработка"
   ]
  },
  {
   "cell_type": "code",
   "execution_count": null,
   "metadata": {},
   "outputs": [],
   "source": [
    "df_cleaned = df.copy()\n",
    "\n",
    "##==> Список столбцов с аномальными значениями и значениями по которые нужно обрезать (консервативный метод)\n",
    "abnormal_columns = [(\"total_rooms\", 5000), (\"total_bedrooms\", 3000), (\"population\", 1000), (\"households\", 3000), (\"median_income\", 14)]\n",
    "\n",
    "for column, value in abnormal_columns:\n",
    "    df_cleaned.drop(index=df_cleaned[df_cleaned[column] > value].index, inplace=True)\n",
    "\n",
    "    ##==> Построение графиков для проверки наличия выбросов\n",
    "    ###########################################################\n",
    "    fig, axes = plt.subplots(nrows=1, ncols=2, figsize=(12, 6))\n",
    "\n",
    "    axes[0].boxplot(df[column], patch_artist=True)\n",
    "    axes[0].set_title('Before Removing Outliers')\n",
    "    axes[0].set_ylabel(column)\n",
    "    \n",
    "    axes[1].boxplot(df_cleaned[column], patch_artist=True)\n",
    "    axes[1].set_title('After Removing Outliers')\n",
    "    axes[1].set_ylabel(column)\n",
    "\n",
    "    plt.tight_layout()\n",
    "    plt.show()"
   ]
  },
  {
   "cell_type": "code",
   "execution_count": null,
   "metadata": {},
   "outputs": [],
   "source": [
    "##==> Описательная статистика после удаления выбросов\n",
    "############################################################\n",
    "df_cleaned.describe().T"
   ]
  },
  {
   "cell_type": "code",
   "execution_count": null,
   "metadata": {},
   "outputs": [],
   "source": [
    "df.duplicated().sum() # сумма дубликатов"
   ]
  },
  {
   "cell_type": "code",
   "execution_count": null,
   "metadata": {},
   "outputs": [],
   "source": [
    "df.isnull().sum()/df.shape[0] * 100 # процент пустот"
   ]
  },
  {
   "cell_type": "code",
   "execution_count": 1309,
   "metadata": {},
   "outputs": [],
   "source": [
    "df_cleaned.dropna(axis=0, inplace=True) # Удаляем None, т.к небольшой процент их не скажется никак на датасете\n",
    "\n",
    "##==> Преобразуем типы \n",
    "##############################################\n",
    "for i in [(\"total_rooms\", int), (\"total_bedrooms\", int), (\"population\", int), (\"households\", int), (\"housing_median_age\", int), (\"median_house_value\", int)]:\n",
    "    df_cleaned[i[0]] = df_cleaned[i[0]].astype(i[1])"
   ]
  },
  {
   "cell_type": "code",
   "execution_count": null,
   "metadata": {},
   "outputs": [],
   "source": [
    "##==> Кодируем категориальные признаки\n",
    "##############################################\n",
    "le = LabelEncoder()\n",
    "encoded = le.fit_transform(df_cleaned['ocean_proximity'])\n",
    "df_cleaned['ocean_proximity'] = encoded\n",
    "\n",
    "\n",
    "label_dict = {category: code for category, code in zip(le.classes_, range(len(le.classes_)))}\n",
    "print(\"Label dictionary (ocean_proximity):\", label_dict)"
   ]
  },
  {
   "cell_type": "code",
   "execution_count": null,
   "metadata": {},
   "outputs": [],
   "source": [
    "df_cleaned.head()"
   ]
  }
 ],
 "metadata": {
  "kernelspec": {
   "display_name": ".venv",
   "language": "python",
   "name": "python3"
  },
  "language_info": {
   "codemirror_mode": {
    "name": "ipython",
    "version": 3
   },
   "file_extension": ".py",
   "mimetype": "text/x-python",
   "name": "python",
   "nbconvert_exporter": "python",
   "pygments_lexer": "ipython3",
   "version": "3.11.10"
  }
 },
 "nbformat": 4,
 "nbformat_minor": 2
}
