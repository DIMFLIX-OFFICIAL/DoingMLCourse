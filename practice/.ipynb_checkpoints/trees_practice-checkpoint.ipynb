{
 "cells": [
  {
   "cell_type": "markdown",
   "metadata": {},
   "source": [
    "# Домашнее задание по деревьям принятия решений\n",
    "Задача кредитного скоринга - одна из наиболее популярных областей, где применяются алгоритмы машинного обучения.<br>\n",
    "Здесь мы будет прогнозировать, что человек просрочит выплаты по кредиту на 3 месяца и более (целевой признак - Delinquent90).<br>\n",
    "В качестве метрики была выбрана AUC (Area Under Curve)."
   ]
  },
  {
   "cell_type": "markdown",
   "metadata": {},
   "source": [
    "Признаки клиентов банка:\n",
    "- Age - возраст (вещественный)\n",
    "- Income - месячный доход (вещественный)\n",
    "- BalanceToCreditLimit - отношение баланса на кредитной карте к лимиту по кредиту (вещественный)\n",
    "- DIR - Debt-to-income Ratio (вещественный)\n",
    "- NumLoans - число заемов и кредитных линий\n",
    "- NumRealEstateLoans - число ипотек и заемов, связанных с недвижимостью (натуральное число)\n",
    "- NumDependents - число членов семьи, которых содержит клиент, исключая самого клиента (натуральное число)\n",
    "- Num30-59Delinquencies - число просрочек выплат по кредиту от 30 до 59 дней (натуральное число)\n",
    "- Num60-89Delinquencies - число просрочек выплат по кредиту от 60 до 89 дней (натуральное число)\n",
    "- Delinquent90 - были ли просрочки выплат по кредиту более 90 дней (бинарный) - имеется только в обучающей выборке"
   ]
  },
  {
   "cell_type": "markdown",
   "metadata": {},
   "source": [
    "## 1. Обучение дерева принятия решений\n",
    "## 1.1 Подгрузка библиотек и инициализация вспомогательных функций"
   ]
  },
  {
   "cell_type": "code",
   "execution_count": 1,
   "metadata": {},
   "outputs": [],
   "source": [
    "import warnings\n",
    "warnings.filterwarnings('ignore')\n",
    "import numpy as np\n",
    "import pandas as pd\n",
    "import matplotlib.pyplot as plt\n",
    "import seaborn as sns\n",
    "from sklearn.tree import DecisionTreeClassifier, plot_tree\n",
    "from sklearn.model_selection import GridSearchCV, train_test_split\n",
    "from sklearn.metrics import confusion_matrix"
   ]
  },
  {
   "cell_type": "code",
   "execution_count": 2,
   "metadata": {},
   "outputs": [],
   "source": [
    "from sklearn.metrics import accuracy_score, precision_score, recall_score, f1_score\n",
    "from sklearn.metrics import roc_auc_score, roc_curve\n",
    "\n",
    "# функция, выдающая базовые метрики классификации\n",
    "def quality_report(prediction, actual):\n",
    "    print(\"Accuracy: {:.3f}\\nPrecision: {:.3f}\\nRecall: {:.3f}\\nf1_score: {:.3f}\".format(\n",
    "        accuracy_score(prediction, actual),\n",
    "        precision_score(prediction, actual),\n",
    "        recall_score(prediction, actual),\n",
    "        f1_score(prediction, actual)\n",
    "    ))\n",
    "    \n",
    "# функция для отрисовки roc-кривой и подсчёта \n",
    "def plot_roc_curve(prob_prediction, actual):\n",
    "    fpr, tpr, thresholds = roc_curve(y_test, prob_prediction)\n",
    "    auc_score = roc_auc_score(y_test, prob_prediction)\n",
    "    \n",
    "    plt.plot(fpr, tpr, label='ROC curve ')\n",
    "    plt.plot([0, 1], [0, 1])\n",
    "    plt.xlim([0.0, 1.0])\n",
    "    plt.ylim([0.0, 1.05])\n",
    "    plt.xlabel('False Positive Rate')\n",
    "    plt.ylabel('True Positive Rate')\n",
    "    plt.title('ROC AUC: {:.3f}'.format(auc_score))\n",
    "    plt.show()"
   ]
  },
  {
   "cell_type": "markdown",
   "metadata": {},
   "source": [
    "## 1.2 Загрузка данных"
   ]
  },
  {
   "cell_type": "code",
   "execution_count": 3,
   "metadata": {},
   "outputs": [],
   "source": [
    "train_df = pd.read_csv('../data/credit_scoring_train.csv', index_col='client_id')\n",
    "test_df = pd.read_csv('../data/credit_scoring_test.csv', index_col='client_id')"
   ]
  },
  {
   "cell_type": "code",
   "execution_count": 4,
   "metadata": {},
   "outputs": [
    {
     "data": {
      "text/plain": [
       "(75000, 10)"
      ]
     },
     "execution_count": 4,
     "metadata": {},
     "output_type": "execute_result"
    }
   ],
   "source": [
    "# размер тренировочного набора\n",
    "train_df.shape"
   ]
  },
  {
   "cell_type": "code",
   "execution_count": 5,
   "metadata": {},
   "outputs": [
    {
     "data": {
      "text/html": [
       "<div>\n",
       "<style scoped>\n",
       "    .dataframe tbody tr th:only-of-type {\n",
       "        vertical-align: middle;\n",
       "    }\n",
       "\n",
       "    .dataframe tbody tr th {\n",
       "        vertical-align: top;\n",
       "    }\n",
       "\n",
       "    .dataframe thead th {\n",
       "        text-align: right;\n",
       "    }\n",
       "</style>\n",
       "<table border=\"1\" class=\"dataframe\">\n",
       "  <thead>\n",
       "    <tr style=\"text-align: right;\">\n",
       "      <th></th>\n",
       "      <th>DIR</th>\n",
       "      <th>Age</th>\n",
       "      <th>NumLoans</th>\n",
       "      <th>NumRealEstateLoans</th>\n",
       "      <th>NumDependents</th>\n",
       "      <th>Num30-59Delinquencies</th>\n",
       "      <th>Num60-89Delinquencies</th>\n",
       "      <th>Income</th>\n",
       "      <th>BalanceToCreditLimit</th>\n",
       "      <th>Delinquent90</th>\n",
       "    </tr>\n",
       "    <tr>\n",
       "      <th>client_id</th>\n",
       "      <th></th>\n",
       "      <th></th>\n",
       "      <th></th>\n",
       "      <th></th>\n",
       "      <th></th>\n",
       "      <th></th>\n",
       "      <th></th>\n",
       "      <th></th>\n",
       "      <th></th>\n",
       "      <th></th>\n",
       "    </tr>\n",
       "  </thead>\n",
       "  <tbody>\n",
       "    <tr>\n",
       "      <th>0</th>\n",
       "      <td>0.496289</td>\n",
       "      <td>49.1</td>\n",
       "      <td>13</td>\n",
       "      <td>0</td>\n",
       "      <td>0.0</td>\n",
       "      <td>2</td>\n",
       "      <td>0</td>\n",
       "      <td>5298.360639</td>\n",
       "      <td>0.387028</td>\n",
       "      <td>0</td>\n",
       "    </tr>\n",
       "    <tr>\n",
       "      <th>1</th>\n",
       "      <td>0.433567</td>\n",
       "      <td>48.0</td>\n",
       "      <td>9</td>\n",
       "      <td>2</td>\n",
       "      <td>2.0</td>\n",
       "      <td>1</td>\n",
       "      <td>0</td>\n",
       "      <td>6008.056256</td>\n",
       "      <td>0.234679</td>\n",
       "      <td>0</td>\n",
       "    </tr>\n",
       "    <tr>\n",
       "      <th>2</th>\n",
       "      <td>2206.731199</td>\n",
       "      <td>55.5</td>\n",
       "      <td>21</td>\n",
       "      <td>1</td>\n",
       "      <td>NaN</td>\n",
       "      <td>1</td>\n",
       "      <td>0</td>\n",
       "      <td>NaN</td>\n",
       "      <td>0.348227</td>\n",
       "      <td>0</td>\n",
       "    </tr>\n",
       "    <tr>\n",
       "      <th>3</th>\n",
       "      <td>886.132793</td>\n",
       "      <td>55.3</td>\n",
       "      <td>3</td>\n",
       "      <td>0</td>\n",
       "      <td>0.0</td>\n",
       "      <td>0</td>\n",
       "      <td>0</td>\n",
       "      <td>NaN</td>\n",
       "      <td>0.971930</td>\n",
       "      <td>0</td>\n",
       "    </tr>\n",
       "    <tr>\n",
       "      <th>4</th>\n",
       "      <td>0.000000</td>\n",
       "      <td>52.3</td>\n",
       "      <td>1</td>\n",
       "      <td>0</td>\n",
       "      <td>0.0</td>\n",
       "      <td>0</td>\n",
       "      <td>0</td>\n",
       "      <td>2504.613105</td>\n",
       "      <td>1.004350</td>\n",
       "      <td>0</td>\n",
       "    </tr>\n",
       "  </tbody>\n",
       "</table>\n",
       "</div>"
      ],
      "text/plain": [
       "                   DIR   Age  NumLoans  NumRealEstateLoans  NumDependents  \\\n",
       "client_id                                                                   \n",
       "0             0.496289  49.1        13                   0            0.0   \n",
       "1             0.433567  48.0         9                   2            2.0   \n",
       "2          2206.731199  55.5        21                   1            NaN   \n",
       "3           886.132793  55.3         3                   0            0.0   \n",
       "4             0.000000  52.3         1                   0            0.0   \n",
       "\n",
       "           Num30-59Delinquencies  Num60-89Delinquencies       Income  \\\n",
       "client_id                                                              \n",
       "0                              2                      0  5298.360639   \n",
       "1                              1                      0  6008.056256   \n",
       "2                              1                      0          NaN   \n",
       "3                              0                      0          NaN   \n",
       "4                              0                      0  2504.613105   \n",
       "\n",
       "           BalanceToCreditLimit  Delinquent90  \n",
       "client_id                                      \n",
       "0                      0.387028             0  \n",
       "1                      0.234679             0  \n",
       "2                      0.348227             0  \n",
       "3                      0.971930             0  \n",
       "4                      1.004350             0  "
      ]
     },
     "execution_count": 5,
     "metadata": {},
     "output_type": "execute_result"
    }
   ],
   "source": [
    "# бегло вглянем на данные в тренировочном наборе\n",
    "train_df.head()"
   ]
  },
  {
   "cell_type": "markdown",
   "metadata": {},
   "source": [
    "В данных наблюдаются пропуски. Необходимо посчитать для каждого признака, сколько информации утеряно, и принять решение о методе обработки пропущенных значений."
   ]
  },
  {
   "cell_type": "code",
   "execution_count": 6,
   "metadata": {},
   "outputs": [
    {
     "name": "stdout",
     "output_type": "stream",
     "text": [
      "<class 'pandas.core.frame.DataFrame'>\n",
      "Int64Index: 75000 entries, 0 to 74999\n",
      "Data columns (total 10 columns):\n",
      " #   Column                 Non-Null Count  Dtype  \n",
      "---  ------                 --------------  -----  \n",
      " 0   DIR                    75000 non-null  float64\n",
      " 1   Age                    75000 non-null  float64\n",
      " 2   NumLoans               75000 non-null  int64  \n",
      " 3   NumRealEstateLoans     75000 non-null  int64  \n",
      " 4   NumDependents          73084 non-null  float64\n",
      " 5   Num30-59Delinquencies  75000 non-null  int64  \n",
      " 6   Num60-89Delinquencies  75000 non-null  int64  \n",
      " 7   Income                 60153 non-null  float64\n",
      " 8   BalanceToCreditLimit   75000 non-null  float64\n",
      " 9   Delinquent90           75000 non-null  int64  \n",
      "dtypes: float64(5), int64(5)\n",
      "memory usage: 6.3 MB\n"
     ]
    }
   ],
   "source": [
    "train_df.info()"
   ]
  },
  {
   "cell_type": "markdown",
   "metadata": {},
   "source": [
    "Атрибуты таблицы с тренировочными данными представлены в численном виде, обработка типов для признаков не требуется."
   ]
  },
  {
   "cell_type": "markdown",
   "metadata": {},
   "source": [
    "## 1.3 Предобработка данных\n",
    "### 1.3.1 Обработка пропусков и невалидных значений"
   ]
  },
  {
   "cell_type": "code",
   "execution_count": 7,
   "metadata": {},
   "outputs": [
    {
     "data": {
      "text/plain": [
       "DIR                       0.000000\n",
       "Age                       0.000000\n",
       "NumLoans                  0.000000\n",
       "NumRealEstateLoans        0.000000\n",
       "NumDependents             2.554667\n",
       "Num30-59Delinquencies     0.000000\n",
       "Num60-89Delinquencies     0.000000\n",
       "Income                   19.796000\n",
       "BalanceToCreditLimit      0.000000\n",
       "Delinquent90              0.000000\n",
       "dtype: float64"
      ]
     },
     "execution_count": 7,
     "metadata": {},
     "output_type": "execute_result"
    }
   ],
   "source": [
    "# посмотрим, сколько всего пропусков в каждом атрибуте в %\n",
    "train_df.isnull().sum() / train_df.shape[0] * 100"
   ]
  },
  {
   "cell_type": "code",
   "execution_count": 8,
   "metadata": {},
   "outputs": [
    {
     "data": {
      "text/plain": [
       "DIR                      0.000000\n",
       "Age                      0.000000\n",
       "NumLoans                 0.000000\n",
       "NumRealEstateLoans       0.000000\n",
       "NumDependents            0.026773\n",
       "Num30-59Delinquencies    0.000000\n",
       "Num60-89Delinquencies    0.000000\n",
       "Income                   0.198453\n",
       "BalanceToCreditLimit     0.000000\n",
       "dtype: float64"
      ]
     },
     "execution_count": 8,
     "metadata": {},
     "output_type": "execute_result"
    }
   ],
   "source": [
    "test_df.isnull().sum() / test_df.shape[0]"
   ]
  },
  {
   "cell_type": "markdown",
   "metadata": {},
   "source": [
    "В тренировочном наборе наблюдаются невалидные значения: \n",
    "- 2.5% в атрибуте NumDependents;\n",
    "- 19.7% в атрибуте Income\n",
    "\n",
    "В тестовом наборе также присутствуют пропущенные значения:\n",
    "- менее 1% в атрибуте NumDependents\n",
    "- менее 1% в атрибуте Income\n",
    "\n",
    "Записи с невалидными значениями можно было бы удалить, но, на мой взгляд, удаление будет критичным, поскольку у нас всего 75_000 записей в тренировочном наборе. После разделения на тренировочный и валидационный датасеты их станет ещё меньше. \n",
    "\n",
    "Также пропуски можно было бы заполнить одним значением, но в атрибуте Income потеря информации составляет около 20% ($\\frac{1}{5}$ ), есть риск, что этим действием я внесу лишние зависимости в данные. <b>На основе этих выводов,</b> я принимаю решение заполнить пропуски в данных с помощью алгоритма машинного обучения через модуль nona."
   ]
  },
  {
   "cell_type": "code",
   "execution_count": 11,
   "metadata": {},
   "outputs": [
    {
     "name": "stdout",
     "output_type": "stream",
     "text": [
      "Requirement already satisfied: nona in c:\\users\\admin\\appdata\\local\\programs\\python\\python39\\lib\\site-packages (0.0.2)\n",
      "Requirement already satisfied: pandas>=1 in c:\\users\\admin\\appdata\\local\\programs\\python\\python39\\lib\\site-packages (from nona) (2.1.0)\n",
      "Requirement already satisfied: numpy>=1 in c:\\users\\admin\\appdata\\local\\programs\\python\\python39\\lib\\site-packages (from nona) (1.25.2)\n",
      "Requirement already satisfied: scikit-learn>=1 in c:\\users\\admin\\appdata\\local\\programs\\python\\python39\\lib\\site-packages (from nona) (1.3.0)\n",
      "Requirement already satisfied: tqdm>=4 in c:\\users\\admin\\appdata\\local\\programs\\python\\python39\\lib\\site-packages (from nona) (4.66.1)\n",
      "Requirement already satisfied: python-dateutil>=2.8.2 in c:\\users\\admin\\appdata\\roaming\\python\\python39\\site-packages (from pandas>=1->nona) (2.8.2)\n",
      "Requirement already satisfied: pytz>=2020.1 in c:\\users\\admin\\appdata\\local\\programs\\python\\python39\\lib\\site-packages (from pandas>=1->nona) (2023.3.post1)\n",
      "Requirement already satisfied: tzdata>=2022.1 in c:\\users\\admin\\appdata\\local\\programs\\python\\python39\\lib\\site-packages (from pandas>=1->nona) (2023.3)\n",
      "Requirement already satisfied: scipy>=1.5.0 in c:\\users\\admin\\appdata\\local\\programs\\python\\python39\\lib\\site-packages (from scikit-learn>=1->nona) (1.11.2)\n",
      "Requirement already satisfied: joblib>=1.1.1 in c:\\users\\admin\\appdata\\local\\programs\\python\\python39\\lib\\site-packages (from scikit-learn>=1->nona) (1.3.2)\n",
      "Requirement already satisfied: threadpoolctl>=2.0.0 in c:\\users\\admin\\appdata\\local\\programs\\python\\python39\\lib\\site-packages (from scikit-learn>=1->nona) (3.2.0)\n",
      "Requirement already satisfied: colorama in c:\\users\\admin\\appdata\\roaming\\python\\python39\\site-packages (from tqdm>=4->nona) (0.4.6)\n",
      "Requirement already satisfied: six>=1.5 in c:\\users\\admin\\appdata\\roaming\\python\\python39\\site-packages (from python-dateutil>=2.8.2->pandas>=1->nona) (1.16.0)\n"
     ]
    }
   ],
   "source": [
    "!pip install nona"
   ]
  },
  {
   "cell_type": "code",
   "execution_count": 19,
   "metadata": {},
   "outputs": [
    {
     "ename": "NameError",
     "evalue": "name 'nona' is not defined",
     "output_type": "error",
     "traceback": [
      "\u001b[1;31m---------------------------------------------------------------------------\u001b[0m",
      "\u001b[1;31mNameError\u001b[0m                                 Traceback (most recent call last)",
      "Cell \u001b[1;32mIn[19], line 1\u001b[0m\n\u001b[1;32m----> 1\u001b[0m \u001b[43mnona\u001b[49m(train_df)\n",
      "\u001b[1;31mNameError\u001b[0m: name 'nona' is not defined"
     ]
    }
   ],
   "source": [
    "nona(train_df)"
   ]
  },
  {
   "cell_type": "code",
   "execution_count": null,
   "metadata": {},
   "outputs": [],
   "source": [
    "X_train, X_test, y_train, y_test = train_test_split(\n",
    "    train_df.drop(['Delinquent90'], axis=1), \n",
    "    train_df['Delinquent90'], \n",
    "    test_size=0.20, \n",
    "    random_state=42, \n",
    "    stratify=train_df['Delinquent90']\n",
    ")"
   ]
  },
  {
   "cell_type": "code",
   "execution_count": null,
   "metadata": {},
   "outputs": [],
   "source": [
    "y_train.value_counts(normalize=True)"
   ]
  },
  {
   "cell_type": "code",
   "execution_count": null,
   "metadata": {},
   "outputs": [],
   "source": [
    "y_test.value_counts(normalize=True)"
   ]
  },
  {
   "cell_type": "code",
   "execution_count": null,
   "metadata": {},
   "outputs": [],
   "source": [
    "X_train.hist(figsize=(15, 10));"
   ]
  },
  {
   "cell_type": "code",
   "execution_count": null,
   "metadata": {},
   "outputs": [],
   "source": [
    "# sns.pairplot(X_train, hue='Delinquent90');"
   ]
  },
  {
   "cell_type": "markdown",
   "metadata": {},
   "source": [
    "### Baseline"
   ]
  },
  {
   "cell_type": "code",
   "execution_count": null,
   "metadata": {},
   "outputs": [],
   "source": [
    "y_naive = np.random.choice([0, 1], size=y_test.shape[0], p=y_train.value_counts(normalize=True))"
   ]
  },
  {
   "cell_type": "code",
   "execution_count": null,
   "metadata": {},
   "outputs": [],
   "source": [
    "quality_report(y_naive, y_test)"
   ]
  },
  {
   "cell_type": "code",
   "execution_count": null,
   "metadata": {},
   "outputs": [],
   "source": [
    "plot_roc_curve(y_naive, y_test)"
   ]
  },
  {
   "cell_type": "markdown",
   "metadata": {},
   "source": [
    "### Дерево решений без настройки параметров"
   ]
  },
  {
   "cell_type": "code",
   "execution_count": null,
   "metadata": {},
   "outputs": [],
   "source": [
    "first_tree = DecisionTreeClassifier(max_depth=3, random_state=42)\n",
    "first_tree.fit(X_train, y_train)"
   ]
  },
  {
   "cell_type": "code",
   "execution_count": null,
   "metadata": {},
   "outputs": [],
   "source": [
    "print(\"Train quality\")\n",
    "quality_report(first_tree.predict(X_train), y_train)\n",
    "\n",
    "print(\"\\nTest quality\")\n",
    "quality_report(first_tree.predict(X_test), y_test)"
   ]
  },
  {
   "cell_type": "code",
   "execution_count": null,
   "metadata": {},
   "outputs": [],
   "source": [
    "plot_roc_curve(first_tree.predict_proba(X_test)[:, 1], y_test)"
   ]
  },
  {
   "cell_type": "code",
   "execution_count": null,
   "metadata": {},
   "outputs": [],
   "source": [
    "featureImportance = pd.DataFrame({\"feature\": X_train.columns, \n",
    "                                  \"importance\": first_tree.feature_importances_})\n",
    "\n",
    "featureImportance.set_index('feature', inplace=True)\n",
    "featureImportance.sort_values([\"importance\"], ascending=False, inplace=True)\n",
    "featureImportance[\"importance\"].plot('bar');"
   ]
  },
  {
   "cell_type": "code",
   "execution_count": null,
   "metadata": {},
   "outputs": [],
   "source": [
    "graph = Source(sklearn.tree.export_graphviz(first_tree, out_file=None, feature_names=X_train.columns))\n",
    "png_bytes = graph.pipe(format='png')\n",
    "with open('dtree_pipe.png','wb') as f:\n",
    "    f.write(png_bytes)\n",
    "\n",
    "from IPython.display import Image\n",
    "Image(png_bytes)"
   ]
  },
  {
   "cell_type": "markdown",
   "metadata": {},
   "source": [
    "**Прогноз для тестовой выборки.**"
   ]
  },
  {
   "cell_type": "code",
   "execution_count": null,
   "metadata": {},
   "outputs": [],
   "source": [
    "first_tree_pred = first_tree.predict(test_df)"
   ]
  },
  {
   "cell_type": "code",
   "execution_count": null,
   "metadata": {},
   "outputs": [],
   "source": [
    "np.bincount(first_tree_pred)"
   ]
  },
  {
   "cell_type": "markdown",
   "metadata": {},
   "source": [
    "**Запишем прогноз в файл.**"
   ]
  },
  {
   "cell_type": "code",
   "execution_count": null,
   "metadata": {},
   "outputs": [],
   "source": [
    "def write_to_submission_file(predicted_labels, out_file,\n",
    "                             target='Delinquent90', index_label=\"client_id\"):\n",
    "    # turn predictions into data frame and save as csv file\n",
    "    predicted_df = pd.DataFrame(predicted_labels,\n",
    "                                index = np.arange(75000, \n",
    "                                                  predicted_labels.shape[0] + 75000),\n",
    "                                columns=[target])\n",
    "    predicted_df.to_csv(out_file, index_label=index_label)"
   ]
  },
  {
   "cell_type": "code",
   "execution_count": null,
   "metadata": {},
   "outputs": [],
   "source": [
    "first_tree_pred_probs = first_tree.predict_proba(test_df)[:, 1]"
   ]
  },
  {
   "cell_type": "code",
   "execution_count": null,
   "metadata": {},
   "outputs": [],
   "source": [
    "write_to_submission_file(first_tree_pred_probs, 'credit_scoring_first_tree_prob.csv')"
   ]
  },
  {
   "cell_type": "markdown",
   "metadata": {},
   "source": [
    "## Дерево решений с настройкой параметров с помощью GridSearch"
   ]
  },
  {
   "cell_type": "code",
   "execution_count": null,
   "metadata": {},
   "outputs": [],
   "source": [
    "tree_params = {\n",
    "               'max_depth': list(range(3,11)), \n",
    "               'min_samples_leaf': list(range(3,11)),\n",
    "               'class_weight': [None, 'balanced']\n",
    "}\n",
    "\n",
    "locally_best_tree = GridSearchCV(DecisionTreeClassifier(random_state=42), \n",
    "                                 tree_params, \n",
    "                                 verbose=True, n_jobs=-1, cv=5,\n",
    "                                scoring='roc_auc')\n",
    "locally_best_tree.fit(X_train, y_train)"
   ]
  },
  {
   "cell_type": "code",
   "execution_count": null,
   "metadata": {},
   "outputs": [],
   "source": [
    "locally_best_tree.best_params_, round(locally_best_tree.best_score_, 3)"
   ]
  },
  {
   "cell_type": "code",
   "execution_count": null,
   "metadata": {},
   "outputs": [],
   "source": [
    "quality_report(locally_best_tree.predict(X_test), y_test)"
   ]
  },
  {
   "cell_type": "code",
   "execution_count": null,
   "metadata": {},
   "outputs": [],
   "source": [
    "plot_roc_curve(locally_best_tree.predict_proba(X_test)[:, 1], y_test)"
   ]
  },
  {
   "cell_type": "code",
   "execution_count": null,
   "metadata": {},
   "outputs": [],
   "source": [
    "featureImportance = pd.DataFrame({\"feature\": X_train.columns, \n",
    "                                  \"importance\": locally_best_tree.best_estimator_.feature_importances_})\n",
    "\n",
    "featureImportance.set_index('feature', inplace=True)\n",
    "featureImportance.sort_values([\"importance\"], ascending=False, inplace=True)\n",
    "featureImportance[\"importance\"].plot('bar');"
   ]
  },
  {
   "cell_type": "code",
   "execution_count": null,
   "metadata": {},
   "outputs": [],
   "source": [
    "graph = Source(sklearn.tree.export_graphviz(\n",
    "    locally_best_tree.best_estimator_, out_file=None, feature_names=X_train.columns))\n",
    "png_bytes = graph.pipe(format='png')\n",
    "with open('big_tree.png','wb') as f:\n",
    "    f.write(png_bytes)\n",
    "\n",
    "from IPython.display import Image\n",
    "Image(png_bytes)"
   ]
  },
  {
   "cell_type": "code",
   "execution_count": null,
   "metadata": {},
   "outputs": [],
   "source": [
    "cm = confusion_matrix(y_test, locally_best_tree.predict(X_test))\n",
    "conf_matrix = pd.DataFrame(data = cm, columns = ['Predicted:0','Predicted:1'], index=['Actual:0','Actual:1'])\n",
    "plt.figure(figsize = (5,5))\n",
    "sns.heatmap(conf_matrix, annot=True,fmt='d',cmap=\"YlGnBu\", cbar=False);"
   ]
  },
  {
   "cell_type": "code",
   "execution_count": null,
   "metadata": {},
   "outputs": [],
   "source": []
  }
 ],
 "metadata": {
  "anaconda-cloud": {},
  "kernelspec": {
   "display_name": "Python 3 (ipykernel)",
   "language": "python",
   "name": "python3"
  },
  "language_info": {
   "codemirror_mode": {
    "name": "ipython",
    "version": 3
   },
   "file_extension": ".py",
   "mimetype": "text/x-python",
   "name": "python",
   "nbconvert_exporter": "python",
   "pygments_lexer": "ipython3",
   "version": "3.9.7"
  },
  "varInspector": {
   "cols": {
    "lenName": 16,
    "lenType": 16,
    "lenVar": 40
   },
   "kernels_config": {
    "python": {
     "delete_cmd_postfix": "",
     "delete_cmd_prefix": "del ",
     "library": "var_list.py",
     "varRefreshCmd": "print(var_dic_list())"
    },
    "r": {
     "delete_cmd_postfix": ") ",
     "delete_cmd_prefix": "rm(",
     "library": "var_list.r",
     "varRefreshCmd": "cat(var_dic_list()) "
    }
   },
   "types_to_exclude": [
    "module",
    "function",
    "builtin_function_or_method",
    "instance",
    "_Feature"
   ],
   "window_display": false
  }
 },
 "nbformat": 4,
 "nbformat_minor": 1
}
