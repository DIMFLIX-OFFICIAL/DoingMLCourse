{
 "cells": [
  {
   "cell_type": "markdown",
   "metadata": {
    "id": "kk8kJPw7kQoS"
   },
   "source": [
    "# Практическая работа\n",
    "# Компьютерное зрение\n",
    "# Обучение с передачей знаний для распознавания повреждений глазной сетчатки\n",
    "## Преамбула\n",
    "В этой практической работе вы попробуете построить модель глубокой нейронной сети для определения класса повреждения глазной сетчатки по снимкам ОКТ.\n",
    "\n",
    "Однако, глубокие нейронные сети требовательны к большим объемам данных для сходимости обучения. И зачастую в нашей частной задаче недостаточно данных для того, чтобы хорошо натренировать все слои нейросети. `Transfer Learning` (`обучение переносом`) решает эту проблему.\n",
    "\n",
    "`Transfer Learning` (`трансферное обучение`) — это подраздел машинного обучения, целью которого является применение знаний, полученные из одной задачи, к другой целевой задаче.\n",
    "\n",
    "Для таких типовых задач, как классификация изображений, можно воспользоваться готовой архитектурой (AlexNet, VGG, Inception, ResNet и т.д.) и обучить нейросеть на своих данных. Реализации таких сетей с помощью различных фреймворков уже существуют, так что в этой работе мы будем использовать одну из них как черный ящик, не вникая глубоко в принцип её работы.\n",
    "\n",
    "Нейронные сети, которые используются для классификации, как правило, содержат $N$ выходных нейронов в последнем слое, где $N$ — это количество классов. Такой выходной вектор трактуется как набор вероятностей принадлежности к классу. В нашей задаче количество классов может отличаться от того, которое было в исходном датасете. В таком случае нам придётся полностью выкинуть этот последний слой и поставить новый, с нужным количеством выходных нейронов.\n",
    "\n",
    "![Текст ссылки](https://habrastorage.org/r/w1560/webt/u_/n3/k3/u_n3k3qpkps6nw9tjjzwc0njl-y.jpeg)\n",
    "\n",
    "[Вспомогательные материалы](https://pytorch.org/tutorials/beginner/transfer_learning_tutorial.html)\n",
    "\n",
    "## Данные\n",
    "\n",
    "`Оптическая когерентная томография сетчатки (ОКТ)` $-$ это метод визуализации, используемый для получения поперечных срезов сетчатки живых пациентов с высоким разрешением. Ежегодно выполняется около 30 миллионов ОКТ-сканирований, и анализ и интерпретация этих изображений занимает значительное количество времени (Swanson and Fujimoto, 2017).\n",
    "\n",
    "![Текст ссылки](https://i.imgur.com/fSTeZMd.png)\n",
    "\n",
    "На рисунке представлены классы повреждений сетчатки:\n",
    "\n",
    "* (Крайний слева) неоваскуляризация хориоидеи (CNV) с неоваскулярной мембраной (белые стрелки) и связанной с ней субретинальной жидкостью (стрелки);\n",
    "* (Средний слева) Диабетический макулярный отек (ДМЭ) с интраретинальной жидкостью, связанной с утолщением сетчатки (стрелки);\n",
    "* (Справа посередине) Множественные друзы (наконечники стрел) присутствуют на ранних стадиях ВМД;\n",
    "*(Крайний справа) Нормальная сетчатка с сохраненным контуром ямки и отсутствием какой-либо жидкости / отека сетчатки.\n",
    "\n",
    "В этой задаче вы будете работать действительно с большим набором данных. Код для скачивания данных представлен ниже. Скачивание занимает в среднем 5 минут."
   ]
  },
  {
   "cell_type": "code",
   "execution_count": null,
   "metadata": {
    "colab": {
     "base_uri": "https://localhost:8080/"
    },
    "id": "i2W0iSfVkOeq",
    "outputId": "9b86fc1d-c7ad-4b70-879a-b6e1e5d61553"
   },
   "outputs": [],
   "source": [
    "import kagglehub\n",
    "\n",
    "# Download latest version\n",
    "path = kagglehub.dataset_download(\"paultimothymooney/kermany2018\")\n",
    "\n",
    "print(\"Path to dataset files:\", path)"
   ]
  },
  {
   "cell_type": "code",
   "execution_count": null,
   "metadata": {
    "colab": {
     "base_uri": "https://localhost:8080/"
    },
    "id": "vwMFWyugl676",
    "outputId": "3295bd05-fe02-4ca5-d1d3-c328faee6561"
   },
   "outputs": [],
   "source": [
    "import os # модуль для работы с операционной системой\n",
    "os.listdir(path) # возвращает список вложенных в директорию с указанным путем объектов"
   ]
  },
  {
   "cell_type": "markdown",
   "metadata": {
    "id": "sFKBn6eIujlH"
   },
   "source": [
    "Выберите директорию `OCT2017`. Лежащие в ней данные используйте для выполнения заданий.\n",
    "Набор данных уже разделён на три выборки: `train`, `val` и `test`. Первые два поднабора будут использоваться для обучения, один $-$ для тестирования."
   ]
  },
  {
   "cell_type": "code",
   "execution_count": null,
   "metadata": {
    "colab": {
     "base_uri": "https://localhost:8080/"
    },
    "id": "Qp4WZzjuuNz4",
    "outputId": "74c147c0-13f5-4bf9-afa9-b66c8cfb20f3"
   },
   "outputs": [],
   "source": [
    "# скажите, сколько файлов в каждом поднаборе\n",
    "# ваш код здесь"
   ]
  },
  {
   "cell_type": "markdown",
   "metadata": {
    "id": "B4etiWVIw345"
   },
   "source": [
    "## Построение модели"
   ]
  },
  {
   "cell_type": "code",
   "execution_count": null,
   "metadata": {
    "id": "CfU69xhpugau"
   },
   "outputs": [],
   "source": [
    "import torch\n",
    "import torchvision\n",
    "from torchvision import datasets, models, transforms\n",
    "import matplotlib.pyplot as plt\n",
    "\n",
    "# выберите устройство, на котором будете обучать нейронную сеть"
   ]
  },
  {
   "cell_type": "markdown",
   "metadata": {
    "id": "p2lXA4NvyKjL"
   },
   "source": [
    "В этой задаче загрузить данные достаточно просто, если использовать класс `torchvision.datasets.ImageFolder`.\n",
    "\n",
    "Что нужно сделать:\n",
    "* Задайте необходимую цепочку преобразований для картинок, используя `torchvision.transofoms`. Загляните в документацию к этому модулю и найдите преобразования: случайная обрезка (обрежьте случайным образом картинки до размера 224x224), случайный поворот, превратите в `torch.Tensor`, как делали это в предыдущей работе;\n",
    "\n",
    "* Соберите три датасета с помощью `torchvision.datasets.ImageFolder`;\n",
    "\n",
    "* Создайте три загрузчика данных (`torch.utils.data.DataLoader`). Для каждого из них укажите размер батча, укажите параметр, отвечающий за перетасовку изображений внутри каждой папки (нам не важен порядок картинок, поэтому случайная перетасовка уберёт лишние зависимости, которым может обучиться модель)."
   ]
  },
  {
   "cell_type": "code",
   "execution_count": null,
   "metadata": {
    "id": "jyEe5CilugdN"
   },
   "outputs": [],
   "source": [
    "# ваш код здесь"
   ]
  },
  {
   "cell_type": "markdown",
   "metadata": {
    "id": "LoSZQu3J0Vt7"
   },
   "source": [
    "Покажите, какие изображения присутствуют в выборке. Напишите функцию `imshow`, выводящую на экран изображения в одном батче."
   ]
  },
  {
   "cell_type": "code",
   "execution_count": null,
   "metadata": {
    "id": "T5RGTa30uggb"
   },
   "outputs": [],
   "source": [
    "def imshow(inp, title=None):\n",
    "    # ваш код здесь\n",
    "    pass\n",
    "\n",
    "def show_databatch(inputs, classes):\n",
    "    out = torchvision.utils.make_grid(inputs)\n",
    "    imshow(out, title=[class_names[x] for x in classes])\n",
    "\n",
    "# next позволяет сделать один шаг вперёд по загрузчику данных\n",
    "inputs, classes = next(iter(dataloader_train))\n",
    "show_databatch(inputs, classes)"
   ]
  },
  {
   "cell_type": "markdown",
   "metadata": {
    "id": "2CRbzQOm1qlN"
   },
   "source": [
    "Предобученная модель `VGG-16` способна классифицировать 1000 различных меток; нам просто нужно 4 вместо них. Чтобы сделать это, мы собираемся заменить последний полносвязный уровень модели на новый с 4 выходными нейронами вместо 1000.\n",
    "\n",
    "В `PyTorch` мы можем получить доступ к классификатору `VGG-16` с помощью модуля `model.classifier`, который представляет собой 6-слойный массив. Мы заменим последнюю запись.\n",
    "\n",
    "Скачайте и загрузите веса модели: [веса модели на kaggle](https://www.kaggle.com/datasets/pytorch/vgg16bn)"
   ]
  },
  {
   "cell_type": "code",
   "execution_count": null,
   "metadata": {
    "colab": {
     "base_uri": "https://localhost:8080/",
     "height": 409
    },
    "id": "E9VdnNqJugj8",
    "outputId": "05d4e594-e775-46be-8848-432266702355"
   },
   "outputs": [],
   "source": [
    "from torchvision import models\n",
    "\n",
    "vgg16 = models.vgg16_bn()\n",
    "vgg16.load_state_dict(torch.load(\"путь до файла .pth\"))\n",
    "print(vgg16.classifier[6].out_features) # 1000"
   ]
  },
  {
   "cell_type": "code",
   "execution_count": null,
   "metadata": {
    "id": "J2z-j-Zc4Ms5"
   },
   "outputs": [],
   "source": [
    "# заморозьте все уровни модели vgg16\n",
    "# ваш код\n",
    "\n",
    "# затем добавьте новый слой\n",
    "num_features = # количество входных нейронов для 6-го слоя\n",
    "features = list(vgg16.classifier.children())[:-1] # удаляем последний (выходной) слой\n",
    "features.extend() # добавьте полносвязный слой с 4-мя нейронами\n",
    "vgg16.classifier = nn.Sequential(*features) # замените модель на новую в атрибуте classifier\n",
    "print(vgg16)"
   ]
  },
  {
   "cell_type": "markdown",
   "metadata": {
    "id": "eyx8Mkip59lQ"
   },
   "source": [
    "Выберите оптимизатор обучения модели и функцию потерь.\n",
    "\n",
    "Саму модель перенесите на `gpu`."
   ]
  },
  {
   "cell_type": "code",
   "execution_count": null,
   "metadata": {
    "id": "nXcbzlUA4M36"
   },
   "outputs": [],
   "source": [
    "# ваш код здесь"
   ]
  },
  {
   "cell_type": "markdown",
   "metadata": {
    "id": "w7J3NKD-6gTo"
   },
   "source": [
    "Напишите функции `train_model` для обучения и `eval_model` для оценки модели. Метрикой выберите `accuracy`. Предусмотрите, что эта модель может очень долго обучаться. Попробуйте предусмотреть сохранение весов очередной эпохи обучения и загрузку их в зависимости от какого-нибудь параметра параметра функции."
   ]
  },
  {
   "cell_type": "code",
   "execution_count": null,
   "metadata": {
    "id": "rYMpFOWd4M_q"
   },
   "outputs": [],
   "source": [
    "def eval_model(vgg, criterion):\n",
    "  pass\n",
    "\n",
    "def train_model(vgg, criterion, optimizer, scheduler, num_epochs=10):\n",
    "  pass"
   ]
  },
  {
   "cell_type": "markdown",
   "metadata": {
    "id": "cWUsr8vr2A8o"
   },
   "source": [
    "В конце оцените `accuracy` полученной модели."
   ]
  },
  {
   "cell_type": "code",
   "execution_count": null,
   "metadata": {
    "id": "sb9CY-TU8xGL"
   },
   "outputs": [],
   "source": [
    "# ваш код"
   ]
  }
 ],
 "metadata": {
  "accelerator": "GPU",
  "colab": {
   "gpuType": "T4",
   "provenance": []
  },
  "kernelspec": {
   "display_name": "Python 3 (ipykernel)",
   "language": "python",
   "name": "python3"
  },
  "language_info": {
   "codemirror_mode": {
    "name": "ipython",
    "version": 3
   },
   "file_extension": ".py",
   "mimetype": "text/x-python",
   "name": "python",
   "nbconvert_exporter": "python",
   "pygments_lexer": "ipython3",
   "version": "3.9.2"
  }
 },
 "nbformat": 4,
 "nbformat_minor": 1
}
