{
 "cells": [
  {
   "cell_type": "code",
   "execution_count": 18,
   "metadata": {},
   "outputs": [],
   "source": [
    "import numpy as np\n",
    "import matplotlib.pyplot as plt\n",
    "from sklearn.datasets import fetch_openml\n",
    "from sklearn.model_selection import train_test_split, GridSearchCV\n",
    "from sklearn.neighbors import KNeighborsClassifier\n",
    "from scipy.ndimage import shift\n"
   ]
  },
  {
   "cell_type": "code",
   "execution_count": 19,
   "metadata": {},
   "outputs": [],
   "source": [
    "mnist = fetch_openml('mnist_784')"
   ]
  },
  {
   "cell_type": "code",
   "execution_count": 20,
   "metadata": {},
   "outputs": [],
   "source": [
    "X, y = mnist['data'], mnist['target']\n",
    "X = X.astype(np.float32) / 255.0 # нормализация [0, 1]"
   ]
  },
  {
   "cell_type": "code",
   "execution_count": 21,
   "metadata": {},
   "outputs": [],
   "source": [
    "X_train, X_test, y_train, y_test = train_test_split(X, y, test_size=0.2, random_state=42) # Разделяем датасет\n",
    "y_train = y_train.to_numpy()"
   ]
  },
  {
   "cell_type": "code",
   "execution_count": 22,
   "metadata": {},
   "outputs": [
    {
     "name": "stdout",
     "output_type": "stream",
     "text": [
      "Best parameters: {'n_neighbors': 3, 'weights': 'distance'}\n"
     ]
    }
   ],
   "source": [
    "##==> Настройка гиперпараметров с помощью поиска по сетке \n",
    "###########################################################\n",
    "param_grid = {\n",
    "    'n_neighbors': [3, 5, 7, 9],\n",
    "    'weights': ['uniform', 'distance']\n",
    "}\n",
    "\n",
    "grid_search = GridSearchCV(KNeighborsClassifier(), param_grid, cv=3, scoring='accuracy')\n",
    "grid_search.fit(X_train, y_train)\n",
    "\n",
    "best_model = grid_search.best_estimator_\n",
    "print(f\"Best parameters: {grid_search.best_params_}\")\n"
   ]
  },
  {
   "cell_type": "code",
   "execution_count": 23,
   "metadata": {},
   "outputs": [
    {
     "name": "stdout",
     "output_type": "stream",
     "text": [
      "Accuracy on test set: 97.29%\n"
     ]
    }
   ],
   "source": [
    "accuracy = best_model.score(X_test, y_test)\n",
    "print(f\"Accuracy on test set: {accuracy * 100:.2f}%\")\n"
   ]
  },
  {
   "cell_type": "code",
   "execution_count": 24,
   "metadata": {},
   "outputs": [],
   "source": [
    "def shift_image(digit, dist=1):\n",
    "    \"\"\"\n",
    "    Смещение изображений в любое направление\n",
    "    \"\"\"\n",
    "    digit_image = digit.reshape((28, 28))\n",
    "    shifted_images = [\n",
    "        shift(digit_image, [-dist, 0], cval=0),   # Up\n",
    "        shift(digit_image, [dist, 0], cval=0),    # Down\n",
    "        shift(digit_image, [0, -dist], cval=0),   # Left\n",
    "        shift(digit_image, [0, dist], cval=0)      # Right\n",
    "    ]\n",
    "    return np.array([img.flatten() for img in shifted_images])\n"
   ]
  },
  {
   "cell_type": "code",
   "execution_count": 25,
   "metadata": {},
   "outputs": [
    {
     "ename": "AttributeError",
     "evalue": "'numpy.ndarray' object has no attribute 'to_numpy'",
     "output_type": "error",
     "traceback": [
      "\u001b[0;31m---------------------------------------------------------------------------\u001b[0m",
      "\u001b[0;31mAttributeError\u001b[0m                            Traceback (most recent call last)",
      "Cell \u001b[0;32mIn[25], line 7\u001b[0m\n\u001b[1;32m      3\u001b[0m     shifted_images\u001b[38;5;241m.\u001b[39mextend(shift_image(image))\n\u001b[1;32m      6\u001b[0m X_train_augmented \u001b[38;5;241m=\u001b[39m np\u001b[38;5;241m.\u001b[39marray(shifted_images)\n\u001b[0;32m----> 7\u001b[0m y_train \u001b[38;5;241m=\u001b[39m \u001b[43my_train\u001b[49m\u001b[38;5;241;43m.\u001b[39;49m\u001b[43mto_numpy\u001b[49m()\n\u001b[1;32m      8\u001b[0m y_train_augmented \u001b[38;5;241m=\u001b[39m np\u001b[38;5;241m.\u001b[39mrepeat(y_train, \u001b[38;5;241m5\u001b[39m)\n\u001b[1;32m      9\u001b[0m \u001b[38;5;28mprint\u001b[39m(\u001b[38;5;124mf\u001b[39m\u001b[38;5;124m\"\u001b[39m\u001b[38;5;124mX_train_augmented shape: \u001b[39m\u001b[38;5;132;01m{\u001b[39;00mX_train_augmented\u001b[38;5;241m.\u001b[39mshape\u001b[38;5;132;01m}\u001b[39;00m\u001b[38;5;124m\"\u001b[39m)\n",
      "\u001b[0;31mAttributeError\u001b[0m: 'numpy.ndarray' object has no attribute 'to_numpy'"
     ]
    }
   ],
   "source": [
    "shifted_images = []\n",
    "for image in X_train.to_numpy():\n",
    "    shifted_images.extend(shift_image(image))\n",
    "\n",
    "\n",
    "X_train_augmented = np.array(shifted_images)\n",
    "y_train = y_train.to_numpy()\n",
    "y_train_augmented = np.repeat(y_train, 5)\n",
    "print(f\"X_train_augmented shape: {X_train_augmented.shape}\")\n",
    "print(f\"y_train_augmented shape: {y_train_augmented.shape}\")\n",
    "best_model.fit(X_train_augmented, y_train_augmented)\n"
   ]
  },
  {
   "cell_type": "code",
   "execution_count": null,
   "metadata": {},
   "outputs": [],
   "source": [
    "final_accuracy = best_model.score(X_test, y_test)\n",
    "print(f\"Final accuracy on test set after augmentation: {final_accuracy * 100:.2f}%\")\n"
   ]
  }
 ],
 "metadata": {
  "kernelspec": {
   "display_name": "Python 3",
   "language": "python",
   "name": "python3"
  },
  "language_info": {
   "codemirror_mode": {
    "name": "ipython",
    "version": 3
   },
   "file_extension": ".py",
   "mimetype": "text/x-python",
   "name": "python",
   "nbconvert_exporter": "python",
   "pygments_lexer": "ipython3",
   "version": "3.11.10"
  }
 },
 "nbformat": 4,
 "nbformat_minor": 2
}
