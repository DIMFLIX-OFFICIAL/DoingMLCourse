{
 "cells": [
  {
   "cell_type": "markdown",
   "metadata": {
    "id": "VEOXCExXvuQA"
   },
   "source": [
    "# Занятие 14. Методы обработки текста. Рекуррентные сети и трансформеры\n",
    "Когда Алан Тьюринг придумал свой знаменитый тест, его целью была оценка способности машины соответствовать человеческому интеллекту. Он мог бы проверить многие вещи, такие как возможность узнавать кошек на фотографиях, играть в шахматы или сочинять музыку, но всё же выбрал лингвистическую задачу. В частности, Тьюринг изобрёл `чатбот`, который способен обмануть собеседника, заставив его думать, что он разговаривает с человеком.\n",
    "\n",
    "Несмотря на недостатки, тест Тьюринга подчёркивает тот факт, что овладение языком является, наверное, самой замечательной способностью человека разумного. Можем ли мы построить машину, способную читать и записывать на естественном языке? Об этом мы и поговорим на данном занятии.\n",
    "\n",
    "## Обработка естественного языка\n",
    "`Обработка естественного языка`, (Natural Language Processing (дальше просто `NLP`)) $-$ это подраздел науки об искусственном интеллекте (и машинного обучения в частности), который занимается изучением и анализом процесса распознавания машинами естественных (человеческих) языков. NLP позволяет применять алгоритмы машинного обучения для текста и речи.\n",
    "\n",
    "Например, мы можем использовать NLP, чтобы создавать системы вроде распознавания речи, обобщения документов, машинного перевода, выявления спама, распознавания именованных сущностей, ответов на вопросы, автокомплита, предиктивного ввода текста и т.д.\n",
    "\n",
    "## Задачи NLP\n",
    "Спектр задач и приложений методов обработки языка очень разнообразен. Посмотрим на примеры задач, которые обычно решают специалисты из этой области.\n",
    "\n",
    "Одна из задач, где точно не обойтись без методов машинного обучения и искусственного инетеллекта, это `машинный перевод текстов` с одного языка на другой. Действительно, переводить сложные тексты человеческими усилиями очень долго, а при механической обработке детерминированными алгоритмами получается быстро, но неэффективно. Искусственный интеллект мог бы сократить расходы и автоматизировать процесс.\n",
    "\n",
    "Другая распространённая задача $-$ анализ текстов. Эта задача встречается как в виде классификации текстов по определённым критериям, так и в виде анализа части текстовой информации. Например, анализ тональности позволяет определить эмоциональную окраску комментария к посту в соцсети или отзыва на товар на маркетплейсе.\n",
    "\n",
    "Однако самой главной целью остаётся научить компьютер разговаривать. Поэтому такие задачи как построение диалоговых систем и систем распознавания речи остаются приоритетными, несмотря на огромные достижения в этой области."
   ]
  },
  {
   "cell_type": "markdown",
   "metadata": {
    "id": "gFjMK-H-vuZ6"
   },
   "source": [
    "## Методы и подходы в NLP для обработки текста\n",
    "Как представить текст в удобном для компьютера формате? Нам нужно научиться \"готовить\" текст для машины, которая понимает числа, но не имеет представления о символах и, тем более, о словах и предложениях.\n",
    "\n",
    "Здесь очень хорошо помогает знание лингвистики $-$ науки, которая изучает язык как систему. С точки зрения лингвистики, `текст` $-$ некоторая законченная последовательность предложений, связанных по смыслу друг с другом в рамках общего замысла автора. В свою очередь, `предложение` как стуктурная единица текста $-$ это тоже последовательность, но уже из других единиц, `слов`. Мы можем бесконечно долго членить текст, пока не дойдём до неделимого юнита $-$ символа, если говорим о тексте печатном, или звука, если имеется в виду устная речь.\n",
    "\n",
    "В задаче обработки текста разделение текста на некоторые единицы называется `токенизацией`. Можно сегментировать текст на предложения, можно $-$ на отдельные слова, а можно и на слоги. Цель здесь одна $-$ разбить цельный текст на компоненты, с которыми в дальнейшем мы что-то сможем сделать.\n",
    "\n",
    "\n"
   ]
  },
  {
   "cell_type": "code",
   "execution_count": 1,
   "metadata": {
    "id": "bX-yCskQ7kXM"
   },
   "outputs": [
    {
     "name": "stderr",
     "output_type": "stream",
     "text": [
      "[nltk_data] Downloading package punkt_tab to\n",
      "[nltk_data]     /home/agat.local/s.bulganin/nltk_data...\n",
      "[nltk_data]   Package punkt_tab is already up-to-date!\n"
     ]
    },
    {
     "data": {
      "text/plain": [
       "True"
      ]
     },
     "execution_count": 1,
     "metadata": {},
     "output_type": "execute_result"
    }
   ],
   "source": [
    "# как правило, для токенизации есть готовые библиотеки\n",
    "import nltk\n",
    "nltk.download('punkt_tab')"
   ]
  },
  {
   "cell_type": "code",
   "execution_count": 2,
   "metadata": {
    "id": "o3NKIR8-tsZd"
   },
   "outputs": [
    {
     "name": "stdout",
     "output_type": "stream",
     "text": [
      "Нынче ветрено и волны с перехлестом.\n",
      "\n",
      "Скоро осень, все изменится в округе.\n",
      "\n",
      "Смена красок этих трогательней, Постум,\n",
      "чем наряда перемена у подруги.\n",
      "\n"
     ]
    }
   ],
   "source": [
    "text = '''Нынче ветрено и волны с перехлестом.\n",
    "Скоро осень, все изменится в округе.\n",
    "Смена красок этих трогательней, Постум,\n",
    "чем наряда перемена у подруги.'''\n",
    "sentences = nltk.sent_tokenize(text) # разбивает текст на предложения\n",
    "for sentence in sentences:\n",
    "    print(sentence, end='\\n\\n')"
   ]
  },
  {
   "cell_type": "code",
   "execution_count": 3,
   "metadata": {
    "id": "7VLUoRajvumM"
   },
   "outputs": [
    {
     "name": "stdout",
     "output_type": "stream",
     "text": [
      "['Нынче', 'ветрено', 'и', 'волны', 'с', 'перехлестом', '.']\n",
      "['Скоро', 'осень', ',', 'все', 'изменится', 'в', 'округе', '.']\n",
      "['Смена', 'красок', 'этих', 'трогательней', ',', 'Постум', ',', 'чем', 'наряда', 'перемена', 'у', 'подруги', '.']\n"
     ]
    }
   ],
   "source": [
    "# или по словам\n",
    "for sentence in sentences:\n",
    "    words = nltk.word_tokenize(sentence)\n",
    "    print(words)"
   ]
  },
  {
   "cell_type": "markdown",
   "metadata": {
    "id": "sPXYiH5c7xu9"
   },
   "source": [
    "Обратите внимание, что знаки пунктуации могут считаться отдельным токеном в одной задаче (и вы будете использовать их для своих целей) и будут считаться мусором в другой задаче.\n",
    "\n",
    "Обычно одно слово может иметь множество `словоформ` в одном тексте. Например, в предложении \"Маша решила помыть кошку, кошка была в шоке\" слово \"кошка\" имеет две разные словоформы, которые отличаются друг от друга только формой падежа, но бывают и сложные случаи. Для человека (особенно для носителя любого синтетического языка (например, русского или венгерского)) это нормально, однако для любого алгоритма это будут два разных слова. Если вдуматься, то для человека это тоже два разных слова, пока он не откинет окончание или не определит, что все они от одного корня. По сути, следующий шаг нормализации текста очень похож на это действие: два метода $-$ лемматизация и стемминг $-$ преследуют цель привести все встречающиеся словоформы к одной, начальной словарной форме.\n",
    "\n",
    "`Стемминг` $-$ это грубый способ, который отрезает либо всё лишнее от корня слова, либо только окончание. Из-за этого может потеряться достаточно полезная информация. Например, для словоформы \"кошкой\" стемминг отсечёт окончание \"ой\" и  постфикс \"к\" (либо только окончание), оставив только корневую часть $-$ \"кош\" (\"кошк\"). А вот для английского языка ситуация может быть ещё хуже: в английском языке прилагательное \"good\" имеет сравнительную степень \"better\". Стемминг не сможет отсечь здесь какую-то часть, поскольку нужно сверяться со словарём.\n",
    "\n",
    "В отличие от стемминга, `лемматизация` старается привести каждое слово к его начальной форме. Это более тонкий процесс по сравнению с стеммингом. Как правило, приведение к начальной форме для каждой части речи выглядит по-своему. Для существительных это приведение слова к единственному числу именительного падежа (сравните \"кошками\" -> \"кошка\"), для прилагательных это $-$ к форме единственного числа именительного падежа мужского рода (\"красивых\" -> \"красивый\"),  а для глаголов $-$ приведение к инфинитиву (\"брала\" -> \"брать\").\n",
    "\n",
    "Оба способа нацелены на то, чтобы сократить разнообразие форм слов и сократить количество кодировок в результате преобразования всех единиц текста.\n"
   ]
  },
  {
   "cell_type": "code",
   "execution_count": 4,
   "metadata": {
    "id": "YaanJ2_e7xDH"
   },
   "outputs": [
    {
     "name": "stdout",
     "output_type": "stream",
     "text": [
      "['листов', 'листочк', 'лист', 'листв', 'листв', 'поч', 'так']\n"
     ]
    }
   ],
   "source": [
    "# пример стемминга для русскоязычных текстов\n",
    "from nltk.stem.snowball import SnowballStemmer\n",
    "\n",
    "stemmer = SnowballStemmer(\"russian\")\n",
    "text = \"Листовые листочки лист листва листве почему так\"\n",
    "tokens = nltk.word_tokenize(text)\n",
    "stemmed_words = [stemmer.stem(word) for word in tokens]\n",
    "print(stemmed_words)"
   ]
  },
  {
   "cell_type": "code",
   "execution_count": 5,
   "metadata": {
    "id": "-1AyBrpEvuoy"
   },
   "outputs": [
    {
     "name": "stdout",
     "output_type": "stream",
     "text": [
      "['the', 'stem', 'form', 'of', 'leav', 'is', 'leaf']\n"
     ]
    }
   ],
   "source": [
    "# пример стемминга для англоязычных текстов\n",
    "from nltk.stem import PorterStemmer\n",
    "\n",
    "stemmer = PorterStemmer()\n",
    "text = \"The stemmed form of leaves is leaf\"\n",
    "tokens = nltk.word_tokenize(text)\n",
    "stemmed_words = [stemmer.stem(word) for word in tokens]\n",
    "print(stemmed_words)"
   ]
  },
  {
   "cell_type": "code",
   "execution_count": 6,
   "metadata": {
    "id": "wnG1WmFdvusV"
   },
   "outputs": [
    {
     "name": "stdout",
     "output_type": "stream",
     "text": [
      "['листовой', 'листочек', 'лист', 'листва', 'листва', 'почему', 'так']\n"
     ]
    }
   ],
   "source": [
    "# пример лемматизации для русскоязычного текста\n",
    "# в nltk лемматизатора для ru нет, поэтому используем другой модуль\n",
    "# !pip install pymorphy3\n",
    "import pymorphy3\n",
    "\n",
    "morph = pymorphy3.MorphAnalyzer()\n",
    "text = \"Листовые листочки лист листва листве почему так\"\n",
    "tokens = nltk.word_tokenize(text)\n",
    "lemmatized_words = [morph.parse(word)[0].normal_form for word in tokens]\n",
    "print(lemmatized_words)"
   ]
  },
  {
   "cell_type": "code",
   "execution_count": 7,
   "metadata": {
    "id": "RCUv5LYYQGtU"
   },
   "outputs": [
    {
     "name": "stderr",
     "output_type": "stream",
     "text": [
      "[nltk_data] Downloading package wordnet to\n",
      "[nltk_data]     /home/agat.local/s.bulganin/nltk_data...\n",
      "[nltk_data]   Package wordnet is already up-to-date!\n"
     ]
    },
    {
     "data": {
      "text/plain": [
       "True"
      ]
     },
     "execution_count": 7,
     "metadata": {},
     "output_type": "execute_result"
    }
   ],
   "source": [
    "nltk.download('wordnet')"
   ]
  },
  {
   "cell_type": "code",
   "execution_count": 8,
   "metadata": {
    "id": "qKr8kLnTPeCr"
   },
   "outputs": [
    {
     "name": "stdout",
     "output_type": "stream",
     "text": [
      "['The', 'lemmatized', 'form', 'of', 'leaf', 'is', 'leaf']\n"
     ]
    }
   ],
   "source": [
    "# для англоязычного текста\n",
    "from nltk.stem import WordNetLemmatizer\n",
    "\n",
    "lemmatizer = WordNetLemmatizer()\n",
    "text = \"The lemmatized form of leaves is leaf\"\n",
    "tokens = nltk.word_tokenize(text)\n",
    "lemmatized_words = [lemmatizer.lemmatize(word) for word in tokens]\n",
    "print(lemmatized_words)"
   ]
  },
  {
   "cell_type": "markdown",
   "metadata": {
    "id": "JVL9Y5emRsMA"
   },
   "source": [
    "Стоит заметить, что лемматизатор не справился со словом \"lemmatized\". Причин может быть две: либо в словаре не нашлось нормальной формы слова, либо лемматизатору нужно указать конкретную часть речи для этого слова."
   ]
  },
  {
   "cell_type": "markdown",
   "metadata": {
    "id": "C2_WvtpfSEG2"
   },
   "source": [
    "Однако это ещё не все действия, которые связаны с нормализацией текста.\n",
    "\n",
    "Лингвистика выделяет самостоятельные и служебные части речи. К первым относятся существительные, глаголы, прилагательные и многие другие части речи, которые имеют смысловую нагрузку. Напротив, к служебным частям речи относятся союзы, арктикли, предлоги, то есть те части речи, которые самостоятельной смысловой нагрузки не несут, но могут помочь в распознавании самостоятельных частей речи.\n",
    "\n",
    "К несчастью, как показали исследователи, именно служебные части речи встречаются в тексте чаще всего. Это плохо для моделей машинного обучения, поскольку, как правило, слова с высокими частотами появления в тексте модель способна запоминать лучше. Специалисты NLP называют такие слова `стоп-словами`, и их удалением лучше озаботиться ещё до лемматизации и стемминга."
   ]
  },
  {
   "cell_type": "code",
   "execution_count": 9,
   "metadata": {
    "colab": {
     "base_uri": "https://localhost:8080/"
    },
    "id": "m1vFWq3yWRUK",
    "outputId": "a347d4c2-1977-4242-81f8-e9ae3ce51b14"
   },
   "outputs": [
    {
     "name": "stderr",
     "output_type": "stream",
     "text": [
      "[nltk_data] Downloading package stopwords to\n",
      "[nltk_data]     /home/agat.local/s.bulganin/nltk_data...\n",
      "[nltk_data]   Package stopwords is already up-to-date!\n"
     ]
    },
    {
     "data": {
      "text/plain": [
       "True"
      ]
     },
     "execution_count": 9,
     "metadata": {},
     "output_type": "execute_result"
    }
   ],
   "source": [
    "nltk.download('stopwords')"
   ]
  },
  {
   "cell_type": "code",
   "execution_count": 10,
   "metadata": {
    "id": "idz16H8PRrV2"
   },
   "outputs": [
    {
     "name": "stdout",
     "output_type": "stream",
     "text": [
      "['и', 'в', 'во', 'не', 'что', 'он', 'на', 'я', 'с', 'со', 'как', 'а', 'то', 'все', 'она', 'так', 'его', 'но', 'да', 'ты', 'к', 'у', 'же', 'вы', 'за', 'бы', 'по', 'только', 'ее', 'мне', 'было', 'вот', 'от', 'меня', 'еще', 'нет', 'о', 'из', 'ему', 'теперь', 'когда', 'даже', 'ну', 'вдруг', 'ли', 'если', 'уже', 'или', 'ни', 'быть', 'был', 'него', 'до', 'вас', 'нибудь', 'опять', 'уж', 'вам', 'ведь', 'там', 'потом', 'себя', 'ничего', 'ей', 'может', 'они', 'тут', 'где', 'есть', 'надо', 'ней', 'для', 'мы', 'тебя', 'их', 'чем', 'была', 'сам', 'чтоб', 'без', 'будто', 'чего', 'раз', 'тоже', 'себе', 'под', 'будет', 'ж', 'тогда', 'кто', 'этот', 'того', 'потому', 'этого', 'какой', 'совсем', 'ним', 'здесь', 'этом', 'один', 'почти', 'мой', 'тем', 'чтобы', 'нее', 'сейчас', 'были', 'куда', 'зачем', 'всех', 'никогда', 'можно', 'при', 'наконец', 'два', 'об', 'другой', 'хоть', 'после', 'над', 'больше', 'тот', 'через', 'эти', 'нас', 'про', 'всего', 'них', 'какая', 'много', 'разве', 'три', 'эту', 'моя', 'впрочем', 'хорошо', 'свою', 'этой', 'перед', 'иногда', 'лучше', 'чуть', 'том', 'нельзя', 'такой', 'им', 'более', 'всегда', 'конечно', 'всю', 'между']\n",
      "« мороженно ! » солнце . воздушный бисквит . прозрачный стакан ледяною водою . мир шоколада румяной зарею , молочные альпы , мечтанье летит .\n"
     ]
    }
   ],
   "source": [
    "from nltk.corpus import stopwords\n",
    "print(stopwords.words(\"russian\"))\n",
    "\n",
    "stop_words = set(stopwords.words(\"russian\"))\n",
    "sentence = '''«Мороженно!» Солнце. Воздушный бисквит.\n",
    "Прозрачный стакан с ледяною водою.\n",
    "И в мир шоколада с румяной зарею,\n",
    "В молочные Альпы, мечтанье летит.'''\n",
    "\n",
    "# перед удалением исходный текст лучше всего привести\n",
    "# к нижнему регистру\n",
    "\n",
    "words = nltk.word_tokenize(sentence.lower())\n",
    "without_stop_words = []\n",
    "for word in words:\n",
    "    if word not in stop_words:\n",
    "        without_stop_words.append(word)\n",
    "\n",
    "print(\" \".join(without_stop_words))"
   ]
  },
  {
   "cell_type": "markdown",
   "metadata": {
    "id": "jHIfWqpNWxcC"
   },
   "source": [
    "Как видите, предлоги и союзы были исключены из этого текста. После этого шага можно токенизировать текст и производить его нормализацию."
   ]
  },
  {
   "cell_type": "markdown",
   "metadata": {
    "id": "Gb4hRaleXMOr"
   },
   "source": [
    "## Формы представления текста\n",
    "Как вам известно, алгоритмы машинного обучения не могут напрямую работать с сырым текстом, поэтому необходимо конвертировать текст в наборы цифр (векторы).\n",
    "\n",
    "Самая простая и популярная техника для извлечения признаков из текста называется `мешком слов`. Если говорить об этой технике кратко, то мешок слов определяет, сколько раз каждое слово появляется в тексте (то есть его абсолютную частоту).  При этом любая информация о порядке и структуре слов игнорируется. Модель, которая получает на вход мешок слов, учится определять, какие слова и сколько раз встречаются в тексте, но она не сможет распознать, в какой последовательности эти слова расположены.\n",
    "\n",
    "Рассмотрим простой текст:\n",
    "\n",
    "<i>Русской ржи от меня поклон,<br>\n",
    "Ниве, где баба застится.<br>\n",
    "Друг! Дожди за моим окном,<br>\n",
    "Беды и блажи на́ сердце…<br></i>\n",
    "\n",
    "Для того, чтобы составить мешок слов, желательно сначала токенизировать текст, удалить стоп-слова, а затем нормализовать. После этих операций текст будет выглядеть следующим образом:\n",
    "\n",
    "<i>русский рожь поклон<br>\n",
    "нива баба заститься<br>\n",
    "друг дождь окно<br>\n",
    "беда блажь сердце<br></i>\n",
    "\n",
    "Кажется, что текст оскудел, однако общий смысл всё равно угадывается. Выпишем все слова в строку, сделав их заголовками столбцов таблицы, а потом посчитаем, сколько раз каждое слово появилось в тексте:\n",
    "\n",
    "|русский|рожь|поклон|нива|баба|заститься|друг|дождь|окно|беда|блажь|сердце|\n",
    "|---|---|---|---|---|---|---|---|---|---|---|---|\n",
    "|1|1|1|1|1|1|1|1|1|1|1|1|\n",
    "\n",
    "Как видим, получилось, что в этом тексте каждое слово встречается по одному разу. Мы получили мешок слов для одного текста, но в нём мало пользы. Добавим ещё один текст:\n",
    "\n",
    "<i>Вот опять окно,<br>\n",
    "Где опять не спят. <br>\n",
    "Может — пьют вино, <br>\n",
    "Может — так сидят. <br>\n",
    "Или просто — рук <br>\n",
    "Не разнимут двое. <br>\n",
    "В каждом доме, друг, <br>\n",
    "Есть окно такое.</i>\n",
    "\n",
    "А затем преобразуем:\n",
    "\n",
    "<i>окно<br>\n",
    "спать<br>\n",
    "пить вино<br>\n",
    "сидеть<br>\n",
    "рука <br>\n",
    "разнять двое. <br>\n",
    "дом друг<br>\n",
    "окно</i>\n",
    "\n",
    "Теперь расширим и дополним таблицу:\n",
    "\n",
    "|русский|рожь|поклон|нива|баба|заститься|друг|дождь|окно|беда|блажь|сердце|спать|пить|вино|сидеть|рука|разнять|двое|дом|\n",
    "|---|---|---|---|---|---|---|---|---|---|---|---|---|---|---|---|---|---|---|---|\n",
    "|1|1|1|1|1|1|1|1|1|1|1|1|0|0|0|0|0|0|0|0|\n",
    "|0|0|0|0|0|0|1|0|2|0|0|1|1|1|1|1|1|1|1|1|\n",
    "\n",
    "Каждая строка полученного мешка слов представляет собой закодированный текст для словаря, составленного из представленного `корпуса` текстов. Рассмотрим применение мешка слов и сопутствующие ему проблемы на примере анализа текстов и определении тональности текста.\n"
   ]
  },
  {
   "cell_type": "markdown",
   "metadata": {
    "id": "_vpXiSkWmTGo"
   },
   "source": [
    "## Задача классификации\n",
    "Классификацию текста, как правило, можно проводить базовыми алгоритмами классического машинного обучения.\n",
    "\n",
    "Рассмотрим такую задачу: имеется корпус текстов, состоящий из комментариев в соцсети на русском языке; часть этих комментариев токсичны, другая часть $-$ не имеют такой эмоциональной окраски. Мы займёмся определением, какой комментарий можно назвать токсичным, а какой $-$ нет."
   ]
  },
  {
   "cell_type": "code",
   "execution_count": 11,
   "metadata": {
    "id": "OK6AvL0rl78P"
   },
   "outputs": [
    {
     "name": "stderr",
     "output_type": "stream",
     "text": [
      "/home/agat.local/s.bulganin/anaconda3/lib/python3.11/site-packages/pandas/core/arrays/masked.py:60: UserWarning: Pandas requires version '1.3.6' or newer of 'bottleneck' (version '1.3.5' currently installed).\n",
      "  from pandas.core import (\n"
     ]
    },
    {
     "data": {
      "text/html": [
       "<div>\n",
       "<style scoped>\n",
       "    .dataframe tbody tr th:only-of-type {\n",
       "        vertical-align: middle;\n",
       "    }\n",
       "\n",
       "    .dataframe tbody tr th {\n",
       "        vertical-align: top;\n",
       "    }\n",
       "\n",
       "    .dataframe thead th {\n",
       "        text-align: right;\n",
       "    }\n",
       "</style>\n",
       "<table border=\"1\" class=\"dataframe\">\n",
       "  <thead>\n",
       "    <tr style=\"text-align: right;\">\n",
       "      <th></th>\n",
       "      <th>comment</th>\n",
       "      <th>toxic</th>\n",
       "    </tr>\n",
       "  </thead>\n",
       "  <tbody>\n",
       "    <tr>\n",
       "      <th>0</th>\n",
       "      <td>Верблюдов-то за что? Дебилы, бл...\\n</td>\n",
       "      <td>1.0</td>\n",
       "    </tr>\n",
       "    <tr>\n",
       "      <th>1</th>\n",
       "      <td>Хохлы, это отдушина затюканого россиянина, мол...</td>\n",
       "      <td>1.0</td>\n",
       "    </tr>\n",
       "    <tr>\n",
       "      <th>2</th>\n",
       "      <td>Собаке - собачья смерть\\n</td>\n",
       "      <td>1.0</td>\n",
       "    </tr>\n",
       "    <tr>\n",
       "      <th>3</th>\n",
       "      <td>Страницу обнови, дебил. Это тоже не оскорблени...</td>\n",
       "      <td>1.0</td>\n",
       "    </tr>\n",
       "    <tr>\n",
       "      <th>4</th>\n",
       "      <td>тебя не убедил 6-страничный пдф в том, что Скр...</td>\n",
       "      <td>1.0</td>\n",
       "    </tr>\n",
       "  </tbody>\n",
       "</table>\n",
       "</div>"
      ],
      "text/plain": [
       "                                             comment  toxic\n",
       "0               Верблюдов-то за что? Дебилы, бл...\\n    1.0\n",
       "1  Хохлы, это отдушина затюканого россиянина, мол...    1.0\n",
       "2                          Собаке - собачья смерть\\n    1.0\n",
       "3  Страницу обнови, дебил. Это тоже не оскорблени...    1.0\n",
       "4  тебя не убедил 6-страничный пдф в том, что Скр...    1.0"
      ]
     },
     "execution_count": 11,
     "metadata": {},
     "output_type": "execute_result"
    }
   ],
   "source": [
    "import pandas as pd\n",
    "\n",
    "# подгрузим данные\n",
    "data = pd.read_csv('data/labeled.csv')\n",
    "data.head()"
   ]
  },
  {
   "cell_type": "markdown",
   "metadata": {
    "id": "JGIV5sFqoO-l"
   },
   "source": [
    "Уже можно заметить, что комментарии в первых строках таблицы достаточно неприятны.\n",
    "\n",
    "Зато в задачах чистого NLP обычно всегда только один столбец с фичами (это сам текст). Проанализируем сначала распределение комментариев по классам токсичности."
   ]
  },
  {
   "cell_type": "code",
   "execution_count": 12,
   "metadata": {
    "id": "2W8jsI1toNHD"
   },
   "outputs": [
    {
     "data": {
      "image/png": "[encoded data removed]",
      "text/plain": [
       "<Figure size 640x480 with 1 Axes>"
      ]
     },
     "metadata": {},
     "output_type": "display_data"
    },
    {
     "name": "stdout",
     "output_type": "stream",
     "text": [
      "Comment description\n",
      "\n",
      "      comment                                                               \n",
      "        count unique                                                top freq\n",
      "toxic                                                                       \n",
      "0.0      9586   9586  В шапке были ссылки на инфу по текущему фильму...    1\n",
      "1.0      4826   4826               Верблюдов-то за что? Дебилы, бл...\\n    1\n",
      "\n",
      "Статистика по комментариям\n",
      "              toxic\n",
      "count  14412.000000\n",
      "mean       0.334860\n",
      "std        0.471958\n",
      "min        0.000000\n",
      "25%        0.000000\n",
      "50%        0.000000\n",
      "75%        1.000000\n",
      "max        1.000000\n"
     ]
    }
   ],
   "source": [
    "import matplotlib.pyplot as plt\n",
    "\n",
    "desc = data.groupby('toxic').describe()\n",
    "\n",
    "plt.bar('0', desc['comment']['count'][0], label=\"Нетоксичные\", color='green')\n",
    "plt.bar('1', desc['comment']['count'][1], label=\"Токсичные\", color='red')\n",
    "plt.legend()\n",
    "plt.ylabel('Количество комментариев')\n",
    "plt.title('Группы комментариев')\n",
    "plt.show()\n",
    "\n",
    "print('Comment description\\n')\n",
    "print(desc, end='\\n\\n')\n",
    "print('Статистика по комментариям')\n",
    "print(data.describe())"
   ]
  },
  {
   "cell_type": "markdown",
   "metadata": {
    "id": "QdIPXUaPpiR_"
   },
   "source": [
    "Когда у нас имеется корпус текстов, то мы можем попробовать сравнивать характеристики текстов ещё до прямого кодирования в мешок слов. Например, как какие комментарии длиннее $-$ токсичные или нетоксичные?"
   ]
  },
  {
   "cell_type": "code",
   "execution_count": 13,
   "metadata": {
    "id": "C5DgZdcOl8ln"
   },
   "outputs": [
    {
     "data": {
      "image/png": "[encoded data removed]",
      "text/plain": [
       "<Figure size 1000x500 with 2 Axes>"
      ]
     },
     "metadata": {},
     "output_type": "display_data"
    }
   ],
   "source": [
    "fig, (ax1,ax2) = plt.subplots(1,2,figsize=(10,5))\n",
    "\n",
    "ax1.hist(data[data['toxic']==0]['comment'].str.len(), color='green')\n",
    "ax1.set_title('Нетоксичные')\n",
    "\n",
    "ax2.hist(data[data['toxic']==1]['comment'].str.len(), color='red')\n",
    "ax2.set_title('Токсичные')\n",
    "\n",
    "fig.suptitle('Количество символов в комментарии')\n",
    "plt.show();"
   ]
  },
  {
   "cell_type": "code",
   "execution_count": 14,
   "metadata": {
    "id": "VHvjS6RMl8n-"
   },
   "outputs": [
    {
     "data": {
      "image/png": "[encoded data removed]",
      "text/plain": [
       "<Figure size 1000x500 with 2 Axes>"
      ]
     },
     "metadata": {},
     "output_type": "display_data"
    }
   ],
   "source": [
    "fig, (ax1,ax2) = plt.subplots(1,2,figsize=(10,5))\n",
    "\n",
    "ax1.hist(data[data['toxic']==0]['comment'].str.split().map(lambda x: len(x)), color='green')\n",
    "ax1.set_title('Нетоксичные')\n",
    "\n",
    "ax2.hist(data[data['toxic']==1]['comment'].str.split().map(lambda x: len(x)) ,color='red')\n",
    "ax2.set_title('Токсичные')\n",
    "\n",
    "fig.suptitle('Слов в комментарии')\n",
    "plt.show();"
   ]
  },
  {
   "cell_type": "markdown",
   "metadata": {
    "id": "nInEDtVCrXC2"
   },
   "source": [
    "На первый взгляд сказать трудно. Обе группы комментариев обладают схожими распределениями.\n",
    "\n",
    "Предобработаем тексты и закодируем их в мешки слов."
   ]
  },
  {
   "cell_type": "code",
   "execution_count": 15,
   "metadata": {
    "id": "n8_tZGqol8qZ"
   },
   "outputs": [],
   "source": [
    "import numpy as np\n",
    "\n",
    "# разделим на фичи и целевую переменную\n",
    "text = np.array(data.comment.values)\n",
    "target = data.toxic.astype(int).values"
   ]
  },
  {
   "cell_type": "code",
   "execution_count": 16,
   "metadata": {
    "id": "faKv3em9rvYg"
   },
   "outputs": [
    {
     "data": {
      "image/png": "[encoded data removed]",
      "text/plain": [
       "<Figure size 1000x500 with 2 Axes>"
      ]
     },
     "metadata": {},
     "output_type": "display_data"
    }
   ],
   "source": [
    "# в этой задаче может быть полезным признаком\n",
    "# количество заглавных букв в комментарии,\n",
    "# поскольку есть предположение,\n",
    "# что капсом выделяют слова, чтобы подчеркнуть эмоциональную составляющую\n",
    "# текста\n",
    "\n",
    "def upperCaseRate(string):\n",
    "    return np.array(list(map(str.isupper, string))).mean()\n",
    "\n",
    "data['upcaseRate'] = list(map(upperCaseRate, data.comment.values))\n",
    "fig, (ax1,ax2) = plt.subplots(1,2,figsize=(10,5))\n",
    "\n",
    "ax1.hist(data[data['toxic']==0]['upcaseRate'], color='green')\n",
    "ax1.set_title('Нетоксичные')\n",
    "\n",
    "ax2.hist(data[data['toxic']==1]['upcaseRate'], color='red')\n",
    "ax2.set_title('Токсичные')\n",
    "\n",
    "fig.suptitle('Прописные буквы в комментарии')\n",
    "plt.show();"
   ]
  },
  {
   "cell_type": "markdown",
   "metadata": {
    "id": "WNgOMypstPFu"
   },
   "source": [
    "И действительно, токсичные комментарии имеют тенденцию к достаточно высокому проценту содержания прописных букв. Полезный признак.\n",
    "\n",
    "Теперь очистим тексты. Задача заключается в том, чтобы оставить только кириллические и латинские буквы, а всё остальное удалить. Очевидно, что в комментариях присутствуют управляющие последовательности (`\\n`, например). Также удалим стоп-слова и нормализуем текст."
   ]
  },
  {
   "cell_type": "code",
   "execution_count": 17,
   "metadata": {
    "id": "drKSZ4pmtOX4"
   },
   "outputs": [
    {
     "name": "stderr",
     "output_type": "stream",
     "text": [
      "[nltk_data] Downloading package averaged_perceptron_tagger_rus to\n",
      "[nltk_data]     /home/agat.local/s.bulganin/nltk_data...\n",
      "[nltk_data]   Package averaged_perceptron_tagger_rus is already up-to-\n",
      "[nltk_data]       date!\n"
     ]
    },
    {
     "name": "stdout",
     "output_type": "stream",
     "text": [
      "CPU times: user 19.6 s, sys: 129 ms, total: 19.8 s\n",
      "Wall time: 19.7 s\n"
     ]
    }
   ],
   "source": [
    "%%time\n",
    "\n",
    "def cleanText(text):\n",
    "    import re\n",
    "\n",
    "    text = text.lower() # приводим все символы к нижнему регистру\n",
    "    text = re.sub(r\"http\\S+\", \"\", text) # используем регулярное выражение, чтобы удалить все ссылки\n",
    "    text = str.replace(text,'ё','е') # заменяем все буквы ё на букву е\n",
    "    prog = re.compile('[А-Яа-яA-Za-z]+') # задаём регулярное выражение, которое оставляет только кириллицу и латиницу\n",
    "    words = prog.findall(text) # применяем регулярку\n",
    "\n",
    "    # удаление стоп-слов\n",
    "    stopwords = nltk.corpus.stopwords.words('russian')\n",
    "    words = [w for w in words if w not in stopwords]\n",
    "    # частеречная разметка, исключая союзы и предлоги\n",
    "    functionalPos = {'CONJ', 'PRCL'}\n",
    "    words = [w for w, pos in nltk.pos_tag(words, lang='rus') if pos not in functionalPos]\n",
    "    # стемминг\n",
    "    stemmer = SnowballStemmer('russian')\n",
    "    return ' '.join(list(map(stemmer.stem, words)))\n",
    "\n",
    "# применим функцию\n",
    "# map работает аналогично apply, но для списков\n",
    "nltk.download('averaged_perceptron_tagger_rus')\n",
    "text = list(map(cleanText, text))"
   ]
  },
  {
   "cell_type": "code",
   "execution_count": 18,
   "metadata": {
    "id": "sv-7OjQarvef"
   },
   "outputs": [
    {
     "name": "stdout",
     "output_type": "stream",
     "text": [
      "Dim of train: 10088 \tTarget rate: 33.49%\n",
      "Dim of test: 4324 \tTarget rate: 33.49%\n"
     ]
    }
   ],
   "source": [
    "# после предподготовки разделим на трейн и тест в соотношении 7:3\n",
    "# и для надежности перемешаем тексты между собой\n",
    "from sklearn.model_selection import train_test_split\n",
    "\n",
    "X_train, X_test, y_train, y_test = train_test_split(text, target, test_size=.3,\n",
    "                                                    stratify=target, shuffle = True,\n",
    "                                                    random_state=2024)\n",
    "print(f'Dim of train: {len(X_train)}', f'\\tTarget rate: {y_train.mean()  * 100:.2f}%')\n",
    "print(f\"Dim of test: {len(X_test)}\", f'\\tTarget rate: {y_test.mean() * 100:.2f}%')"
   ]
  },
  {
   "cell_type": "markdown",
   "metadata": {
    "id": "3pZmEHQgye_9"
   },
   "source": [
    "Теперь самое интересное. Можно кодировать данные. Мы могли бы использовать для этого знакомый уже вам класс `sklearn.feature_extraction.text.CountVectorizer`, который кодирует текст в мешок слов. Но делать этого не станем, и вот почему.\n",
    "\n",
    "Слова, которые встречаются достаточно часто (имеют высокую частотность), имеют и наибольшую оценку. В этих словах может быть не так много информационного выигрыша для модели, как в менее частых словах. Один из способов исправить ситуацию – понижать оценку слова, которое часто встречается во всех схожих документах. Это называется `TF-IDF`. Что это такое?\n",
    "\n",
    "`TF` (`Term Frequency`, частота слова) $-$ отношение числа вхождений слова к общему количеству слов в документе.\n",
    "\n",
    "$$TF(слово) = \\frac{Сколько\\spaceраз\\spaceслово\\spaceпоявилось\\spaceв\\spaceдокументе}{Общее\\spaceколичество\\spaceслов\\spaceв\\spaceдокументе}$$\n",
    "\n",
    "`IDF` (`inverse document frequency`, обратная частота документа) — инверсия частоты, с которой некоторое слово встречается в документах коллекции.\n",
    "\n",
    "$$IDF(слово) = log(\\frac{Общее\\spaceколичество\\spaceслов\\spaceв\\spaceдокументе}{Сколько\\spaceраз\\spaceслово\\spaceпоявилось\\spaceв\\spaceдокументе})$$\n",
    "\n",
    "В итоге `TF-IDF` вычисляется так:\n",
    "\n",
    "$$TF-IDF = TF(слово) * IDF(слово)$$"
   ]
  },
  {
   "cell_type": "code",
   "execution_count": 19,
   "metadata": {
    "id": "HypUp_Ckrvh4"
   },
   "outputs": [
    {
     "name": "stdout",
     "output_type": "stream",
     "text": [
      "<class 'scipy.sparse._csr.csr_matrix'> <class 'scipy.sparse._csr.csr_matrix'>\n"
     ]
    }
   ],
   "source": [
    "from sklearn.feature_extraction.text import TfidfVectorizer as tfidf\n",
    "\n",
    "vectorizer = tfidf()\n",
    "X_train_vectorised = vectorizer.fit_transform(X_train)\n",
    "X_test_vectorised = vectorizer.transform(X_test)\n",
    "\n",
    "print(type(X_train_vectorised), type(X_test_vectorised))"
   ]
  },
  {
   "cell_type": "code",
   "execution_count": 20,
   "metadata": {
    "id": "Nvi7fecMl8tx"
   },
   "outputs": [
    {
     "name": "stdout",
     "output_type": "stream",
     "text": [
      "memory\n",
      "steps\n",
      "verbose\n",
      "vectorizer\n",
      "classifier\n",
      "vectorizer__analyzer\n",
      "vectorizer__binary\n",
      "vectorizer__decode_error\n",
      "vectorizer__dtype\n",
      "vectorizer__encoding\n",
      "vectorizer__input\n",
      "vectorizer__lowercase\n",
      "vectorizer__max_df\n",
      "vectorizer__max_features\n",
      "vectorizer__min_df\n",
      "vectorizer__ngram_range\n",
      "vectorizer__norm\n",
      "vectorizer__preprocessor\n",
      "vectorizer__smooth_idf\n",
      "vectorizer__stop_words\n",
      "vectorizer__strip_accents\n",
      "vectorizer__sublinear_tf\n",
      "vectorizer__token_pattern\n",
      "vectorizer__tokenizer\n",
      "vectorizer__use_idf\n",
      "vectorizer__vocabulary\n",
      "classifier__C\n",
      "classifier__class_weight\n",
      "classifier__dual\n",
      "classifier__fit_intercept\n",
      "classifier__intercept_scaling\n",
      "classifier__l1_ratio\n",
      "classifier__max_iter\n",
      "classifier__multi_class\n",
      "classifier__n_jobs\n",
      "classifier__penalty\n",
      "classifier__random_state\n",
      "classifier__solver\n",
      "classifier__tol\n",
      "classifier__verbose\n",
      "classifier__warm_start\n"
     ]
    }
   ],
   "source": [
    "# попробуем сделать конвейер обработки\n",
    "# соединим обработчик и саму модель\n",
    "# используем в качестве примера логистическую регрессию\n",
    "from sklearn.pipeline import Pipeline\n",
    "from sklearn.linear_model import LogisticRegression\n",
    "\n",
    "# склеивание в пайплайн\n",
    "clf_pipeline_LogitReg = Pipeline([\n",
    "    (\"vectorizer\", tfidf()),\n",
    "    (\"classifier\", LogisticRegression())\n",
    "])\n",
    "\n",
    "# посмотрим, какие параметры доступны после склеивания\n",
    "print('\\n'.join(clf_pipeline_LogitReg.get_params().keys()))"
   ]
  },
  {
   "cell_type": "markdown",
   "metadata": {
    "id": "T1DEUGa_23E8"
   },
   "source": [
    "Можно заметить, что теперь нам доступны несколько параметров внутри одного класса. Можно даже подбирать параметры для логистической регрессии и векторизатора вместе.\n",
    "\n",
    "\n",
    "Будем подбирать для логистической регрессии метрику для регуляризации и значение коэффициента C, а для векторизатора будем искать параметр `min_df`, который определяет минимальное количество документов, в которых встречается слово (если слово не встречается в указанном количестве текстов, то просто не включается в итоговый словарь), и количество `N-грам`. Что это такое? Иногда полезно брать не отдельное слово для включения его в словарь, а словосочетания с этим словом. Например, если в тексте \"сегодня быть красивый, завтра быть уставший\" брать словосочетания из двух слов (биграммы), то получится набор: \"сегодня быть\", \"быть красивый\", \"красивый, завтра\", \"завтра быть\", \"быть уставший\". Мы можем комбинировать N-граммы с отдельными словами, а можем рассматривать их отдельно."
   ]
  },
  {
   "cell_type": "code",
   "execution_count": 21,
   "metadata": {
    "id": "pkUwW-rV51a5"
   },
   "outputs": [],
   "source": [
    "from sklearn import metrics\n",
    "def plotROC(y_test, probs, title=''):\n",
    "    if title!='':\n",
    "        title = ' ('+title+')'\n",
    "    fpr, tpr, threshold = metrics.roc_curve(y_test, probs)\n",
    "    roc_auc = metrics.auc(fpr, tpr)\n",
    "    plt.title('ROC'+title)\n",
    "    plt.plot(fpr, tpr, 'b', label=f'AUC= %0.5f' % roc_auc)\n",
    "    plt.legend(loc = 'lower right')\n",
    "    plt.plot([0, 1], [0, 1],'r--')\n",
    "    plt.xlim([0, 1])\n",
    "    plt.ylim([0, 1])\n",
    "    plt.ylabel('TPR')\n",
    "    plt.xlabel('FPR')\n",
    "    plt.show();"
   ]
  },
  {
   "cell_type": "code",
   "execution_count": 22,
   "metadata": {
    "id": "CRQgVF2v17K5"
   },
   "outputs": [
    {
     "data": {
      "image/png": "[encoded data removed]",
      "text/plain": [
       "<Figure size 640x480 with 1 Axes>"
      ]
     },
     "metadata": {},
     "output_type": "display_data"
    },
    {
     "data": {
      "image/png": "[encoded data removed]",
      "text/plain": [
       "<Figure size 640x480 with 1 Axes>"
      ]
     },
     "metadata": {},
     "output_type": "display_data"
    },
    {
     "name": "stdout",
     "output_type": "stream",
     "text": [
      "CPU times: user 19.6 s, sys: 17.2 s, total: 36.7 s\n",
      "Wall time: 8.05 s\n"
     ]
    }
   ],
   "source": [
    "%%time\n",
    "from sklearn.model_selection import RandomizedSearchCV\n",
    "from warnings import filterwarnings\n",
    "filterwarnings('ignore')\n",
    "\n",
    "parameters = {\n",
    "              'vectorizer__ngram_range': [(1, 2), (1, 3)], # от 1 слова до биграмм и от 1 слова до триграмм\n",
    "              'vectorizer__min_df': [0., .2, .4, .6, .8,1],\n",
    "              'classifier__penalty': ('l1','l2'),\n",
    "              'classifier__C': (range(1,10,2)),\n",
    "             }\n",
    "\n",
    "\n",
    "rndgs_clf_LogitReg = RandomizedSearchCV(clf_pipeline_LogitReg, parameters,\n",
    "                                        scoring='f1', cv=4, n_jobs=-1)\n",
    "rndgs_clf_LogitReg.fit(X_train, y_train)\n",
    "\n",
    "probs = rndgs_clf_LogitReg.predict_proba(X_train)[:,1]\n",
    "plotROC(y_train, probs, 'Train')\n",
    "\n",
    "probs = rndgs_clf_LogitReg.predict_proba(X_test)[:,1]\n",
    "plotROC(y_test, probs, 'Test')"
   ]
  },
  {
   "cell_type": "markdown",
   "metadata": {
    "id": "ke5tpx1c8r_R"
   },
   "source": [
    "Как можно видеть, построенная модель достаточно хорошо справляется с поставленной задачей и вполне способна выявлять токсичные комментарии.\n",
    "\n",
    "Однако когда речь заходит о более сложных задачах, например, генерации следующего слова в тексте (и вообще написание нового текста или дополнение уже существующего), базовые модели не подойдут хотя бы по той причине, что у них нет краткосрочной памяти, в которой они могли бы хранить некоторые детали контекста для генерации чего-либо нового. Поэтому, когда мы имеем дело с последовательностями вообще и текстовыми последовательностями в частности, мы обращаемся к специальной архитектуре нейронных сетей $-$ рекуррентным нейросетям."
   ]
  },
  {
   "cell_type": "markdown",
   "metadata": {
    "id": "u70hmc23z9tb"
   },
   "source": [
    "## Рекуррентные нейроны и слои\n",
    "До сих пор мы были сосредоточены на нейронных сетях прямого распространения, где активации протекали от входного слоя до выходного слоя. `Рекуррентная нейронная сеть` похожа на сет прямого распространения, но также имеет связи, указывающие в обратном направлении.\n",
    "\n",
    "Рассмотрим простейшую рекуррентную сеть, состоящую из одного нейрона, который получает входы, производит выход и вместе с тем передаёт выход самому себе.\n",
    "\n",
    "![](./src/recurrent_neuron.png)\n",
    "\n",
    "На каждом временном шаге $t$ такой нейрон получает входной сигнал $x_{(t)}$, а также собственный выход из предыдущего временного шага $y_{(t-1)}$. Мы можем представить такую крошечную сеть по оси времени, как это показано на рисунке выше справа. Процесс называется развёртыванием сети во времени.\n",
    "\n",
    "Можно легко создать слой из рекуррентных нейронов. На каждом временном шаге $t$ каждый нейрон получает входной вектор признаков $x_{t}$ и выходной вектор из предыдущего временного шага $y_{(t-1)}$. Как видите, теперь входы и выходы стали векторами, когда для одного нейрона это было одно число.\n",
    "\n",
    "![](./src/reccurent_layer.png)\n",
    "\n",
    "Каждый рекуррентный нейрон имеет два набора весов: один для входов $x_{(t)}$ и один для выходов предыдущего временного шага $y_{(t-1)}$.\n",
    "\n"
   ]
  },
  {
   "cell_type": "markdown",
   "metadata": {
    "id": "0-bpWRMM5W_c"
   },
   "source": [
    "Поскольку выход рекуррентного нейрона на временном шаге $t$ $-$ это функция от всех входов предшествующих временных шагов, то можно было бы сказать, что он обладает некоторой формой *памяти*. Часть нейронной сети, которая сохраняет состояние через временные шаги, называется *ячейкой памяти*. Одиночный рекуррентный нейрон или целый слой рекуррентных нейронов представляют собой базовую ячейку, способную узнавать только короткие образы (как правило, длиной только в 10 шагов, но она может меняться в зависимости от задачи).\n",
    "\n",
    "## Входные и выходные последовательности\n",
    "\n",
    "![](./src/recurrent_nn.png)\n",
    "\n",
    "Рассмотрим несколько типов таких сетей.\n",
    "\n",
    "Например, рекуррентная сеть на рисунке выше в левом верхнем углу может одновременно принимать последовательность входов и порождать последовательность выходов. Она называется `сеть \"последовательность в последовательность\"`. Как правило, такие сети оказываются полезными для прогнозирования `временных рядов`, как курс акций.\n",
    "\n",
    "В качестве альтернативы можно использовать сеть из правого верхнего угла, которая принимает последовательность входов и игнорирует все выходы, кроме последнего. Другими словами, это `сеть \"последовательность в вектор\"`. Например, сети можно передать последовательность слов, соответствующих рецензии на фильм, и она выдаст оценку отношения (например, от -1 до 1)."
   ]
  },
  {
   "cell_type": "markdown",
   "metadata": {
    "id": "gSO9Bmxe8v0x"
   },
   "source": [
    "И наоборот, можно передавать сети один и тот же вектор снова и снова на каждом временном шаге и позволить ей выдать последовательность (левая нижняя на рисунке). Это `сеть \"вектор в последовательность\"`. Например, входом может быть вектор изображения или выход свёрточной сети, а выходом $-$ подпись для изображения.\n",
    "\n",
    "Наконец, мы могли бы построить сеть \"последовательность в вектор\", которая называется `кодировщиком`, а за ней сеть \"вектор в последовательность\", которая называется \"декодировщиком\". Называется такая двухшаговая модель \"кодировщик-декодировщик\" и применяется для сложных задач машинного перевода текста."
   ]
  },
  {
   "cell_type": "markdown",
   "metadata": {
    "id": "rNjvHXH0-H7R"
   },
   "source": [
    "## Борьба с проблемой краткосрочной памяти\n",
    "Из-за трансформаций, которым подвергаются данные при движении через рекуррентную сеть, на каждом временном шаге часть информации утрачивается. Через некоторое время состояние сети практически не содержит следов первых входов.\n",
    "\n",
    "Чтобы справиться с проблемой, были предложены разнообразные типы ячеек с долговременной памятью. Они оказались настолько успешными, что базовые ячейки больше широко не применяются.\n",
    "\n"
   ]
  },
  {
   "cell_type": "markdown",
   "metadata": {
    "id": "Omrd0VZD_P9p"
   },
   "source": [
    "### Ячейка LSTM\n",
    "Ячейка `долгой краткосрочной памяти` (`Long Short-Term Memory - LSTM`) была предложена в 1997 году Сеппом Хохрайтером и Юргеном Шмидхубером, а потом ещё годами совершенствовалась различными исследователями.\n",
    "\n",
    "Каким образом работает эта ячейка? Её строение показано на рисунке ниже.\n",
    "\n",
    "![](./src/lstm.png)"
   ]
  },
  {
   "cell_type": "markdown",
   "metadata": {
    "id": "MTcgPrBGAJ4n"
   },
   "source": [
    "Если не смотреть на то, что находится внутри чёрного ящика ячейки, то в общем LSTM работает как и базовая ячейка памяти, но с одним новшеством: вектор её состояния расщепляется на два отдельных вектора $-$ вектор краткосрочного состояния ($h_{(t)}$ и вектор долгосрочного состояния $c_{(t)}$.\n",
    "\n",
    "Основная идея работы этой ячейки заключается в том, чтобы сеть могла узнать, что хранить в долгосрочном состоянии, а что $-$ забывать. Во время пересечения ячейки слева-направо долгосрочное состояние $c_{(t-1)}$ проходит через шлюз забывания с отбрасыванием некоторых воспоминаний и затем посредством операции сложения к нему добавляется ряд новых воспоминаний (выбранных входным шлюзом). Результат $c_{(t)}$ отправляется прямо на выход без какой-либо дальнейшей трансформации. Следовательно, на каждом временном шаге одни воспоминания отбрасываются, а другие добавляются. Кроме того, после операции сложения долгосрочное состояние копируется и пропускается через функцию `tanh`, а результат фильтруется выходным шлюзом.\n",
    "\n",
    "Итогом будет краткосрочное состояние $h_{(t)}$ (которое равно выходу ячейки для данного временного шага)."
   ]
  },
  {
   "cell_type": "markdown",
   "metadata": {
    "id": "sHjYCyboEcst"
   },
   "source": [
    "## Пример построения архитектуры \"кодировщик-декодировщик\"\n",
    "Рассмотрим стандартный пример архитектуры \"кодировщик-декодировщик\" на примере задачи машинного перевода с одного естественного языка на другой. В нашем примере будем строить модель, которая переводит текст с английского языка на русский язык. Начнём пошагово с простого примера, который усовершенствуем в конце."
   ]
  },
  {
   "cell_type": "markdown",
   "metadata": {
    "id": "mZMU-n6pSpSo"
   },
   "source": [
    "### Данные\n",
    "Воспользуемся данными английско-русского словаря и подгрузим их."
   ]
  },
  {
   "cell_type": "code",
   "execution_count": 23,
   "metadata": {
    "id": "W9k7wYh285B0"
   },
   "outputs": [],
   "source": [
    "# откроем файл на чтение и выгрузим его содержимое\n",
    "with open('data/rus.txt') as file:\n",
    "    lines = file.read().split(\"\\n\")[:-1]"
   ]
  },
  {
   "cell_type": "code",
   "execution_count": 24,
   "metadata": {
    "id": "5nCXMIfl3Qpu"
   },
   "outputs": [
    {
     "data": {
      "text/html": [
       "<div>\n",
       "<style scoped>\n",
       "    .dataframe tbody tr th:only-of-type {\n",
       "        vertical-align: middle;\n",
       "    }\n",
       "\n",
       "    .dataframe tbody tr th {\n",
       "        vertical-align: top;\n",
       "    }\n",
       "\n",
       "    .dataframe thead th {\n",
       "        text-align: right;\n",
       "    }\n",
       "</style>\n",
       "<table border=\"1\" class=\"dataframe\">\n",
       "  <thead>\n",
       "    <tr style=\"text-align: right;\">\n",
       "      <th></th>\n",
       "      <th>оригинал</th>\n",
       "      <th>перевод</th>\n",
       "    </tr>\n",
       "  </thead>\n",
       "  <tbody>\n",
       "    <tr>\n",
       "      <th>0</th>\n",
       "      <td>Go.</td>\n",
       "      <td>[start] Марш! [end]</td>\n",
       "    </tr>\n",
       "    <tr>\n",
       "      <th>1</th>\n",
       "      <td>Go.</td>\n",
       "      <td>[start] Иди. [end]</td>\n",
       "    </tr>\n",
       "    <tr>\n",
       "      <th>2</th>\n",
       "      <td>Go.</td>\n",
       "      <td>[start] Идите. [end]</td>\n",
       "    </tr>\n",
       "    <tr>\n",
       "      <th>3</th>\n",
       "      <td>Hi.</td>\n",
       "      <td>[start] Здравствуйте. [end]</td>\n",
       "    </tr>\n",
       "    <tr>\n",
       "      <th>4</th>\n",
       "      <td>Hi.</td>\n",
       "      <td>[start] Привет! [end]</td>\n",
       "    </tr>\n",
       "    <tr>\n",
       "      <th>5</th>\n",
       "      <td>Hi.</td>\n",
       "      <td>[start] Хай. [end]</td>\n",
       "    </tr>\n",
       "    <tr>\n",
       "      <th>6</th>\n",
       "      <td>Hi.</td>\n",
       "      <td>[start] Здрасте. [end]</td>\n",
       "    </tr>\n",
       "    <tr>\n",
       "      <th>7</th>\n",
       "      <td>Hi.</td>\n",
       "      <td>[start] Здоро́во! [end]</td>\n",
       "    </tr>\n",
       "    <tr>\n",
       "      <th>8</th>\n",
       "      <td>Run!</td>\n",
       "      <td>[start] Беги! [end]</td>\n",
       "    </tr>\n",
       "    <tr>\n",
       "      <th>9</th>\n",
       "      <td>Run!</td>\n",
       "      <td>[start] Бегите! [end]</td>\n",
       "    </tr>\n",
       "    <tr>\n",
       "      <th>10</th>\n",
       "      <td>Run.</td>\n",
       "      <td>[start] Беги! [end]</td>\n",
       "    </tr>\n",
       "    <tr>\n",
       "      <th>11</th>\n",
       "      <td>Run.</td>\n",
       "      <td>[start] Бегите! [end]</td>\n",
       "    </tr>\n",
       "    <tr>\n",
       "      <th>12</th>\n",
       "      <td>Who?</td>\n",
       "      <td>[start] Кто? [end]</td>\n",
       "    </tr>\n",
       "    <tr>\n",
       "      <th>13</th>\n",
       "      <td>Wow!</td>\n",
       "      <td>[start] Вот это да! [end]</td>\n",
       "    </tr>\n",
       "    <tr>\n",
       "      <th>14</th>\n",
       "      <td>Wow!</td>\n",
       "      <td>[start] Круто! [end]</td>\n",
       "    </tr>\n",
       "    <tr>\n",
       "      <th>15</th>\n",
       "      <td>Wow!</td>\n",
       "      <td>[start] Здорово! [end]</td>\n",
       "    </tr>\n",
       "    <tr>\n",
       "      <th>16</th>\n",
       "      <td>Wow!</td>\n",
       "      <td>[start] Ух ты! [end]</td>\n",
       "    </tr>\n",
       "    <tr>\n",
       "      <th>17</th>\n",
       "      <td>Wow!</td>\n",
       "      <td>[start] Ого! [end]</td>\n",
       "    </tr>\n",
       "    <tr>\n",
       "      <th>18</th>\n",
       "      <td>Wow!</td>\n",
       "      <td>[start] Вах! [end]</td>\n",
       "    </tr>\n",
       "    <tr>\n",
       "      <th>19</th>\n",
       "      <td>Fire!</td>\n",
       "      <td>[start] Огонь! [end]</td>\n",
       "    </tr>\n",
       "  </tbody>\n",
       "</table>\n",
       "</div>"
      ],
      "text/plain": [
       "   оригинал                      перевод\n",
       "0       Go.          [start] Марш! [end]\n",
       "1       Go.           [start] Иди. [end]\n",
       "2       Go.         [start] Идите. [end]\n",
       "3       Hi.  [start] Здравствуйте. [end]\n",
       "4       Hi.        [start] Привет! [end]\n",
       "5       Hi.           [start] Хай. [end]\n",
       "6       Hi.       [start] Здрасте. [end]\n",
       "7       Hi.      [start] Здоро́во! [end]\n",
       "8      Run!          [start] Беги! [end]\n",
       "9      Run!        [start] Бегите! [end]\n",
       "10     Run.          [start] Беги! [end]\n",
       "11     Run.        [start] Бегите! [end]\n",
       "12     Who?           [start] Кто? [end]\n",
       "13     Wow!    [start] Вот это да! [end]\n",
       "14     Wow!         [start] Круто! [end]\n",
       "15     Wow!       [start] Здорово! [end]\n",
       "16     Wow!         [start] Ух ты! [end]\n",
       "17     Wow!           [start] Ого! [end]\n",
       "18     Wow!           [start] Вах! [end]\n",
       "19    Fire!         [start] Огонь! [end]"
      ]
     },
     "execution_count": 24,
     "metadata": {},
     "output_type": "execute_result"
    }
   ],
   "source": [
    "# спарсим из каждой строки предложение на английском и\n",
    "# его перевод на русском\n",
    "\n",
    "import pandas as pd\n",
    "\n",
    "pairs = {\n",
    "    \"оригинал\" : [],\n",
    "    \"перевод\" :  []\n",
    "}\n",
    "for line in lines:\n",
    "    english, russian = line.split(\"\\t\")[:2]\n",
    "    russian = \"[start] \" + russian + \" [end]\" # добавим метки начала и конца предложения\n",
    "    pairs[\"оригинал\"].append(english)\n",
    "    pairs[\"перевод\"].append(russian)\n",
    "\n",
    "df = pd.DataFrame(pairs)\n",
    "df.head(20)"
   ]
  },
  {
   "cell_type": "code",
   "execution_count": null,
   "metadata": {
    "id": "CwXOFdXJ3QsH"
   },
   "outputs": [],
   "source": []
  },
  {
   "cell_type": "markdown",
   "metadata": {
    "id": "sdaF6e4_W3u1"
   },
   "source": []
  },
  {
   "cell_type": "code",
   "execution_count": null,
   "metadata": {
    "id": "YxucOd2i3Qui"
   },
   "outputs": [],
   "source": []
  },
  {
   "cell_type": "code",
   "execution_count": null,
   "metadata": {
    "id": "47U-FaIi3Qw5"
   },
   "outputs": [],
   "source": []
  },
  {
   "cell_type": "code",
   "execution_count": null,
   "metadata": {
    "id": "w1jWh7DY3Q0E"
   },
   "outputs": [],
   "source": []
  }
 ],
 "metadata": {
  "colab": {
   "provenance": []
  },
  "kernelspec": {
   "display_name": "Python 3 (ipykernel)",
   "language": "python",
   "name": "python3"
  },
  "language_info": {
   "codemirror_mode": {
    "name": "ipython",
    "version": 3
   },
   "file_extension": ".py",
   "mimetype": "text/x-python",
   "name": "python",
   "nbconvert_exporter": "python",
   "pygments_lexer": "ipython3",
   "version": "3.11.5"
  }
 },
 "nbformat": 4,
 "nbformat_minor": 1
}
