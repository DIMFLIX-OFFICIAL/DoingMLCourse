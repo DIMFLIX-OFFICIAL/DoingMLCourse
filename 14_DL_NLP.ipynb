{
 "cells": [
  {
   "cell_type": "markdown",
   "metadata": {
    "id": "VEOXCExXvuQA"
   },
   "source": [
    "# Занятие 14. Методы обработки текста. Рекуррентные сети и трансформеры\n",
    "Когда Алан Тьюринг придумал свой знаменитый тест, его целью была оценка способности машины соответствовать человеческому интеллекту. Он мог бы проверить многие вещи, такие как возможность узнавать кошек на фотографиях, играть в шахматы или сочинять музыку, но всё же выбрал лингвистическую задачу. В частности, Тьюринг изобрёл `чатбот`, который способен обмануть собеседника, заставив его думать, что он разговаривает с человеком.\n",
    "\n",
    "Несмотря на недостатки, тест Тьюринга подчёркивает тот факт, что овладение языком является, наверное, самой замечательной способностью человека разумного. Можем ли мы построить машину, способную читать и записывать на естественном языке? Об этом мы и поговорим на данном занятии.\n",
    "\n",
    "## Обработка естественного языка\n",
    "`Обработка естественного языка`, (Natural Language Processing (дальше просто `NLP`)) $-$ это подраздел науки об искусственном интеллекте (и машинного обучения в частности), который занимается изучением и анализом процесса распознавания машинами естественных (человеческих) языков. NLP позволяет применять алгоритмы машинного обучения для текста и речи.\n",
    "\n",
    "Например, мы можем использовать NLP, чтобы создавать системы вроде распознавания речи, обобщения документов, машинного перевода, выявления спама, распознавания именованных сущностей, ответов на вопросы, автокомплита, предиктивного ввода текста и т.д.\n",
    "\n",
    "## Задачи NLP\n",
    "Спектр задач и приложений методов обработки языка очень разнообразен. Посмотрим на примеры задач, которые обычно решают специалисты из этой области.\n",
    "\n",
    "Одна из задач, где точно не обойтись без методов машинного обучения и искусственного инетеллекта, это `машинный перевод текстов` с одного языка на другой. Действительно, переводить сложные тексты человеческими усилиями очень долго, а при механической обработке детерминированными алгоритмами получается быстро, но неэффективно. Искусственный интеллект мог бы сократить расходы и автоматизировать процесс.\n",
    "\n",
    "Другая распространённая задача $-$ анализ текстов. Эта задача встречается как в виде классификации текстов по определённым критериям, так и в виде анализа части текстовой информации. Например, анализ тональности позволяет определить эмоциональную окраску комментария к посту в соцсети или отзыва на товар на маркетплейсе.\n",
    "\n",
    "Однако самой главной целью остаётся научить компьютер разговаривать. Поэтому такие задачи как построение диалоговых систем и систем распознавания речи остаются приоритетными, несмотря на огромные достижения в этой области."
   ]
  },
  {
   "cell_type": "markdown",
   "metadata": {
    "id": "gFjMK-H-vuZ6"
   },
   "source": [
    "## Методы и подходы в NLP для обработки текста\n",
    "Как представить текст в удобном для компьютера формате? Нам нужно научиться \"готовить\" текст для машины, которая понимает числа, но не имеет представления о символах и, тем более, о словах и предложениях.\n",
    "\n",
    "Здесь очень хорошо помогает знание лингвистики $-$ науки, которая изучает язык как систему. С точки зрения лингвистики, `текст` $-$ некоторая законченная последовательность предложений, связанных по смыслу друг с другом в рамках общего замысла автора. В свою очередь, `предложение` как стуктурная единица текста $-$ это тоже последовательность, но уже из других единиц, `слов`. Мы можем бесконечно долго членить текст, пока не дойдём до неделимого юнита $-$ символа, если говорим о тексте печатном, или звука, если имеется в виду устная речь.\n",
    "\n",
    "В задаче обработки текста разделение текста на некоторые единицы называется `токенизацией`. Можно сегментировать текст на предложения, можно $-$ на отдельные слова, а можно и на слоги. Цель здесь одна $-$ разбить цельный текст на компоненты, с которыми в дальнейшем мы что-то сможем сделать.\n",
    "\n",
    "\n"
   ]
  },
  {
   "cell_type": "code",
   "execution_count": 1,
   "metadata": {
    "id": "bX-yCskQ7kXM"
   },
   "outputs": [
    {
     "name": "stderr",
     "output_type": "stream",
     "text": [
      "[nltk_data] Downloading package punkt_tab to\n",
      "[nltk_data]     /home/agat.local/s.bulganin/nltk_data...\n",
      "[nltk_data]   Package punkt_tab is already up-to-date!\n"
     ]
    },
    {
     "data": {
      "text/plain": [
       "True"
      ]
     },
     "execution_count": 1,
     "metadata": {},
     "output_type": "execute_result"
    }
   ],
   "source": [
    "# как правило, для токенизации есть готовые библиотеки\n",
    "import nltk\n",
    "nltk.download('punkt_tab')"
   ]
  },
  {
   "cell_type": "code",
   "execution_count": 2,
   "metadata": {
    "id": "o3NKIR8-tsZd"
   },
   "outputs": [
    {
     "name": "stdout",
     "output_type": "stream",
     "text": [
      "Нынче ветрено и волны с перехлестом.\n",
      "\n",
      "Скоро осень, все изменится в округе.\n",
      "\n",
      "Смена красок этих трогательней, Постум,\n",
      "чем наряда перемена у подруги.\n",
      "\n"
     ]
    }
   ],
   "source": [
    "text = '''Нынче ветрено и волны с перехлестом.\n",
    "Скоро осень, все изменится в округе.\n",
    "Смена красок этих трогательней, Постум,\n",
    "чем наряда перемена у подруги.'''\n",
    "sentences = nltk.sent_tokenize(text) # разбивает текст на предложения\n",
    "for sentence in sentences:\n",
    "    print(sentence, end='\\n\\n')"
   ]
  },
  {
   "cell_type": "code",
   "execution_count": 3,
   "metadata": {
    "id": "7VLUoRajvumM"
   },
   "outputs": [
    {
     "name": "stdout",
     "output_type": "stream",
     "text": [
      "['Нынче', 'ветрено', 'и', 'волны', 'с', 'перехлестом', '.']\n",
      "['Скоро', 'осень', ',', 'все', 'изменится', 'в', 'округе', '.']\n",
      "['Смена', 'красок', 'этих', 'трогательней', ',', 'Постум', ',', 'чем', 'наряда', 'перемена', 'у', 'подруги', '.']\n"
     ]
    }
   ],
   "source": [
    "# или по словам\n",
    "for sentence in sentences:\n",
    "    words = nltk.word_tokenize(sentence)\n",
    "    print(words)"
   ]
  },
  {
   "cell_type": "markdown",
   "metadata": {
    "id": "sPXYiH5c7xu9"
   },
   "source": [
    "Обратите внимание, что знаки пунктуации могут считаться отдельным токеном в одной задаче (и вы будете использовать их для своих целей) и будут считаться мусором в другой задаче.\n",
    "\n",
    "Обычно одно слово может иметь множество `словоформ` в одном тексте. Например, в предложении \"Маша решила помыть кошку, кошка была в шоке\" слово \"кошка\" имеет две разные словоформы, которые отличаются друг от друга только формой падежа, но бывают и сложные случаи. Для человека (особенно для носителя любого синтетического языка (например, русского или венгерского)) это нормально, однако для любого алгоритма это будут два разных слова. Если вдуматься, то для человека это тоже два разных слова, пока он не откинет окончание или не определит, что все они от одного корня. По сути, следующий шаг нормализации текста очень похож на это действие: два метода $-$ лемматизация и стемминг $-$ преследуют цель привести все встречающиеся словоформы к одной, начальной словарной форме.\n",
    "\n",
    "`Стемминг` $-$ это грубый способ, который отрезает либо всё лишнее от корня слова, либо только окончание. Из-за этого может потеряться достаточно полезная информация. Например, для словоформы \"кошкой\" стемминг отсечёт окончание \"ой\" и  постфикс \"к\" (либо только окончание), оставив только корневую часть $-$ \"кош\" (\"кошк\"). А вот для английского языка ситуация может быть ещё хуже: в английском языке прилагательное \"good\" имеет сравнительную степень \"better\". Стемминг не сможет отсечь здесь какую-то часть, поскольку нужно сверяться со словарём.\n",
    "\n",
    "В отличие от стемминга, `лемматизация` старается привести каждое слово к его начальной форме. Это более тонкий процесс по сравнению с стеммингом. Как правило, приведение к начальной форме для каждой части речи выглядит по-своему. Для существительных это приведение слова к единственному числу именительного падежа (сравните \"кошками\" -> \"кошка\"), для прилагательных это $-$ к форме единственного числа именительного падежа мужского рода (\"красивых\" -> \"красивый\"),  а для глаголов $-$ приведение к инфинитиву (\"брала\" -> \"брать\").\n",
    "\n",
    "Оба способа нацелены на то, чтобы сократить разнообразие форм слов и сократить количество кодировок в результате преобразования всех единиц текста.\n"
   ]
  },
  {
   "cell_type": "code",
   "execution_count": 4,
   "metadata": {
    "id": "YaanJ2_e7xDH"
   },
   "outputs": [
    {
     "name": "stdout",
     "output_type": "stream",
     "text": [
      "['листов', 'листочк', 'лист', 'листв', 'листв', 'поч', 'так']\n"
     ]
    }
   ],
   "source": [
    "# пример стемминга для русскоязычных текстов\n",
    "from nltk.stem.snowball import SnowballStemmer\n",
    "\n",
    "stemmer = SnowballStemmer(\"russian\")\n",
    "text = \"Листовые листочки лист листва листве почему так\"\n",
    "tokens = nltk.word_tokenize(text)\n",
    "stemmed_words = [stemmer.stem(word) for word in tokens]\n",
    "print(stemmed_words)"
   ]
  },
  {
   "cell_type": "code",
   "execution_count": 5,
   "metadata": {
    "id": "-1AyBrpEvuoy"
   },
   "outputs": [
    {
     "name": "stdout",
     "output_type": "stream",
     "text": [
      "['the', 'stem', 'form', 'of', 'leav', 'is', 'leaf']\n"
     ]
    }
   ],
   "source": [
    "# пример стемминга для англоязычных текстов\n",
    "from nltk.stem import PorterStemmer\n",
    "\n",
    "stemmer = PorterStemmer()\n",
    "text = \"The stemmed form of leaves is leaf\"\n",
    "tokens = nltk.word_tokenize(text)\n",
    "stemmed_words = [stemmer.stem(word) for word in tokens]\n",
    "print(stemmed_words)"
   ]
  },
  {
   "cell_type": "code",
   "execution_count": 6,
   "metadata": {
    "id": "wnG1WmFdvusV"
   },
   "outputs": [
    {
     "name": "stdout",
     "output_type": "stream",
     "text": [
      "['листовой', 'листочек', 'лист', 'листва', 'листва', 'почему', 'так']\n"
     ]
    }
   ],
   "source": [
    "# пример лемматизации для русскоязычного текста\n",
    "# в nltk лемматизатора для ru нет, поэтому используем другой модуль\n",
    "# !pip install pymorphy3\n",
    "import pymorphy3\n",
    "\n",
    "morph = pymorphy3.MorphAnalyzer()\n",
    "text = \"Листовые листочки лист листва листве почему так\"\n",
    "tokens = nltk.word_tokenize(text)\n",
    "lemmatized_words = [morph.parse(word)[0].normal_form for word in tokens]\n",
    "print(lemmatized_words)"
   ]
  },
  {
   "cell_type": "code",
   "execution_count": 7,
   "metadata": {
    "id": "RCUv5LYYQGtU"
   },
   "outputs": [
    {
     "name": "stderr",
     "output_type": "stream",
     "text": [
      "[nltk_data] Downloading package wordnet to\n",
      "[nltk_data]     /home/agat.local/s.bulganin/nltk_data...\n",
      "[nltk_data]   Package wordnet is already up-to-date!\n"
     ]
    },
    {
     "data": {
      "text/plain": [
       "True"
      ]
     },
     "execution_count": 7,
     "metadata": {},
     "output_type": "execute_result"
    }
   ],
   "source": [
    "nltk.download('wordnet')"
   ]
  },
  {
   "cell_type": "code",
   "execution_count": 8,
   "metadata": {
    "id": "qKr8kLnTPeCr"
   },
   "outputs": [
    {
     "name": "stdout",
     "output_type": "stream",
     "text": [
      "['The', 'lemmatized', 'form', 'of', 'leaf', 'is', 'leaf']\n"
     ]
    }
   ],
   "source": [
    "# для англоязычного текста\n",
    "from nltk.stem import WordNetLemmatizer\n",
    "\n",
    "lemmatizer = WordNetLemmatizer()\n",
    "text = \"The lemmatized form of leaves is leaf\"\n",
    "tokens = nltk.word_tokenize(text)\n",
    "lemmatized_words = [lemmatizer.lemmatize(word) for word in tokens]\n",
    "print(lemmatized_words)"
   ]
  },
  {
   "cell_type": "markdown",
   "metadata": {
    "id": "JVL9Y5emRsMA"
   },
   "source": [
    "Стоит заметить, что лемматизатор не справился со словом \"lemmatized\". Причин может быть две: либо в словаре не нашлось нормальной формы слова, либо лемматизатору нужно указать конкретную часть речи для этого слова."
   ]
  },
  {
   "cell_type": "markdown",
   "metadata": {
    "id": "C2_WvtpfSEG2"
   },
   "source": [
    "Однако это ещё не все действия, которые связаны с нормализацией текста.\n",
    "\n",
    "Лингвистика выделяет самостоятельные и служебные части речи. К первым относятся существительные, глаголы, прилагательные и многие другие части речи, которые имеют смысловую нагрузку. Напротив, к служебным частям речи относятся союзы, арктикли, предлоги, то есть те части речи, которые самостоятельной смысловой нагрузки не несут, но могут помочь в распознавании самостоятельных частей речи.\n",
    "\n",
    "К несчастью, как показали исследователи, именно служебные части речи встречаются в тексте чаще всего. Это плохо для моделей машинного обучения, поскольку, как правило, слова с высокими частотами появления в тексте модель способна запоминать лучше. Специалисты NLP называют такие слова `стоп-словами`, и их удалением лучше озаботиться ещё до лемматизации и стемминга."
   ]
  },
  {
   "cell_type": "code",
   "execution_count": 9,
   "metadata": {
    "colab": {
     "base_uri": "https://localhost:8080/"
    },
    "id": "m1vFWq3yWRUK",
    "outputId": "a347d4c2-1977-4242-81f8-e9ae3ce51b14"
   },
   "outputs": [
    {
     "name": "stderr",
     "output_type": "stream",
     "text": [
      "[nltk_data] Downloading package stopwords to\n",
      "[nltk_data]     /home/agat.local/s.bulganin/nltk_data...\n",
      "[nltk_data]   Package stopwords is already up-to-date!\n"
     ]
    },
    {
     "data": {
      "text/plain": [
       "True"
      ]
     },
     "execution_count": 9,
     "metadata": {},
     "output_type": "execute_result"
    }
   ],
   "source": [
    "nltk.download('stopwords')"
   ]
  },
  {
   "cell_type": "code",
   "execution_count": 10,
   "metadata": {
    "id": "idz16H8PRrV2"
   },
   "outputs": [
    {
     "name": "stdout",
     "output_type": "stream",
     "text": [
      "['и', 'в', 'во', 'не', 'что', 'он', 'на', 'я', 'с', 'со', 'как', 'а', 'то', 'все', 'она', 'так', 'его', 'но', 'да', 'ты', 'к', 'у', 'же', 'вы', 'за', 'бы', 'по', 'только', 'ее', 'мне', 'было', 'вот', 'от', 'меня', 'еще', 'нет', 'о', 'из', 'ему', 'теперь', 'когда', 'даже', 'ну', 'вдруг', 'ли', 'если', 'уже', 'или', 'ни', 'быть', 'был', 'него', 'до', 'вас', 'нибудь', 'опять', 'уж', 'вам', 'ведь', 'там', 'потом', 'себя', 'ничего', 'ей', 'может', 'они', 'тут', 'где', 'есть', 'надо', 'ней', 'для', 'мы', 'тебя', 'их', 'чем', 'была', 'сам', 'чтоб', 'без', 'будто', 'чего', 'раз', 'тоже', 'себе', 'под', 'будет', 'ж', 'тогда', 'кто', 'этот', 'того', 'потому', 'этого', 'какой', 'совсем', 'ним', 'здесь', 'этом', 'один', 'почти', 'мой', 'тем', 'чтобы', 'нее', 'сейчас', 'были', 'куда', 'зачем', 'всех', 'никогда', 'можно', 'при', 'наконец', 'два', 'об', 'другой', 'хоть', 'после', 'над', 'больше', 'тот', 'через', 'эти', 'нас', 'про', 'всего', 'них', 'какая', 'много', 'разве', 'три', 'эту', 'моя', 'впрочем', 'хорошо', 'свою', 'этой', 'перед', 'иногда', 'лучше', 'чуть', 'том', 'нельзя', 'такой', 'им', 'более', 'всегда', 'конечно', 'всю', 'между']\n",
      "« мороженно ! » солнце . воздушный бисквит . прозрачный стакан ледяною водою . мир шоколада румяной зарею , молочные альпы , мечтанье летит .\n"
     ]
    }
   ],
   "source": [
    "from nltk.corpus import stopwords\n",
    "print(stopwords.words(\"russian\"))\n",
    "\n",
    "stop_words = set(stopwords.words(\"russian\"))\n",
    "sentence = '''«Мороженно!» Солнце. Воздушный бисквит.\n",
    "Прозрачный стакан с ледяною водою.\n",
    "И в мир шоколада с румяной зарею,\n",
    "В молочные Альпы, мечтанье летит.'''\n",
    "\n",
    "# перед удалением исходный текст лучше всего привести\n",
    "# к нижнему регистру\n",
    "\n",
    "words = nltk.word_tokenize(sentence.lower())\n",
    "without_stop_words = []\n",
    "for word in words:\n",
    "    if word not in stop_words:\n",
    "        without_stop_words.append(word)\n",
    "\n",
    "print(\" \".join(without_stop_words))"
   ]
  },
  {
   "cell_type": "markdown",
   "metadata": {
    "id": "jHIfWqpNWxcC"
   },
   "source": [
    "Как видите, предлоги и союзы были исключены из этого текста. После этого шага можно токенизировать текст и производить его нормализацию."
   ]
  },
  {
   "cell_type": "markdown",
   "metadata": {
    "id": "Gb4hRaleXMOr"
   },
   "source": [
    "## Формы представления текста\n",
    "Как вам известно, алгоритмы машинного обучения не могут напрямую работать с сырым текстом, поэтому необходимо конвертировать текст в наборы цифр (векторы).\n",
    "\n",
    "Самая простая и популярная техника для извлечения признаков из текста называется `мешком слов`. Если говорить об этой технике кратко, то мешок слов определяет, сколько раз каждое слово появляется в тексте (то есть его абсолютную частоту).  При этом любая информация о порядке и структуре слов игнорируется. Модель, которая получает на вход мешок слов, учится определять, какие слова и сколько раз встречаются в тексте, но она не сможет распознать, в какой последовательности эти слова расположены.\n",
    "\n",
    "Рассмотрим простой текст:\n",
    "\n",
    "<i>Русской ржи от меня поклон,<br>\n",
    "Ниве, где баба застится.<br>\n",
    "Друг! Дожди за моим окном,<br>\n",
    "Беды и блажи на́ сердце…<br></i>\n",
    "\n",
    "Для того, чтобы составить мешок слов, желательно сначала токенизировать текст, удалить стоп-слова, а затем нормализовать. После этих операций текст будет выглядеть следующим образом:\n",
    "\n",
    "<i>русский рожь поклон<br>\n",
    "нива баба заститься<br>\n",
    "друг дождь окно<br>\n",
    "беда блажь сердце<br></i>\n",
    "\n",
    "Кажется, что текст оскудел, однако общий смысл всё равно угадывается. Выпишем все слова в строку, сделав их заголовками столбцов таблицы, а потом посчитаем, сколько раз каждое слово появилось в тексте:\n",
    "\n",
    "|русский|рожь|поклон|нива|баба|заститься|друг|дождь|окно|беда|блажь|сердце|\n",
    "|---|---|---|---|---|---|---|---|---|---|---|---|\n",
    "|1|1|1|1|1|1|1|1|1|1|1|1|\n",
    "\n",
    "Как видим, получилось, что в этом тексте каждое слово встречается по одному разу. Мы получили мешок слов для одного текста, но в нём мало пользы. Добавим ещё один текст:\n",
    "\n",
    "<i>Вот опять окно,<br>\n",
    "Где опять не спят. <br>\n",
    "Может — пьют вино, <br>\n",
    "Может — так сидят. <br>\n",
    "Или просто — рук <br>\n",
    "Не разнимут двое. <br>\n",
    "В каждом доме, друг, <br>\n",
    "Есть окно такое.</i>\n",
    "\n",
    "А затем преобразуем:\n",
    "\n",
    "<i>окно<br>\n",
    "спать<br>\n",
    "пить вино<br>\n",
    "сидеть<br>\n",
    "рука <br>\n",
    "разнять двое. <br>\n",
    "дом друг<br>\n",
    "окно</i>\n",
    "\n",
    "Теперь расширим и дополним таблицу:\n",
    "\n",
    "|русский|рожь|поклон|нива|баба|заститься|друг|дождь|окно|беда|блажь|сердце|спать|пить|вино|сидеть|рука|разнять|двое|дом|\n",
    "|---|---|---|---|---|---|---|---|---|---|---|---|---|---|---|---|---|---|---|---|\n",
    "|1|1|1|1|1|1|1|1|1|1|1|1|0|0|0|0|0|0|0|0|\n",
    "|0|0|0|0|0|0|1|0|2|0|0|1|1|1|1|1|1|1|1|1|\n",
    "\n",
    "Каждая строка полученного мешка слов представляет собой закодированный текст для словаря, составленного из представленного `корпуса` текстов. Рассмотрим применение мешка слов и сопутствующие ему проблемы на примере анализа текстов и определении тональности текста.\n"
   ]
  },
  {
   "cell_type": "markdown",
   "metadata": {
    "id": "_vpXiSkWmTGo"
   },
   "source": [
    "## Задача классификации\n",
    "Классификацию текста, как правило, можно проводить базовыми алгоритмами классического машинного обучения.\n",
    "\n",
    "Рассмотрим такую задачу: имеется корпус текстов, состоящий из комментариев в соцсети на русском языке; часть этих комментариев токсичны, другая часть $-$ не имеют такой эмоциональной окраски. Мы займёмся определением, какой комментарий можно назвать токсичным, а какой $-$ нет."
   ]
  },
  {
   "cell_type": "code",
   "execution_count": 11,
   "metadata": {
    "id": "OK6AvL0rl78P"
   },
   "outputs": [
    {
     "name": "stderr",
     "output_type": "stream",
     "text": [
      "/home/agat.local/s.bulganin/anaconda3/lib/python3.11/site-packages/pandas/core/arrays/masked.py:60: UserWarning: Pandas requires version '1.3.6' or newer of 'bottleneck' (version '1.3.5' currently installed).\n",
      "  from pandas.core import (\n"
     ]
    },
    {
     "data": {
      "text/html": [
       "<div>\n",
       "<style scoped>\n",
       "    .dataframe tbody tr th:only-of-type {\n",
       "        vertical-align: middle;\n",
       "    }\n",
       "\n",
       "    .dataframe tbody tr th {\n",
       "        vertical-align: top;\n",
       "    }\n",
       "\n",
       "    .dataframe thead th {\n",
       "        text-align: right;\n",
       "    }\n",
       "</style>\n",
       "<table border=\"1\" class=\"dataframe\">\n",
       "  <thead>\n",
       "    <tr style=\"text-align: right;\">\n",
       "      <th></th>\n",
       "      <th>comment</th>\n",
       "      <th>toxic</th>\n",
       "    </tr>\n",
       "  </thead>\n",
       "  <tbody>\n",
       "    <tr>\n",
       "      <th>0</th>\n",
       "      <td>Верблюдов-то за что? Дебилы, бл...\\n</td>\n",
       "      <td>1.0</td>\n",
       "    </tr>\n",
       "    <tr>\n",
       "      <th>1</th>\n",
       "      <td>Хохлы, это отдушина затюканого россиянина, мол...</td>\n",
       "      <td>1.0</td>\n",
       "    </tr>\n",
       "    <tr>\n",
       "      <th>2</th>\n",
       "      <td>Собаке - собачья смерть\\n</td>\n",
       "      <td>1.0</td>\n",
       "    </tr>\n",
       "    <tr>\n",
       "      <th>3</th>\n",
       "      <td>Страницу обнови, дебил. Это тоже не оскорблени...</td>\n",
       "      <td>1.0</td>\n",
       "    </tr>\n",
       "    <tr>\n",
       "      <th>4</th>\n",
       "      <td>тебя не убедил 6-страничный пдф в том, что Скр...</td>\n",
       "      <td>1.0</td>\n",
       "    </tr>\n",
       "  </tbody>\n",
       "</table>\n",
       "</div>"
      ],
      "text/plain": [
       "                                             comment  toxic\n",
       "0               Верблюдов-то за что? Дебилы, бл...\\n    1.0\n",
       "1  Хохлы, это отдушина затюканого россиянина, мол...    1.0\n",
       "2                          Собаке - собачья смерть\\n    1.0\n",
       "3  Страницу обнови, дебил. Это тоже не оскорблени...    1.0\n",
       "4  тебя не убедил 6-страничный пдф в том, что Скр...    1.0"
      ]
     },
     "execution_count": 11,
     "metadata": {},
     "output_type": "execute_result"
    }
   ],
   "source": [
    "import pandas as pd\n",
    "\n",
    "# подгрузим данные\n",
    "data = pd.read_csv('data/labeled.csv')\n",
    "data.head()"
   ]
  },
  {
   "cell_type": "markdown",
   "metadata": {
    "id": "JGIV5sFqoO-l"
   },
   "source": [
    "Уже можно заметить, что комментарии в первых строках таблицы достаточно неприятны.\n",
    "\n",
    "Зато в задачах чистого NLP обычно всегда только один столбец с фичами (это сам текст). Проанализируем сначала распределение комментариев по классам токсичности."
   ]
  },
  {
   "cell_type": "code",
   "execution_count": 12,
   "metadata": {
    "id": "2W8jsI1toNHD"
   },
   "outputs": [
    {
     "data": {
      "image/png": "[encoded data removed]",
      "text/plain": [
       "<Figure size 640x480 with 1 Axes>"
      ]
     },
     "metadata": {},
     "output_type": "display_data"
    },
    {
     "name": "stdout",
     "output_type": "stream",
     "text": [
      "Comment description\n",
      "\n",
      "      comment                                                               \n",
      "        count unique                                                top freq\n",
      "toxic                                                                       \n",
      "0.0      9586   9586  В шапке были ссылки на инфу по текущему фильму...    1\n",
      "1.0      4826   4826               Верблюдов-то за что? Дебилы, бл...\\n    1\n",
      "\n",
      "Статистика по комментариям\n",
      "              toxic\n",
      "count  14412.000000\n",
      "mean       0.334860\n",
      "std        0.471958\n",
      "min        0.000000\n",
      "25%        0.000000\n",
      "50%        0.000000\n",
      "75%        1.000000\n",
      "max        1.000000\n"
     ]
    }
   ],
   "source": [
    "import matplotlib.pyplot as plt\n",
    "\n",
    "desc = data.groupby('toxic').describe()\n",
    "\n",
    "plt.bar('0', desc['comment']['count'][0], label=\"Нетоксичные\", color='green')\n",
    "plt.bar('1', desc['comment']['count'][1], label=\"Токсичные\", color='red')\n",
    "plt.legend()\n",
    "plt.ylabel('Количество комментариев')\n",
    "plt.title('Группы комментариев')\n",
    "plt.show()\n",
    "\n",
    "print('Comment description\\n')\n",
    "print(desc, end='\\n\\n')\n",
    "print('Статистика по комментариям')\n",
    "print(data.describe())"
   ]
  },
  {
   "cell_type": "markdown",
   "metadata": {
    "id": "QdIPXUaPpiR_"
   },
   "source": [
    "Когда у нас имеется корпус текстов, то мы можем попробовать сравнивать характеристики текстов ещё до прямого кодирования в мешок слов. Например, как какие комментарии длиннее $-$ токсичные или нетоксичные?"
   ]
  },
  {
   "cell_type": "code",
   "execution_count": 13,
   "metadata": {
    "id": "C5DgZdcOl8ln"
   },
   "outputs": [
    {
     "data": {
      "image/png": "[encoded data removed]",
      "text/plain": [
       "<Figure size 1000x500 with 2 Axes>"
      ]
     },
     "metadata": {},
     "output_type": "display_data"
    }
   ],
   "source": [
    "fig, (ax1,ax2) = plt.subplots(1,2,figsize=(10,5))\n",
    "\n",
    "ax1.hist(data[data['toxic']==0]['comment'].str.len(), color='green')\n",
    "ax1.set_title('Нетоксичные')\n",
    "\n",
    "ax2.hist(data[data['toxic']==1]['comment'].str.len(), color='red')\n",
    "ax2.set_title('Токсичные')\n",
    "\n",
    "fig.suptitle('Количество символов в комментарии')\n",
    "plt.show();"
   ]
  },
  {
   "cell_type": "code",
   "execution_count": 14,
   "metadata": {
    "id": "VHvjS6RMl8n-"
   },
   "outputs": [
    {
     "data": {
      "image/png": "[encoded data removed]",
      "text/plain": [
       "<Figure size 1000x500 with 2 Axes>"
      ]
     },
     "metadata": {},
     "output_type": "display_data"
    }
   ],
   "source": [
    "fig, (ax1,ax2) = plt.subplots(1,2,figsize=(10,5))\n",
    "\n",
    "ax1.hist(data[data['toxic']==0]['comment'].str.split().map(lambda x: len(x)), color='green')\n",
    "ax1.set_title('Нетоксичные')\n",
    "\n",
    "ax2.hist(data[data['toxic']==1]['comment'].str.split().map(lambda x: len(x)) ,color='red')\n",
    "ax2.set_title('Токсичные')\n",
    "\n",
    "fig.suptitle('Слов в комментарии')\n",
    "plt.show();"
   ]
  },
  {
   "cell_type": "markdown",
   "metadata": {
    "id": "nInEDtVCrXC2"
   },
   "source": [
    "На первый взгляд сказать трудно. Обе группы комментариев обладают схожими распределениями.\n",
    "\n",
    "Предобработаем тексты и закодируем их в мешки слов."
   ]
  },
  {
   "cell_type": "code",
   "execution_count": 15,
   "metadata": {
    "id": "n8_tZGqol8qZ"
   },
   "outputs": [],
   "source": [
    "import numpy as np\n",
    "\n",
    "# разделим на фичи и целевую переменную\n",
    "text = np.array(data.comment.values)\n",
    "target = data.toxic.astype(int).values"
   ]
  },
  {
   "cell_type": "code",
   "execution_count": 16,
   "metadata": {
    "id": "faKv3em9rvYg"
   },
   "outputs": [
    {
     "data": {
      "image/png": "[encoded data removed]",
      "text/plain": [
       "<Figure size 1000x500 with 2 Axes>"
      ]
     },
     "metadata": {},
     "output_type": "display_data"
    }
   ],
   "source": [
    "# в этой задаче может быть полезным признаком\n",
    "# количество заглавных букв в комментарии,\n",
    "# поскольку есть предположение,\n",
    "# что капсом выделяют слова, чтобы подчеркнуть эмоциональную составляющую\n",
    "# текста\n",
    "\n",
    "def upperCaseRate(string):\n",
    "    return np.array(list(map(str.isupper, string))).mean()\n",
    "\n",
    "data['upcaseRate'] = list(map(upperCaseRate, data.comment.values))\n",
    "fig, (ax1,ax2) = plt.subplots(1,2,figsize=(10,5))\n",
    "\n",
    "ax1.hist(data[data['toxic']==0]['upcaseRate'], color='green')\n",
    "ax1.set_title('Нетоксичные')\n",
    "\n",
    "ax2.hist(data[data['toxic']==1]['upcaseRate'], color='red')\n",
    "ax2.set_title('Токсичные')\n",
    "\n",
    "fig.suptitle('Прописные буквы в комментарии')\n",
    "plt.show();"
   ]
  },
  {
   "cell_type": "markdown",
   "metadata": {
    "id": "WNgOMypstPFu"
   },
   "source": [
    "И действительно, токсичные комментарии имеют тенденцию к достаточно высокому проценту содержания прописных букв. Полезный признак.\n",
    "\n",
    "Теперь очистим тексты. Задача заключается в том, чтобы оставить только кириллические и латинские буквы, а всё остальное удалить. Очевидно, что в комментариях присутствуют управляющие последовательности (`\\n`, например). Также удалим стоп-слова и нормализуем текст."
   ]
  },
  {
   "cell_type": "code",
   "execution_count": 17,
   "metadata": {
    "id": "drKSZ4pmtOX4"
   },
   "outputs": [
    {
     "name": "stderr",
     "output_type": "stream",
     "text": [
      "[nltk_data] Downloading package averaged_perceptron_tagger_rus to\n",
      "[nltk_data]     /home/agat.local/s.bulganin/nltk_data...\n",
      "[nltk_data]   Package averaged_perceptron_tagger_rus is already up-to-\n",
      "[nltk_data]       date!\n"
     ]
    },
    {
     "name": "stdout",
     "output_type": "stream",
     "text": [
      "CPU times: user 18.4 s, sys: 108 ms, total: 18.5 s\n",
      "Wall time: 18.5 s\n"
     ]
    }
   ],
   "source": [
    "%%time\n",
    "\n",
    "def cleanText(text):\n",
    "    import re\n",
    "\n",
    "    text = text.lower() # приводим все символы к нижнему регистру\n",
    "    text = re.sub(r\"http\\S+\", \"\", text) # используем регулярное выражение, чтобы удалить все ссылки\n",
    "    text = str.replace(text,'ё','е') # заменяем все буквы ё на букву е\n",
    "    prog = re.compile('[А-Яа-яA-Za-z]+') # задаём регулярное выражение, которое оставляет только кириллицу и латиницу\n",
    "    words = prog.findall(text) # применяем регулярку\n",
    "\n",
    "    # удаление стоп-слов\n",
    "    stopwords = nltk.corpus.stopwords.words('russian')\n",
    "    words = [w for w in words if w not in stopwords]\n",
    "    # частеречная разметка, исключая союзы и предлоги\n",
    "    functionalPos = {'CONJ', 'PRCL'}\n",
    "    words = [w for w, pos in nltk.pos_tag(words, lang='rus') if pos not in functionalPos]\n",
    "    # стемминг\n",
    "    stemmer = SnowballStemmer('russian')\n",
    "    return ' '.join(list(map(stemmer.stem, words)))\n",
    "\n",
    "# применим функцию\n",
    "# map работает аналогично apply, но для списков\n",
    "nltk.download('averaged_perceptron_tagger_rus')\n",
    "text = list(map(cleanText, text))"
   ]
  },
  {
   "cell_type": "code",
   "execution_count": 18,
   "metadata": {
    "id": "sv-7OjQarvef"
   },
   "outputs": [
    {
     "name": "stdout",
     "output_type": "stream",
     "text": [
      "Dim of train: 10088 \tTarget rate: 33.49%\n",
      "Dim of test: 4324 \tTarget rate: 33.49%\n"
     ]
    }
   ],
   "source": [
    "# после предподготовки разделим на трейн и тест в соотношении 7:3\n",
    "# и для надежности перемешаем тексты между собой\n",
    "from sklearn.model_selection import train_test_split\n",
    "\n",
    "X_train, X_test, y_train, y_test = train_test_split(text, target, test_size=.3,\n",
    "                                                    stratify=target, shuffle = True,\n",
    "                                                    random_state=2024)\n",
    "print(f'Dim of train: {len(X_train)}', f'\\tTarget rate: {y_train.mean()  * 100:.2f}%')\n",
    "print(f\"Dim of test: {len(X_test)}\", f'\\tTarget rate: {y_test.mean() * 100:.2f}%')"
   ]
  },
  {
   "cell_type": "markdown",
   "metadata": {
    "id": "3pZmEHQgye_9"
   },
   "source": [
    "Теперь самое интересное. Можно кодировать данные. Мы могли бы использовать для этого знакомый уже вам класс `sklearn.feature_extraction.text.CountVectorizer`, который кодирует текст в мешок слов. Но делать этого не станем, и вот почему.\n",
    "\n",
    "Слова, которые встречаются достаточно часто (имеют высокую частотность), имеют и наибольшую оценку. В этих словах может быть не так много информационного выигрыша для модели, как в менее частых словах. Один из способов исправить ситуацию – понижать оценку слова, которое часто встречается во всех схожих документах. Это называется `TF-IDF`. Что это такое?\n",
    "\n",
    "`TF` (`Term Frequency`, частота слова) $-$ отношение числа вхождений слова к общему количеству слов в документе.\n",
    "\n",
    "$$TF(слово) = \\frac{Сколько\\spaceраз\\spaceслово\\spaceпоявилось\\spaceв\\spaceдокументе}{Общее\\spaceколичество\\spaceслов\\spaceв\\spaceдокументе}$$\n",
    "\n",
    "`IDF` (`inverse document frequency`, обратная частота документа) — инверсия частоты, с которой некоторое слово встречается в документах коллекции.\n",
    "\n",
    "$$IDF(слово) = log(\\frac{Общее\\spaceколичество\\spaceслов\\spaceв\\spaceдокументе}{Сколько\\spaceраз\\spaceслово\\spaceпоявилось\\spaceв\\spaceдокументе})$$\n",
    "\n",
    "В итоге `TF-IDF` вычисляется так:\n",
    "\n",
    "$$TF-IDF = TF(слово) * IDF(слово)$$"
   ]
  },
  {
   "cell_type": "code",
   "execution_count": 19,
   "metadata": {
    "id": "HypUp_Ckrvh4"
   },
   "outputs": [
    {
     "name": "stdout",
     "output_type": "stream",
     "text": [
      "<class 'scipy.sparse._csr.csr_matrix'> <class 'scipy.sparse._csr.csr_matrix'>\n"
     ]
    }
   ],
   "source": [
    "from sklearn.feature_extraction.text import TfidfVectorizer as tfidf\n",
    "\n",
    "vectorizer = tfidf()\n",
    "X_train_vectorised = vectorizer.fit_transform(X_train)\n",
    "X_test_vectorised = vectorizer.transform(X_test)\n",
    "\n",
    "print(type(X_train_vectorised), type(X_test_vectorised))"
   ]
  },
  {
   "cell_type": "code",
   "execution_count": 20,
   "metadata": {
    "id": "Nvi7fecMl8tx"
   },
   "outputs": [
    {
     "name": "stdout",
     "output_type": "stream",
     "text": [
      "memory\n",
      "steps\n",
      "verbose\n",
      "vectorizer\n",
      "classifier\n",
      "vectorizer__analyzer\n",
      "vectorizer__binary\n",
      "vectorizer__decode_error\n",
      "vectorizer__dtype\n",
      "vectorizer__encoding\n",
      "vectorizer__input\n",
      "vectorizer__lowercase\n",
      "vectorizer__max_df\n",
      "vectorizer__max_features\n",
      "vectorizer__min_df\n",
      "vectorizer__ngram_range\n",
      "vectorizer__norm\n",
      "vectorizer__preprocessor\n",
      "vectorizer__smooth_idf\n",
      "vectorizer__stop_words\n",
      "vectorizer__strip_accents\n",
      "vectorizer__sublinear_tf\n",
      "vectorizer__token_pattern\n",
      "vectorizer__tokenizer\n",
      "vectorizer__use_idf\n",
      "vectorizer__vocabulary\n",
      "classifier__C\n",
      "classifier__class_weight\n",
      "classifier__dual\n",
      "classifier__fit_intercept\n",
      "classifier__intercept_scaling\n",
      "classifier__l1_ratio\n",
      "classifier__max_iter\n",
      "classifier__multi_class\n",
      "classifier__n_jobs\n",
      "classifier__penalty\n",
      "classifier__random_state\n",
      "classifier__solver\n",
      "classifier__tol\n",
      "classifier__verbose\n",
      "classifier__warm_start\n"
     ]
    }
   ],
   "source": [
    "# попробуем сделать конвейер обработки\n",
    "# соединим обработчик и саму модель\n",
    "# используем в качестве примера логистическую регрессию\n",
    "from sklearn.pipeline import Pipeline\n",
    "from sklearn.linear_model import LogisticRegression\n",
    "\n",
    "# склеивание в пайплайн\n",
    "clf_pipeline_LogitReg = Pipeline([\n",
    "    (\"vectorizer\", tfidf()),\n",
    "    (\"classifier\", LogisticRegression())\n",
    "])\n",
    "\n",
    "# посмотрим, какие параметры доступны после склеивания\n",
    "print('\\n'.join(clf_pipeline_LogitReg.get_params().keys()))"
   ]
  },
  {
   "cell_type": "markdown",
   "metadata": {
    "id": "T1DEUGa_23E8"
   },
   "source": [
    "Можно заметить, что теперь нам доступны несколько параметров внутри одного класса. Можно даже подбирать параметры для логистической регрессии и векторизатора вместе.\n",
    "\n",
    "\n",
    "Будем подбирать для логистической регрессии метрику для регуляризации и значение коэффициента C, а для векторизатора будем искать параметр `min_df`, который определяет минимальное количество документов, в которых встречается слово (если слово не встречается в указанном количестве текстов, то просто не включается в итоговый словарь), и количество `N-грам`. Что это такое? Иногда полезно брать не отдельное слово для включения его в словарь, а словосочетания с этим словом. Например, если в тексте \"сегодня быть красивый, завтра быть уставший\" брать словосочетания из двух слов (биграммы), то получится набор: \"сегодня быть\", \"быть красивый\", \"красивый, завтра\", \"завтра быть\", \"быть уставший\". Мы можем комбинировать N-граммы с отдельными словами, а можем рассматривать их отдельно."
   ]
  },
  {
   "cell_type": "code",
   "execution_count": 21,
   "metadata": {
    "id": "pkUwW-rV51a5"
   },
   "outputs": [],
   "source": [
    "from sklearn import metrics\n",
    "def plotROC(y_test, probs, title=''):\n",
    "    if title!='':\n",
    "        title = ' ('+title+')'\n",
    "    fpr, tpr, threshold = metrics.roc_curve(y_test, probs)\n",
    "    roc_auc = metrics.auc(fpr, tpr)\n",
    "    plt.title('ROC'+title)\n",
    "    plt.plot(fpr, tpr, 'b', label=f'AUC= %0.5f' % roc_auc)\n",
    "    plt.legend(loc = 'lower right')\n",
    "    plt.plot([0, 1], [0, 1],'r--')\n",
    "    plt.xlim([0, 1])\n",
    "    plt.ylim([0, 1])\n",
    "    plt.ylabel('TPR')\n",
    "    plt.xlabel('FPR')\n",
    "    plt.show();"
   ]
  },
  {
   "cell_type": "code",
   "execution_count": 22,
   "metadata": {
    "id": "CRQgVF2v17K5"
   },
   "outputs": [
    {
     "data": {
      "image/png": "[encoded data removed]",
      "text/plain": [
       "<Figure size 640x480 with 1 Axes>"
      ]
     },
     "metadata": {},
     "output_type": "display_data"
    },
    {
     "data": {
      "image/png": "[encoded data removed]",
      "text/plain": [
       "<Figure size 640x480 with 1 Axes>"
      ]
     },
     "metadata": {},
     "output_type": "display_data"
    },
    {
     "name": "stdout",
     "output_type": "stream",
     "text": [
      "CPU times: user 1.45 s, sys: 1.39 s, total: 2.84 s\n",
      "Wall time: 3.28 s\n"
     ]
    }
   ],
   "source": [
    "%%time\n",
    "from sklearn.model_selection import RandomizedSearchCV\n",
    "from warnings import filterwarnings\n",
    "filterwarnings('ignore')\n",
    "\n",
    "parameters = {\n",
    "              'vectorizer__ngram_range': [(1, 2), (1, 3)], # от 1 слова до биграмм и от 1 слова до триграмм\n",
    "              'vectorizer__min_df': [0., .2, .4, .6, .8,1],\n",
    "              'classifier__penalty': ('l1','l2'),\n",
    "              'classifier__C': (range(1,10,2)),\n",
    "             }\n",
    "\n",
    "\n",
    "rndgs_clf_LogitReg = RandomizedSearchCV(clf_pipeline_LogitReg, parameters,\n",
    "                                        scoring='f1', cv=4, n_jobs=-1)\n",
    "rndgs_clf_LogitReg.fit(X_train, y_train)\n",
    "\n",
    "probs = rndgs_clf_LogitReg.predict_proba(X_train)[:,1]\n",
    "plotROC(y_train, probs, 'Train')\n",
    "\n",
    "probs = rndgs_clf_LogitReg.predict_proba(X_test)[:,1]\n",
    "plotROC(y_test, probs, 'Test')"
   ]
  },
  {
   "cell_type": "markdown",
   "metadata": {
    "id": "ke5tpx1c8r_R"
   },
   "source": [
    "Как можно видеть, построенная модель достаточно хорошо справляется с поставленной задачей и вполне способна выявлять токсичные комментарии.\n",
    "\n",
    "Однако когда речь заходит о более сложных задачах, например, генерации следующего слова в тексте (и вообще написание нового текста или дополнение уже существующего), базовые модели не подойдут хотя бы по той причине, что у них нет краткосрочной памяти, в которой они могли бы хранить некоторые детали контекста для генерации чего-либо нового. Поэтому, когда мы имеем дело с последовательностями вообще и текстовыми последовательностями в частности, мы обращаемся к специальной архитектуре нейронных сетей $-$ рекуррентным нейросетям."
   ]
  },
  {
   "cell_type": "markdown",
   "metadata": {
    "id": "u70hmc23z9tb"
   },
   "source": [
    "## Рекуррентные нейроны и слои\n",
    "До сих пор мы были сосредоточены на нейронных сетях прямого распространения, где активации протекали от входного слоя до выходного слоя. `Рекуррентная нейронная сеть` похожа на сет прямого распространения, но также имеет связи, указывающие в обратном направлении.\n",
    "\n",
    "Рассмотрим простейшую рекуррентную сеть, состоящую из одного нейрона, который получает входы, производит выход и вместе с тем передаёт выход самому себе.\n",
    "\n",
    "![](./src/recurrent_neuron.png)\n",
    "\n",
    "На каждом временном шаге $t$ такой нейрон получает входной сигнал $x_{(t)}$, а также собственный выход из предыдущего временного шага $y_{(t-1)}$. Мы можем представить такую крошечную сеть по оси времени, как это показано на рисунке выше справа. Процесс называется развёртыванием сети во времени.\n",
    "\n",
    "Можно легко создать слой из рекуррентных нейронов. На каждом временном шаге $t$ каждый нейрон получает входной вектор признаков $x_{t}$ и выходной вектор из предыдущего временного шага $y_{(t-1)}$. Как видите, теперь входы и выходы стали векторами, когда для одного нейрона это было одно число.\n",
    "\n",
    "![](./src/reccurent_layer.png)\n",
    "\n",
    "Каждый рекуррентный нейрон имеет два набора весов: один для входов $x_{(t)}$ и один для выходов предыдущего временного шага $y_{(t-1)}$.\n",
    "\n"
   ]
  },
  {
   "cell_type": "markdown",
   "metadata": {
    "id": "0-bpWRMM5W_c"
   },
   "source": [
    "Поскольку выход рекуррентного нейрона на временном шаге $t$ $-$ это функция от всех входов предшествующих временных шагов, то можно было бы сказать, что он обладает некоторой формой *памяти*. Часть нейронной сети, которая сохраняет состояние через временные шаги, называется *ячейкой памяти*. Одиночный рекуррентный нейрон или целый слой рекуррентных нейронов представляют собой базовую ячейку, способную узнавать только короткие образы (как правило, длиной только в 10 шагов, но она может меняться в зависимости от задачи).\n",
    "\n",
    "## Входные и выходные последовательности\n",
    "\n",
    "![](./src/recurrent_nn.png)\n",
    "\n",
    "Рассмотрим несколько типов таких сетей.\n",
    "\n",
    "Например, рекуррентная сеть на рисунке выше в левом верхнем углу может одновременно принимать последовательность входов и порождать последовательность выходов. Она называется `сеть \"последовательность в последовательность\"`. Как правило, такие сети оказываются полезными для прогнозирования `временных рядов`, как курс акций.\n",
    "\n",
    "В качестве альтернативы можно использовать сеть из правого верхнего угла, которая принимает последовательность входов и игнорирует все выходы, кроме последнего. Другими словами, это `сеть \"последовательность в вектор\"`. Например, сети можно передать последовательность слов, соответствующих рецензии на фильм, и она выдаст оценку отношения (например, от -1 до 1)."
   ]
  },
  {
   "cell_type": "markdown",
   "metadata": {
    "id": "gSO9Bmxe8v0x"
   },
   "source": [
    "И наоборот, можно передавать сети один и тот же вектор снова и снова на каждом временном шаге и позволить ей выдать последовательность (левая нижняя на рисунке). Это `сеть \"вектор в последовательность\"`. Например, входом может быть вектор изображения или выход свёрточной сети, а выходом $-$ подпись для изображения.\n",
    "\n",
    "Наконец, мы могли бы построить сеть \"последовательность в вектор\", которая называется `кодировщиком`, а за ней сеть \"вектор в последовательность\", которая называется \"декодировщиком\". Называется такая двухшаговая модель \"кодировщик-декодировщик\" и применяется для сложных задач машинного перевода текста."
   ]
  },
  {
   "cell_type": "markdown",
   "metadata": {
    "id": "rNjvHXH0-H7R"
   },
   "source": [
    "## Борьба с проблемой краткосрочной памяти\n",
    "Из-за трансформаций, которым подвергаются данные при движении через рекуррентную сеть, на каждом временном шаге часть информации утрачивается. Через некоторое время состояние сети практически не содержит следов первых входов.\n",
    "\n",
    "Чтобы справиться с проблемой, были предложены разнообразные типы ячеек с долговременной памятью. Они оказались настолько успешными, что базовые ячейки больше широко не применяются.\n",
    "\n"
   ]
  },
  {
   "cell_type": "markdown",
   "metadata": {
    "id": "Omrd0VZD_P9p"
   },
   "source": [
    "### Ячейка LSTM\n",
    "Ячейка `долгой краткосрочной памяти` (`Long Short-Term Memory - LSTM`) была предложена в 1997 году Сеппом Хохрайтером и Юргеном Шмидхубером, а потом ещё годами совершенствовалась различными исследователями.\n",
    "\n",
    "Каким образом работает эта ячейка? Её строение показано на рисунке ниже.\n",
    "\n",
    "![](./src/lstm.png)"
   ]
  },
  {
   "cell_type": "markdown",
   "metadata": {
    "id": "MTcgPrBGAJ4n"
   },
   "source": [
    "Если не смотреть на то, что находится внутри чёрного ящика ячейки, то в общем LSTM работает как и базовая ячейка памяти, но с одним новшеством: вектор её состояния расщепляется на два отдельных вектора $-$ вектор краткосрочного состояния ($h_{(t)}$ и вектор долгосрочного состояния $c_{(t)}$.\n",
    "\n",
    "Основная идея работы этой ячейки заключается в том, чтобы сеть могла узнать, что хранить в долгосрочном состоянии, а что $-$ забывать. Во время пересечения ячейки слева-направо долгосрочное состояние $c_{(t-1)}$ проходит через шлюз забывания с отбрасыванием некоторых воспоминаний и затем посредством операции сложения к нему добавляется ряд новых воспоминаний (выбранных входным шлюзом). Результат $c_{(t)}$ отправляется прямо на выход без какой-либо дальнейшей трансформации. Следовательно, на каждом временном шаге одни воспоминания отбрасываются, а другие добавляются. Кроме того, после операции сложения долгосрочное состояние копируется и пропускается через функцию `tanh`, а результат фильтруется выходным шлюзом.\n",
    "\n",
    "Итогом будет краткосрочное состояние $h_{(t)}$ (которое равно выходу ячейки для данного временного шага)."
   ]
  },
  {
   "cell_type": "markdown",
   "metadata": {
    "id": "sHjYCyboEcst"
   },
   "source": [
    "## Пример построения архитектуры \"кодировщик-декодировщик\"\n",
    "Рассмотрим стандартный пример архитектуры \"кодировщик-декодировщик\" на примере задачи машинного перевода с одного естественного языка на другой. В нашем примере будем строить модель, которая переводит текст с английского языка на русский язык. Начнём пошагово с простого примера, который усовершенствуем в конце."
   ]
  },
  {
   "cell_type": "markdown",
   "metadata": {
    "id": "mZMU-n6pSpSo"
   },
   "source": [
    "### Данные\n",
    "Воспользуемся данными английско-русского словаря и подгрузим их."
   ]
  },
  {
   "cell_type": "code",
   "execution_count": 23,
   "metadata": {
    "id": "W9k7wYh285B0"
   },
   "outputs": [
    {
     "name": "stdout",
     "output_type": "stream",
     "text": [
      "363386\n"
     ]
    },
    {
     "data": {
      "text/html": [
       "<div>\n",
       "<style scoped>\n",
       "    .dataframe tbody tr th:only-of-type {\n",
       "        vertical-align: middle;\n",
       "    }\n",
       "\n",
       "    .dataframe tbody tr th {\n",
       "        vertical-align: top;\n",
       "    }\n",
       "\n",
       "    .dataframe thead th {\n",
       "        text-align: right;\n",
       "    }\n",
       "</style>\n",
       "<table border=\"1\" class=\"dataframe\">\n",
       "  <thead>\n",
       "    <tr style=\"text-align: right;\">\n",
       "      <th></th>\n",
       "      <th>оригинал</th>\n",
       "      <th>перевод</th>\n",
       "    </tr>\n",
       "  </thead>\n",
       "  <tbody>\n",
       "    <tr>\n",
       "      <th>0</th>\n",
       "      <td>Go.</td>\n",
       "      <td>Марш!</td>\n",
       "    </tr>\n",
       "    <tr>\n",
       "      <th>1</th>\n",
       "      <td>Go.</td>\n",
       "      <td>Иди.</td>\n",
       "    </tr>\n",
       "    <tr>\n",
       "      <th>2</th>\n",
       "      <td>Go.</td>\n",
       "      <td>Идите.</td>\n",
       "    </tr>\n",
       "    <tr>\n",
       "      <th>3</th>\n",
       "      <td>Hi.</td>\n",
       "      <td>Здравствуйте.</td>\n",
       "    </tr>\n",
       "    <tr>\n",
       "      <th>4</th>\n",
       "      <td>Hi.</td>\n",
       "      <td>Привет!</td>\n",
       "    </tr>\n",
       "    <tr>\n",
       "      <th>5</th>\n",
       "      <td>Hi.</td>\n",
       "      <td>Хай.</td>\n",
       "    </tr>\n",
       "    <tr>\n",
       "      <th>6</th>\n",
       "      <td>Hi.</td>\n",
       "      <td>Здрасте.</td>\n",
       "    </tr>\n",
       "    <tr>\n",
       "      <th>7</th>\n",
       "      <td>Hi.</td>\n",
       "      <td>Здоро́во!</td>\n",
       "    </tr>\n",
       "    <tr>\n",
       "      <th>8</th>\n",
       "      <td>Run!</td>\n",
       "      <td>Беги!</td>\n",
       "    </tr>\n",
       "    <tr>\n",
       "      <th>9</th>\n",
       "      <td>Run!</td>\n",
       "      <td>Бегите!</td>\n",
       "    </tr>\n",
       "  </tbody>\n",
       "</table>\n",
       "</div>"
      ],
      "text/plain": [
       "  оригинал        перевод\n",
       "0      Go.          Марш!\n",
       "1      Go.           Иди.\n",
       "2      Go.         Идите.\n",
       "3      Hi.  Здравствуйте.\n",
       "4      Hi.        Привет!\n",
       "5      Hi.           Хай.\n",
       "6      Hi.       Здрасте.\n",
       "7      Hi.      Здоро́во!\n",
       "8     Run!          Беги!\n",
       "9     Run!        Бегите!"
      ]
     },
     "execution_count": 23,
     "metadata": {},
     "output_type": "execute_result"
    }
   ],
   "source": [
    "import pandas as pd\n",
    "\n",
    "# откроем файл на чтение и выгрузим его содержимое\n",
    "with open('data/rus.txt') as file:\n",
    "    lines = file.read().split(\"\\n\")[:-1]\n",
    "    \n",
    "# спарсим из каждой строки предложение на английском и\n",
    "# его перевод на русском    \n",
    "pairs = {\n",
    "    \"оригинал\" : [],\n",
    "    \"перевод\" :  []\n",
    "}\n",
    "for line in lines:\n",
    "    english, russian = line.split(\"\\t\")[:2]\n",
    "    pairs[\"оригинал\"].append(english)\n",
    "    pairs[\"перевод\"].append(russian)\n",
    "\n",
    "data = pd.DataFrame(pairs)\n",
    "print(len(data))\n",
    "data.head(10)"
   ]
  },
  {
   "cell_type": "markdown",
   "metadata": {
    "id": "sdaF6e4_W3u1"
   },
   "source": [
    "Как и в примере выше, примеры предложений из словаря тоже необходимо обработать. Функция `custom_standardization` принимает строку `input_string` и выполняет следующие шаги:\n",
    "   - преобразует строку в нижний регистр с помощью `lower()`;\n",
    "   - используя списковое включение, создает новую строку, включающую только те символы, которые не содержатся в `strip_chars`;\n",
    "   - возвращает эту новую строку."
   ]
  },
  {
   "cell_type": "code",
   "execution_count": 24,
   "metadata": {
    "id": "YxucOd2i3Qui"
   },
   "outputs": [],
   "source": [
    "import string\n",
    "strip_chars = string.punctuation + \".\" + \",\" + \"?\" + \"!\"\n",
    "\n",
    "def custom_standardization(input_string):\n",
    "    lowercase = input_string.lower()\n",
    "    return ''.join([char for char in lowercase if char not in strip_chars])\n",
    "\n",
    "\n",
    "data['оригинал'] = data['оригинал'].apply(custom_standardization)\n",
    "data['перевод'] = data['перевод'].apply(custom_standardization)"
   ]
  },
  {
   "cell_type": "markdown",
   "metadata": {},
   "source": [
    "После предобработки текста нам необходимо его закодировать. Будем кодировать достаточно простым и потяным способом:\n",
    " - создадим словарь из слов, собранных со всех текстов;\n",
    " - каждому слову в словаре присвоим порядковый номер;\n",
    " - в текстах все слова заменим на их идентификаторы в словаре.\n",
    "\n",
    "Для возможности кодирования и декодирования будем создавать два словаря: один для кодирования, в котором ключами являются токены, и второй для декодирования, в котором ключами являются идентификаторы токенов, а сами токены являются значениями.\n",
    "\n",
    "Мы будем проходить в цикле по всем предложениям, токенизируя их. Далее, проходя по списку токенов, смотрим: если токен еще не присутствует в словаре `token_to_id`, он добавляется. Уникальный идентификатор для нового токена создается как текущая длина словаря `token_to_id`. Токен также добавляется в `id_to_token` с уникальным идентификатором.\n",
    "\n",
    "Также нужно сделать акцент на ещё один момент: оба словаря инициируются с токенами `<SOS>`, `<EOS>`, `<PAD>`. Что это такое? Токен `<SOS>` (Start of Sequence) обозначает начало последовательности. Он используется, чтобы указать модели, что началась новая последовательность данных (как в нашем примере, предложение). Это важно для любых моделей, генерирующих текст, таких как рекуррентные нейронные сети (RNN) и трансформеры, чтобы они знали, когда начинать обработку. Аналогичный смысл имеет токен `<EOS>` (End of Sequence): указывает на конец последовательности. Это позволяет модели понять, когда завершить генерацию текста. Например, в задачах машинного перевода или текстовой генерации важно знать, когда нужно прекратить вывод, чтобы избежать неразумных или слишком длинных предложений. И наконец токен `<PAD>` (Padding) $-$ он используется для выравнивания последовательностей разной длины в батчах. В нейронных сетях часто требуется, чтобы все входные данные имели одинаковую длину. Токен `<PAD>` добавляется в конце или в начале менее длинных последовательностей, чтобы они соответствовали максимальной длине в батче. Это важно для того, чтобы обеспечить правильную работу завершающих слоев моделей и избежать ошибок при обработке данных с разными размерами."
   ]
  },
  {
   "cell_type": "code",
   "execution_count": 25,
   "metadata": {
    "id": "47U-FaIi3Qw5"
   },
   "outputs": [],
   "source": [
    "def build_vocab(sentences):\n",
    "    token_to_id = {'<PAD>': 0, '<SOS>': 1, '<EOS>': 2}\n",
    "    id_to_token = {0: '<PAD>', 1: '<SOS>', 2: '<EOS>'}\n",
    "    for sentence in sentences:\n",
    "        for token in sentence.split(' '):\n",
    "            if token not in token_to_id:\n",
    "                token_to_id[token] = len(token_to_id)\n",
    "                id_to_token[len(id_to_token)] = token\n",
    "    return token_to_id, id_to_token\n",
    "\n",
    "eng_vocab, eng_token2id = build_vocab(data[\"оригинал\"].values)\n",
    "rus_vocab, rus_token2id = build_vocab(data[\"перевод\"].values)"
   ]
  },
  {
   "cell_type": "code",
   "execution_count": 26,
   "metadata": {},
   "outputs": [
    {
     "data": {
      "text/plain": [
       "{'<PAD>': 0,\n",
       " '<SOS>': 1,\n",
       " '<EOS>': 2,\n",
       " 'марш': 3,\n",
       " 'иди': 4,\n",
       " 'идите': 5,\n",
       " 'здравствуйте': 6,\n",
       " 'привет': 7,\n",
       " 'хай': 8,\n",
       " 'здрасте': 9,\n",
       " 'здоро́во': 10,\n",
       " 'беги': 11,\n",
       " 'бегите': 12,\n",
       " 'кто': 13,\n",
       " 'вот': 14,\n",
       " 'это': 15,\n",
       " 'да': 16,\n",
       " 'круто': 17,\n",
       " 'здорово': 18,\n",
       " 'ух': 19,\n",
       " 'ты': 20,\n",
       " 'ого': 21,\n",
       " 'вах': 22,\n",
       " 'огонь': 23,\n",
       " 'пожар': 24,\n",
       " 'помогите': 25,\n",
       " 'на': 26,\n",
       " 'помощь': 27,\n",
       " 'спасите': 28,\n",
       " 'прыгай': 29,\n",
       " 'прыгайте': 30,\n",
       " 'стой': 31,\n",
       " 'остановитесь': 32,\n",
       " 'остановись': 33,\n",
       " 'подожди': 34,\n",
       " 'подождите': 35,\n",
       " 'ждите': 36,\n",
       " 'жди': 37,\n",
       " 'сделай': 38,\n",
       " 'продолжай': 39,\n",
       " 'продолжайте': 40,\n",
       " 'алло': 41,\n",
       " 'дратути': 42,\n",
       " 'поспешите': 43,\n",
       " 'я': 44,\n",
       " 'бежал': 45,\n",
       " 'бежала': 46,\n",
       " 'побежал': 47,\n",
       " 'побежала': 48,\n",
       " 'понимаю': 49,\n",
       " 'понятно': 50,\n",
       " 'вижу': 51,\n",
       " 'пытаюсь': 52,\n",
       " 'стараюсь': 53,\n",
       " 'пробую': 54,\n",
       " 'победил': 55,\n",
       " 'победила': 56,\n",
       " 'выиграл': 57,\n",
       " 'выиграла': 58,\n",
       " 'о': 59,\n",
       " 'нет': 60,\n",
       " 'расслабьтесь': 61,\n",
       " 'попустись': 62,\n",
       " 'расслабься': 63,\n",
       " 'стреляй': 64,\n",
       " 'улыбочка': 65,\n",
       " 'улыбнитесь': 66,\n",
       " 'улыбнись': 67,\n",
       " 'улыбайся': 68,\n",
       " 'улыбайтесь': 69,\n",
       " 'в': 70,\n",
       " 'атаку': 71,\n",
       " 'за': 72,\n",
       " 'ваше': 73,\n",
       " 'здоровье': 74,\n",
       " 'будем': 75,\n",
       " 'твоё': 76,\n",
       " 'съешь': 77,\n",
       " 'доедай': 78,\n",
       " 'ни': 79,\n",
       " 'с': 80,\n",
       " 'места': 81,\n",
       " 'никому': 82,\n",
       " 'не': 83,\n",
       " 'двигаться': 84,\n",
       " 'застынь': 85,\n",
       " 'замри': 86,\n",
       " 'вставай': 87,\n",
       " 'поднимайся': 88,\n",
       " 'поднимайтесь': 89,\n",
       " 'а': 90,\n",
       " 'теперь': 91,\n",
       " 'уходи': 92,\n",
       " 'сейчас': 93,\n",
       " 'поезжайте': 94,\n",
       " 'поезжай': 95,\n",
       " 'уже': 96,\n",
       " 'понял': 97,\n",
       " 'усёк': 98,\n",
       " 'усекла': 99,\n",
       " 'ферштейн': 100,\n",
       " 'он': 101,\n",
       " 'залезай': 102,\n",
       " 'запрыгивай': 103,\n",
       " 'обними': 104,\n",
       " 'меня': 105,\n",
       " 'обнимите': 106,\n",
       " 'упал': 107,\n",
       " 'упала': 108,\n",
       " 'вяжу': 109,\n",
       " 'знаю': 110,\n",
       " 'знамо': 111,\n",
       " 'дело': 112,\n",
       " 'ушёл': 113,\n",
       " 'ушла': 114,\n",
       " 'уехал': 115,\n",
       " 'уехала': 116,\n",
       " 'солгал': 117,\n",
       " 'соврал': 118,\n",
       " 'проиграл': 119,\n",
       " 'проиграла': 120,\n",
       " 'заплатил': 121,\n",
       " 'заплатила': 122,\n",
       " 'увольняюсь': 123,\n",
       " 'плаваю': 124,\n",
       " 'работаю': 125,\n",
       " 'мне': 126,\n",
       " 'девятнадцать': 127,\n",
       " 'лет': 128,\n",
       " 'со': 129,\n",
       " 'мной': 130,\n",
       " 'всё': 131,\n",
       " 'порядке': 132,\n",
       " 'у': 133,\n",
       " 'хорошо': 134,\n",
       " 'встал': 135,\n",
       " 'встала': 136,\n",
       " 'слушай': 137,\n",
       " 'послушай': 138,\n",
       " 'слушайте': 139,\n",
       " 'послушайте': 140,\n",
       " 'может': 141,\n",
       " 'быть': 142,\n",
       " 'невозможно': 143,\n",
       " 'никогда': 144,\n",
       " 'жизни': 145,\n",
       " 'исключено': 146,\n",
       " 'коем': 147,\n",
       " 'случае': 148,\n",
       " 'что': 149,\n",
       " 'правда': 150,\n",
       " 'неужели': 151,\n",
       " 'неужто': 152,\n",
       " 'как': 153,\n",
       " 'самом': 154,\n",
       " 'деле': 155,\n",
       " 'реально': 156,\n",
       " 'попробуй': 157,\n",
       " 'мы': 158,\n",
       " 'пытаемся': 159,\n",
       " 'выиграли': 160,\n",
       " 'победили': 161,\n",
       " 'почему': 162,\n",
       " 'спроси': 163,\n",
       " 'тома': 164,\n",
       " 'спросите': 165,\n",
       " 'попроси': 166,\n",
       " 'попросите': 167,\n",
       " 'отвал': 168,\n",
       " 'башки': 169,\n",
       " 'зашибись': 170,\n",
       " 'спокойно': 171,\n",
       " 'будь': 172,\n",
       " 'спокоен': 173,\n",
       " 'спокойна': 174,\n",
       " 'будьте': 175,\n",
       " 'спокойны': 176,\n",
       " 'честен': 177,\n",
       " 'справедлив': 178,\n",
       " 'справедлива': 179,\n",
       " 'справедливы': 180,\n",
       " 'милым': 181,\n",
       " 'отсюда': 182,\n",
       " 'катись': 183,\n",
       " 'исчезни': 184,\n",
       " 'проваливай': 185,\n",
       " 'убирайся': 186,\n",
       " 'вали': 187,\n",
       " 'сожги': 188,\n",
       " 'его': 189,\n",
       " 'сожгите': 190,\n",
       " 'позвони': 191,\n",
       " 'позвоните': 192,\n",
       " 'позови': 193,\n",
       " 'позовите': 194,\n",
       " 'нас': 195,\n",
       " 'нам': 196,\n",
       " 'зайдите': 197,\n",
       " 'входите': 198,\n",
       " 'входи': 199,\n",
       " 'заходи': 200,\n",
       " 'войди': 201,\n",
       " 'заходите': 202,\n",
       " 'зайди': 203,\n",
       " 'войдите': 204,\n",
       " 'пошли': 205,\n",
       " 'давай': 206,\n",
       " 'ладно': 207,\n",
       " 'пойдём': 208,\n",
       " 'давайте': 209,\n",
       " 'бросьте': 210,\n",
       " 'забей': 211,\n",
       " 'согни': 212,\n",
       " 'её': 213,\n",
       " 'согните': 214,\n",
       " 'сложи': 215,\n",
       " 'сложите': 216,\n",
       " 'убирайтесь': 217,\n",
       " 'проваливайте': 218,\n",
       " 'вон': 219,\n",
       " 'уходите': 220,\n",
       " 'уйди': 221,\n",
       " 'уйдите': 222,\n",
       " 'обратно': 223,\n",
       " 'домой': 224,\n",
       " 'двигайся': 225,\n",
       " 'медленно': 226,\n",
       " 'до': 227,\n",
       " 'свидания': 228,\n",
       " 'доброго': 229,\n",
       " 'пути': 230,\n",
       " 'держись': 231,\n",
       " 'держитесь': 232,\n",
       " 'пришёл': 233,\n",
       " 'уволился': 234,\n",
       " 'бегает': 235,\n",
       " 'помоги': 236,\n",
       " 'помогика': 237,\n",
       " 'том': 238,\n",
       " 'бей': 239,\n",
       " 'ударь': 240,\n",
       " 'бейте': 241,\n",
       " 'кладите': 242,\n",
       " 'трубку': 243,\n",
       " 'согласен': 244,\n",
       " 'согласна': 245,\n",
       " 'поклонился': 246,\n",
       " 'плакал': 247,\n",
       " 'плакала': 248,\n",
       " 'вздремнул': 249,\n",
       " 'вёл': 250,\n",
       " 'машину': 251,\n",
       " 'вела': 252,\n",
       " 'переехал': 253,\n",
       " 'переехала': 254,\n",
       " 'спал': 255,\n",
       " 'спала': 256,\n",
       " 'храплю': 257,\n",
       " 'стоял': 258,\n",
       " 'выругался': 259,\n",
       " 'поклялся': 260,\n",
       " 'пытался': 261,\n",
       " 'попробовала': 262,\n",
       " 'махнул': 263,\n",
       " 'рукой': 264,\n",
       " 'махнула': 265,\n",
       " 'пойду': 266,\n",
       " 'поеду': 267,\n",
       " 'плохой': 268,\n",
       " 'плохая': 269,\n",
       " 'толстый': 270,\n",
       " 'толстая': 271,\n",
       " 'форме': 272,\n",
       " 'ударили': 273,\n",
       " 'жарко': 274,\n",
       " 'болен': 275,\n",
       " 'болею': 276,\n",
       " 'больна': 277,\n",
       " 'сумасшедший': 278,\n",
       " 'злюсь': 279,\n",
       " 'новичок': 280,\n",
       " 'новенькая': 281,\n",
       " 'старый': 282,\n",
       " 'старая': 283,\n",
       " 'грустно': 284,\n",
       " 'стесняюсь': 285,\n",
       " 'стеснительный': 286,\n",
       " 'стеснительная': 287,\n",
       " 'застенчивый': 288,\n",
       " 'застенчивая': 289,\n",
       " 'робкий': 290,\n",
       " 'робкая': 291,\n",
       " 'стеснителен': 292,\n",
       " 'стеснительна': 293,\n",
       " 'мокрая': 294,\n",
       " 'мокрый': 295,\n",
       " 'нормально': 296,\n",
       " 'присоединяйся': 297,\n",
       " 'к': 298,\n",
       " 'присоединяйтесь': 299,\n",
       " 'оставь': 300,\n",
       " 'себе': 301,\n",
       " 'оставьте': 302,\n",
       " 'убей': 303,\n",
       " 'убейте': 304,\n",
       " 'поцелуйте': 305,\n",
       " 'запри': 306,\n",
       " 'заприте': 307,\n",
       " 'посмотрите': 308,\n",
       " 'наверх': 309,\n",
       " 'посмотри': 310,\n",
       " 'тоже': 311,\n",
       " 'открой': 312,\n",
       " 'открывай': 313,\n",
       " 'безупречно': 314,\n",
       " 'превосходно': 315,\n",
       " 'прекрасно': 316,\n",
       " 'тяни': 317,\n",
       " 'перестаньте': 318,\n",
       " 'увидимся': 319,\n",
       " 'покажи': 320,\n",
       " 'покажите': 321,\n",
       " 'заткнись': 322,\n",
       " 'цыц': 323,\n",
       " 'заткнитесь': 324,\n",
       " 'неважно': 325,\n",
       " 'проехали': 326,\n",
       " 'перестань': 327,\n",
       " 'прекрати': 328,\n",
       " 'прекратите': 329,\n",
       " 'возьми': 330,\n",
       " 'скажи': 331,\n",
       " 'скажите': 332,\n",
       " 'поел': 333,\n",
       " 'ел': 334,\n",
       " 'просыпайся': 335,\n",
       " 'просыпайтесь': 336,\n",
       " 'проснись': 337,\n",
       " 'проснитесь': 338,\n",
       " 'умойся': 339,\n",
       " 'равно': 340,\n",
       " 'знаем': 341,\n",
       " 'проиграли': 342,\n",
       " 'бы': 343,\n",
       " 'и': 344,\n",
       " 'бежишь': 345,\n",
       " 'вы': 346,\n",
       " 'их': 347,\n",
       " 'них': 348,\n",
       " 'отстань': 349,\n",
       " 'отвали': 350,\n",
       " 'посторонитесь': 351,\n",
       " 'посторонись': 352,\n",
       " 'отойди': 353,\n",
       " 'отойдите': 354,\n",
       " 'отодвинься': 355,\n",
       " 'отодвиньтесь': 356,\n",
       " 'отвяжись': 357,\n",
       " 'мужчиной': 358,\n",
       " 'храбр': 359,\n",
       " 'храбрым': 360,\n",
       " 'краток': 361,\n",
       " 'тихо': 362,\n",
       " 'помолчика': 363,\n",
       " 'без': 364,\n",
       " 'понятия': 365,\n",
       " 'пока': 366,\n",
       " 'тому': 367,\n",
       " 'унывай': 368,\n",
       " 'выше': 369,\n",
       " 'нос': 370,\n",
       " 'взбодрись': 371,\n",
       " 'остынь': 372,\n",
       " 'надень': 373,\n",
       " 'него': 374,\n",
       " 'наручники': 375,\n",
       " 'ходи': 376,\n",
       " 'ходите': 377,\n",
       " 'езди': 378,\n",
       " 'ездите': 379,\n",
       " 'поехали': 380,\n",
       " 'едем': 381,\n",
       " 'дальше': 382,\n",
       " 'найди': 383,\n",
       " 'найдите': 384,\n",
       " 'исправь': 385,\n",
       " 'почини': 386,\n",
       " 'почините': 387,\n",
       " 'исправьте': 388,\n",
       " 'ляг': 389,\n",
       " 'пол': 390,\n",
       " 'спускайся': 391,\n",
       " 'выходи': 392,\n",
       " 'спускайтесь': 393,\n",
       " 'выходите': 394,\n",
       " 'пошёл': 395,\n",
       " 'свали': 396,\n",
       " 'ну': 397,\n",
       " 'сгинь': 398,\n",
       " 'пошел': 399,\n",
       " 'потеряйся': 400,\n",
       " 'пошла': 401,\n",
       " 'прочь': 402,\n",
       " 'гуляй': 403,\n",
       " 'вася': 404,\n",
       " 'куда': 405,\n",
       " 'подальше': 406,\n",
       " 'реалистом': 407,\n",
       " 'спустись': 408,\n",
       " 'небес': 409,\n",
       " 'землю': 410,\n",
       " 'хорошая': 411,\n",
       " 'работа': 412,\n",
       " 'сработано': 413,\n",
       " 'хватай': 414,\n",
       " 'хватайте': 415,\n",
       " 'наслаждайтесь': 416,\n",
       " 'развлекайтесь': 417,\n",
       " 'говорил': 418,\n",
       " 'высказался': 419,\n",
       " 'попробовал': 420,\n",
       " 'попытался': 421,\n",
       " 'ребята': 422,\n",
       " 'мило': 423,\n",
       " 'насколько': 424,\n",
       " 'глубоко': 425,\n",
       " 'рассмеши': 426,\n",
       " 'просто': 427,\n",
       " 'ради': 428,\n",
       " 'поторапливайся': 429,\n",
       " 'быстрей': 430,\n",
       " 'скорее': 431,\n",
       " 'живей': 432,\n",
       " 'согласился': 433,\n",
       " 'стар': 434,\n",
       " 'съел': 435,\n",
       " 'отрыгнул': 436,\n",
       " 'могу': 437,\n",
       " 'пойти': 438,\n",
       " 'поехать': 439,\n",
       " 'танцевал': 440,\n",
       " 'танцевала': 441,\n",
       " 'сделал': 442,\n",
       " 'сделала': 443,\n",
       " 'получилось': 444,\n",
       " 'вышло': 445,\n",
       " 'задыхался': 446,\n",
       " 'справляюсь': 447,\n",
       " 'опростоволосился': 448,\n",
       " 'оплошал': 449,\n",
       " 'дал': 450,\n",
       " 'маху': 451,\n",
       " 'попал': 452,\n",
       " 'впросак': 453,\n",
       " 'поднялся': 454,\n",
       " 'помог': 455,\n",
       " 'помогла': 456,\n",
       " 'прыгнул': 457,\n",
       " 'прыгнула': 458,\n",
       " 'посмотрел': 459,\n",
       " 'взглянул': 460,\n",
       " 'посмотрела': 461,\n",
       " 'простонал': 462,\n",
       " 'кивнул': 463,\n",
       " 'кивнула': 464,\n",
       " 'послушался': 465,\n",
       " 'подчинился': 466,\n",
       " 'паузу': 467,\n",
       " 'звонил': 468,\n",
       " 'позвонил': 469,\n",
       " 'молился': 470,\n",
       " 'молилась': 471,\n",
       " 'помолился': 472,\n",
       " 'помолилась': 473,\n",
       " 'отказываюсь': 474,\n",
       " 'видел': 475,\n",
       " 'видела': 476,\n",
       " 'побрился': 477,\n",
       " 'вздыхал': 478,\n",
       " 'улыбнулся': 479,\n",
       " 'улыбнулась': 480,\n",
       " 'остался': 481,\n",
       " 'осталась': 482,\n",
       " 'разговаривал': 483,\n",
       " 'разговаривала': 484,\n",
       " 'использую': 485,\n",
       " 'пользуюсь': 486,\n",
       " 'этим': 487,\n",
       " 'им': 488,\n",
       " 'ей': 489,\n",
       " 'подождал': 490,\n",
       " 'подождала': 491,\n",
       " 'ждал': 492,\n",
       " 'ждала': 493,\n",
       " 'подмигнул': 494,\n",
       " 'подмигнула': 495,\n",
       " 'зевнул': 496,\n",
       " 'зевнула': 497,\n",
       " 'спрошу': 498,\n",
       " 'умру': 499,\n",
       " 'заплачу': 500,\n",
       " 'попробую': 501,\n",
       " 'попытаюсь': 502,\n",
       " 'выиграю': 503,\n",
       " 'диджей': 504,\n",
       " 'вернулся': 505,\n",
       " 'опять': 506,\n",
       " 'вернулась': 507,\n",
       " 'лысый': 508,\n",
       " 'лысая': 509,\n",
       " 'занят': 510,\n",
       " 'занята': 511,\n",
       " 'холодно': 512,\n",
       " 'замёрз': 513,\n",
       " 'замёрзла': 514,\n",
       " 'классный': 515,\n",
       " 'классная': 516,\n",
       " 'крут': 517,\n",
       " 'клёвая': 518,\n",
       " 'глухой': 519,\n",
       " 'глухая': 520,\n",
       " 'закончил': 521,\n",
       " 'волнует': 522,\n",
       " 'честный': 523,\n",
       " 'быстрый': 524,\n",
       " 'быстрая': 525,\n",
       " 'свободна': 526,\n",
       " 'свободен': 527,\n",
       " 'наелся': 528,\n",
       " 'сыт': 529,\n",
       " 'сыта': 530,\n",
       " 'наелась': 531,\n",
       " 'рад': 532,\n",
       " 'рада': 533,\n",
       " 'хороший': 534,\n",
       " 'здесь': 535,\n",
       " 'тут': 536,\n",
       " 'под': 537,\n",
       " 'кайфом': 538,\n",
       " 'дома': 539,\n",
       " 'травмирован': 540,\n",
       " 'травмирована': 541,\n",
       " 'последний': 542,\n",
       " 'последняя': 543,\n",
       " 'опоздал': 544,\n",
       " 'опоздала': 545,\n",
       " 'опаздываю': 546,\n",
       " 'ленивый': 547,\n",
       " 'лентяй': 548,\n",
       " 'ленивая': 549,\n",
       " 'заблудился': 550,\n",
       " 'потерялся': 551,\n",
       " 'заблудилась': 552,\n",
       " 'потерялась': 553,\n",
       " 'подлый': 554,\n",
       " 'вредный': 555,\n",
       " 'зловредный': 556,\n",
       " 'злой': 557,\n",
       " 'злая': 558,\n",
       " 'аккуратный': 559,\n",
       " 'аккуратная': 560,\n",
       " 'следующий': 561,\n",
       " 'немой': 562,\n",
       " 'немая': 563,\n",
       " 'бедная': 564,\n",
       " 'бедный': 565,\n",
       " 'богат': 566,\n",
       " 'богата': 567,\n",
       " 'богатая': 568,\n",
       " 'богатый': 569,\n",
       " 'безопасности': 570,\n",
       " 'медлительный': 571,\n",
       " 'медленный': 572,\n",
       " 'медленная': 573,\n",
       " 'медлительная': 574,\n",
       " 'уверена': 575,\n",
       " 'убеждён': 576,\n",
       " 'высокий': 577,\n",
       " 'высокая': 578,\n",
       " 'худой': 579,\n",
       " 'опрятный': 580,\n",
       " 'опрятная': 581,\n",
       " 'уродина': 582,\n",
       " 'некрасивая': 583,\n",
       " 'некрасивый': 584,\n",
       " 'безобразен': 585,\n",
       " 'безобразна': 586,\n",
       " 'тепло': 587,\n",
       " 'слаб': 588,\n",
       " 'слаба': 589,\n",
       " 'слабый': 590,\n",
       " 'слабая': 591,\n",
       " 'умный': 592,\n",
       " 'помогает': 593,\n",
       " 'больно': 594,\n",
       " 'работает': 595,\n",
       " 'забавно': 596,\n",
       " 'она': 597,\n",
       " 'горячая': 598,\n",
       " 'горячий': 599,\n",
       " 'оно': 600,\n",
       " 'горячее': 601,\n",
       " 'новая': 602,\n",
       " 'новый': 603,\n",
       " 'новое': 604,\n",
       " 'этот': 605,\n",
       " 'странно': 606,\n",
       " 'старое': 607,\n",
       " 'красный': 608,\n",
       " 'красная': 609,\n",
       " 'красное': 610,\n",
       " 'входить': 611,\n",
       " 'вход': 612,\n",
       " 'запрещён': 613,\n",
       " 'поцелуй': 614,\n",
       " 'пусти': 615,\n",
       " 'идём': 616,\n",
       " 'пойдем': 617,\n",
       " 'пойдёмте': 618,\n",
       " 'берегись': 619,\n",
       " 'замуж': 620,\n",
       " 'женись': 621,\n",
       " 'женитесь': 622,\n",
       " 'можно': 623,\n",
       " 'идти': 624,\n",
       " 'спаси': 625,\n",
       " 'пришла': 626,\n",
       " 'умерла': 627,\n",
       " 'солгала': 628,\n",
       " 'сядь': 629,\n",
       " 'садитесь': 630,\n",
       " 'сядьте': 631,\n",
       " 'садись': 632,\n",
       " 'сюда': 633,\n",
       " 'выкладывай': 634,\n",
       " 'оставайтесь': 635,\n",
       " 'нами': 636,\n",
       " 'наготове': 637,\n",
       " 'переключайтесь': 638,\n",
       " 'вставайте': 639,\n",
       " 'встань': 640,\n",
       " 'встаньте': 641,\n",
       " 'оставайся': 642,\n",
       " 'месте': 643,\n",
       " 'остановите': 644,\n",
       " 'останови': 645,\n",
       " 'попробуйте': 646,\n",
       " 'расскажи': 647,\n",
       " 'расскажите': 648,\n",
       " 'гениально': 649,\n",
       " 'супер': 650,\n",
       " 'они': 651,\n",
       " 'умер': 652,\n",
       " 'знал': 653,\n",
       " 'лжет': 654,\n",
       " 'врёт': 655,\n",
       " 'спел': 656,\n",
       " 'плавал': 657,\n",
       " 'слишком': 658,\n",
       " 'поздно': 659,\n",
       " 'потрогай': 660,\n",
       " 'потрогайте': 661,\n",
       " 'прикоснись': 662,\n",
       " 'нему': 663,\n",
       " 'прикоснитесь': 664,\n",
       " 'ней': 665,\n",
       " 'верь': 666,\n",
       " 'постарайся': 667,\n",
       " 'следует': 668,\n",
       " 'воспользуйся': 669,\n",
       " 'предупреди': 670,\n",
       " 'предупредите': 671,\n",
       " 'согласны': 672,\n",
       " 'попробовали': 673,\n",
       " 'попытались': 674,\n",
       " 'поедем': 675,\n",
       " 'для': 676,\n",
       " 'чего': 677,\n",
       " 'зачем': 678,\n",
       " 'весело': 679,\n",
       " 'вышел': 680,\n",
       " 'напиши': 681,\n",
       " 'напишите': 682,\n",
       " 'пиши': 683,\n",
       " 'пишите': 684,\n",
       " 'после': 685,\n",
       " 'вас': 686,\n",
       " 'только': 687,\n",
       " 'сначала': 688,\n",
       " 'целься': 689,\n",
       " 'пли': 690,\n",
       " 'ответь': 691,\n",
       " 'ответьте': 692,\n",
       " 'отвечайте': 693,\n",
       " 'отвечай': 694,\n",
       " 'птицы': 695,\n",
       " 'летают': 696,\n",
       " 'здоров': 697,\n",
       " 'успокойся': 698,\n",
       " 'успокойтесь': 699,\n",
       " 'есть': 700,\n",
       " 'поесть': 701,\n",
       " 'можем': 702,\n",
       " 'поймай': 703,\n",
       " 'ловите': 704,\n",
       " 'лови': 705,\n",
       " 'поймайте': 706,\n",
       " 'освободите': 707,\n",
       " 'помещение': 708,\n",
       " 'вернись': 709,\n",
       " 'вернитесь': 710,\n",
       " 'возвращайся': 711,\n",
       " 'возвращайтесь': 712,\n",
       " 'приходи': 713,\n",
       " 'подойдите': 714,\n",
       " 'ко': 715,\n",
       " 'приезжай': 716,\n",
       " 'приезжайте': 717,\n",
       " 'приходите': 718,\n",
       " 'скорей': 719,\n",
       " 'остыньте': 720,\n",
       " 'сделайте': 721,\n",
       " 'собаки': 722,\n",
       " 'лают': 723,\n",
       " 'псы': 724,\n",
       " 'спрашивай': 725,\n",
       " 'спрашивайте': 726,\n",
       " 'плачь': 727,\n",
       " 'плачьте': 728,\n",
       " 'реви': 729,\n",
       " 'умирай': 730,\n",
       " 'умирайте': 731,\n",
       " 'лги': 732,\n",
       " 'ври': 733,\n",
       " 'врите': 734,\n",
       " 'лгите': 735,\n",
       " 'извините': 736,\n",
       " 'простите': 737,\n",
       " 'прошу': 738,\n",
       " 'прощения': 739,\n",
       " 'сказали': 740,\n",
       " 'фантастика': 741,\n",
       " 'следуйте': 742,\n",
       " 'следуй': 743,\n",
       " 'забудьте': 744,\n",
       " 'забудь': 745,\n",
       " 'об': 746,\n",
       " 'этом': 747,\n",
       " 'работу': 748,\n",
       " 'приготовься': 749,\n",
       " 'готовьтесь': 750,\n",
       " 'приготовьтесь': 751,\n",
       " 'готовься': 752,\n",
       " 'сходи': 753,\n",
       " 'ним': 754,\n",
       " 'сходите': 755,\n",
       " 'внутрь': 756,\n",
       " 'спать': 757,\n",
       " 'постель': 758,\n",
       " 'ложись': 759,\n",
       " 'кровать': 760,\n",
       " 'ложитесь': 761,\n",
       " 'спокойной': 762,\n",
       " 'ночи': 763,\n",
       " 'руки': 764,\n",
       " 'убрал': 765,\n",
       " 'возьмите': 766,\n",
       " 'немного': 767,\n",
       " 'болеет': 768,\n",
       " 'мой': 769,\n",
       " 'пять': 770,\n",
       " 'долларов': 771,\n",
       " 'подержи': 772,\n",
       " 'подержите': 773,\n",
       " 'какой': 774,\n",
       " 'ужас': 775,\n",
       " 'ужасно': 776,\n",
       " 'поживает': 777,\n",
       " 'там': 778,\n",
       " 'таец': 779,\n",
       " 'тайка': 780,\n",
       " 'дурно': 781,\n",
       " 'одобряю': 782,\n",
       " 'даю': 783,\n",
       " 'добро': 784,\n",
       " 'умоляю': 785,\n",
       " 'тебя': 786,\n",
       " 'моргнул': 787,\n",
       " 'моргнула': 788,\n",
       " 'летать': 789,\n",
       " 'умею': 790,\n",
       " 'бегать': 791,\n",
       " 'побежать': 792,\n",
       " 'кататься': 793,\n",
       " 'лыжах': 794,\n",
       " 'выиграть': 795,\n",
       " 'победить': 796,\n",
       " 'смошенничал': 797,\n",
       " 'смошенничала': 798,\n",
       " 'сжульничал': 799,\n",
       " 'сжульничала': 800,\n",
       " 'аплодировал': 801,\n",
       " 'рукоплескал': 802,\n",
       " 'кашлянул': 803,\n",
       " 'разбился': 804,\n",
       " 'разбилась': 805,\n",
       " 'съёжился': 806,\n",
       " 'сбежал': 807,\n",
       " 'сбежала': 808,\n",
       " 'обморок': 809,\n",
       " 'боюсь': 810,\n",
       " 'так': 811,\n",
       " 'нахмурился': 812,\n",
       " 'нахмурилась': 813,\n",
       " 'сдался': 814,\n",
       " 'хихикнул': 815,\n",
       " 'хихикнула': 816,\n",
       " 'сдаюсь': 817,\n",
       " 'злорадствовал': 818,\n",
       " 'злорадствовала': 819,\n",
       " 'стало': 820,\n",
       " 'разозлился': 821,\n",
       " 'рассердилась': 822,\n",
       " 'взбеленился': 823,\n",
       " 'взбесился': 824,\n",
       " 'рассвирепел': 825,\n",
       " 'ухмыльнулся': 826,\n",
       " 'ухмыльнулась': 827,\n",
       " 'стонал': 828,\n",
       " 'стонала': 829,\n",
       " 'охнул': 830,\n",
       " 'простонала': 831,\n",
       " 'крякнул': 832,\n",
       " 'проворчал': 833,\n",
       " 'ненавижу': 834,\n",
       " 'телевизор': 835,\n",
       " 'ударил': 836,\n",
       " 'ударила': 837,\n",
       " 'надеюсь': 838,\n",
       " 'смеялся': 839,\n",
       " 'рассмеялся': 840,\n",
       " 'нравится': 841,\n",
       " 'потерял': 842,\n",
       " 'обожаю': 843,\n",
       " 'серьёзно': 844,\n",
       " 'встретил': 845,\n",
       " 'хватает': 846,\n",
       " 'должен': 847,\n",
       " 'нужно': 848,\n",
       " 'нужен': 849,\n",
       " 'нужна': 850,\n",
       " 'заметил': 851,\n",
       " 'вперёд': 852,\n",
       " 'внёс': 853,\n",
       " 'предоплату': 854,\n",
       " 'внесла': 855,\n",
       " 'обещаю': 856,\n",
       " 'расслабился': 857,\n",
       " 'расслабилась': 858,\n",
       " 'пенсию': 859,\n",
       " 'вышла': 860,\n",
       " 'сказал': 861,\n",
       " 'одного': 862,\n",
       " 'одну': 863,\n",
       " 'одно': 864,\n",
       " 'поскользнулся': 865,\n",
       " 'поскользнулась': 866,\n",
       " 'чихнул': 867,\n",
       " 'чихнула': 868,\n",
       " 'остановился': 869,\n",
       " 'остановилась': 870,\n",
       " 'занимался': 871,\n",
       " 'вспотел': 872,\n",
       " 'вспотела': 873,\n",
       " 'споткнулся': 874,\n",
       " 'оступился': 875,\n",
       " 'этого': 876,\n",
       " 'хочу': 877,\n",
       " 'был': 878,\n",
       " 'толстым': 879,\n",
       " 'была': 880,\n",
       " 'толстой': 881,\n",
       " 'новеньким': 882,\n",
       " 'новенькой': 883,\n",
       " 'новенький': 884,\n",
       " 'было': 885,\n",
       " 'робок': 886,\n",
       " 'застенчив': 887,\n",
       " 'проснулся': 888,\n",
       " 'проснулась': 889,\n",
       " 'позвоню': 890,\n",
       " 'буду': 891,\n",
       " 'готовить': 892,\n",
       " 'помогу': 893,\n",
       " 'жить': 894,\n",
       " 'подчинюсь': 895,\n",
       " 'послушаюсь': 896,\n",
       " 'соберу': 897,\n",
       " 'чемодан': 898,\n",
       " 'пройду': 899,\n",
       " 'уволюсь': 900,\n",
       " 'прекращу': 901,\n",
       " 'брошу': 902,\n",
       " 'петь': 903,\n",
       " 'запою': 904,\n",
       " 'спою': 905,\n",
       " 'останусь': 906,\n",
       " 'остановлюсь': 907,\n",
       " 'перестану': 908,\n",
       " 'поплаваю': 909,\n",
       " 'говорить': 910,\n",
       " 'поговорю': 911,\n",
       " 'работать': 912,\n",
       " 'дипломированный': 913,\n",
       " 'бухгалтер': 914,\n",
       " 'полицейская': 915,\n",
       " 'фанат': 916,\n",
       " 'фанатка': 917,\n",
       " 'мужчина': 918,\n",
       " 'человек': 919,\n",
       " 'мужик': 920,\n",
       " 'профи': 921,\n",
       " 'жив': 922,\n",
       " 'жива': 923,\n",
       " 'живой': 924,\n",
       " 'живая': 925,\n",
       " 'один': 926,\n",
       " 'одна': 927,\n",
       " 'одиночестве': 928,\n",
       " 'зол': 929,\n",
       " 'зла': 930,\n",
       " 'разозлён': 931,\n",
       " 'разозлена': 932,\n",
       " 'вооружён': 933,\n",
       " 'вооружена': 934,\n",
       " 'вооружен': 935,\n",
       " 'бодрствую': 936,\n",
       " 'сплю': 937,\n",
       " 'слепая': 938,\n",
       " 'слепой': 939,\n",
       " 'властный': 940,\n",
       " 'властная': 941,\n",
       " 'храбрый': 942,\n",
       " 'храбрая': 943,\n",
       " 'смелый': 944,\n",
       " 'смелая': 945,\n",
       " 'отважный': 946,\n",
       " 'отважная': 947,\n",
       " 'нуле': 948,\n",
       " 'мели': 949,\n",
       " 'чистый': 950,\n",
       " 'чистая': 951,\n",
       " 'псих': 952,\n",
       " 'сумасшедшая': 953,\n",
       " 'излечен': 954,\n",
       " 'вылечили': 955,\n",
       " 'излечена': 956,\n",
       " 'голова': 957,\n",
       " 'кружится': 958,\n",
       " 'пьян': 959,\n",
       " 'пьяна': 960,\n",
       " 'пьяный': 961,\n",
       " 'пьяная': 962,\n",
       " 'умираю': 963,\n",
       " 'рано': 964,\n",
       " 'первый': 965,\n",
       " 'первая': 966,\n",
       " 'придирчивый': 967,\n",
       " 'придирчивая': 968,\n",
       " 'ухожу': 969,\n",
       " 'иду': 970,\n",
       " 'доволен': 971,\n",
       " 'любим': 972,\n",
       " 'любима': 973,\n",
       " 'любят': 974,\n",
       " 'преданный': 975,\n",
       " 'преданная': 976,\n",
       " 'везёт': 977,\n",
       " 'везучий': 978,\n",
       " 'удачлив': 979,\n",
       " 'удачлива': 980,\n",
       " 'вру': 981,\n",
       " 'лежу': 982,\n",
       " 'лгу': 983,\n",
       " 'наивный': 984,\n",
       " 'наивная': 985,\n",
       " 'раздетый': 986,\n",
       " 'голый': 987,\n",
       " 'голая': 988,\n",
       " 'нуждаюсь': 989,\n",
       " 'нужде': 990,\n",
       " 'жирный': 991,\n",
       " 'разборчивый': 992,\n",
       " 'разборчивая': 993,\n",
       " 'довольно': 994,\n",
       " 'тихий': 995,\n",
       " 'готова': 996,\n",
       " 'готов': 997,\n",
       " 'прав': 998,\n",
       " 'невысокая': 999,\n",
       " ...}"
      ]
     },
     "execution_count": 26,
     "metadata": {},
     "output_type": "execute_result"
    }
   ],
   "source": [
    "rus_vocab"
   ]
  },
  {
   "cell_type": "code",
   "execution_count": 27,
   "metadata": {},
   "outputs": [
    {
     "data": {
      "text/html": [
       "<div>\n",
       "<style scoped>\n",
       "    .dataframe tbody tr th:only-of-type {\n",
       "        vertical-align: middle;\n",
       "    }\n",
       "\n",
       "    .dataframe tbody tr th {\n",
       "        vertical-align: top;\n",
       "    }\n",
       "\n",
       "    .dataframe thead th {\n",
       "        text-align: right;\n",
       "    }\n",
       "</style>\n",
       "<table border=\"1\" class=\"dataframe\">\n",
       "  <thead>\n",
       "    <tr style=\"text-align: right;\">\n",
       "      <th></th>\n",
       "      <th>оригинал</th>\n",
       "      <th>перевод</th>\n",
       "      <th>eng_encoded</th>\n",
       "      <th>rus_encoded</th>\n",
       "    </tr>\n",
       "  </thead>\n",
       "  <tbody>\n",
       "    <tr>\n",
       "      <th>0</th>\n",
       "      <td>go</td>\n",
       "      <td>марш</td>\n",
       "      <td>[1, 3, 2]</td>\n",
       "      <td>[1, 3, 2]</td>\n",
       "    </tr>\n",
       "    <tr>\n",
       "      <th>1</th>\n",
       "      <td>go</td>\n",
       "      <td>иди</td>\n",
       "      <td>[1, 3, 2]</td>\n",
       "      <td>[1, 4, 2]</td>\n",
       "    </tr>\n",
       "    <tr>\n",
       "      <th>2</th>\n",
       "      <td>go</td>\n",
       "      <td>идите</td>\n",
       "      <td>[1, 3, 2]</td>\n",
       "      <td>[1, 5, 2]</td>\n",
       "    </tr>\n",
       "    <tr>\n",
       "      <th>3</th>\n",
       "      <td>hi</td>\n",
       "      <td>здравствуйте</td>\n",
       "      <td>[1, 4, 2]</td>\n",
       "      <td>[1, 6, 2]</td>\n",
       "    </tr>\n",
       "    <tr>\n",
       "      <th>4</th>\n",
       "      <td>hi</td>\n",
       "      <td>привет</td>\n",
       "      <td>[1, 4, 2]</td>\n",
       "      <td>[1, 7, 2]</td>\n",
       "    </tr>\n",
       "  </tbody>\n",
       "</table>\n",
       "</div>"
      ],
      "text/plain": [
       "  оригинал       перевод eng_encoded rus_encoded\n",
       "0       go          марш   [1, 3, 2]   [1, 3, 2]\n",
       "1       go           иди   [1, 3, 2]   [1, 4, 2]\n",
       "2       go         идите   [1, 3, 2]   [1, 5, 2]\n",
       "3       hi  здравствуйте   [1, 4, 2]   [1, 6, 2]\n",
       "4       hi        привет   [1, 4, 2]   [1, 7, 2]"
      ]
     },
     "execution_count": 27,
     "metadata": {},
     "output_type": "execute_result"
    }
   ],
   "source": [
    "def tokenize_and_encode(sentence, vocab):\n",
    "    sentence_tokens = ['<SOS>'] + sentence.split(' ') + ['<EOS>']\n",
    "    return [vocab[token] for token in sentence_tokens]\n",
    "\n",
    "# закодируем тексты\n",
    "data[\"eng_encoded\"] = data[\"оригинал\"].apply(lambda s: tokenize_and_encode(s, eng_vocab))\n",
    "data[\"rus_encoded\"] = data[\"перевод\"].apply(lambda s: tokenize_and_encode(s, rus_vocab))\n",
    "\n",
    "data.head(5)"
   ]
  },
  {
   "cell_type": "markdown",
   "metadata": {},
   "source": [
    "Нам необходимо для загрузки в модель на pytorch создать объект класса `Dataset`, который будет представлять сам набор данных, а также объекты класса `DataLoader`, которые будут разделять датасеты на батчи и загружать их последовательно в модель.\n",
    "\n",
    "К сожалению, стандартный Dataset для нашей задачи не подойдёт, поэтому на его основе свой класс для представления данных.\n",
    "\n",
    "Конструктор класса кастомного датасета принимает два аргумента: `source_sentences` и `target_sentences`, которые представляют собой списки предложений на исходном (английском) и целевом (русском) языках, соответственно. Эти списки сохраняются как атрибуты экземпляра класса.\n",
    "\n",
    "Метод `__getitem__(self, idx)` позволяет получить элемент датасета по заданному индексу `idx`. Он возвращает кортеж, состоящий из двух тензоров: один для исходного предложения и другой $-$ для целевого. Каждое предложение преобразуется в тензор с помощью функции `torch.tensor()`, что необходимо для дальнейшей работы модели.\n",
    "\n",
    "Таким образом, класс `TranslationDataset` позволяет удобно работать с парами предложений, что особенно полезно в задачах трансляции текста."
   ]
  },
  {
   "cell_type": "code",
   "execution_count": 28,
   "metadata": {},
   "outputs": [],
   "source": [
    "import torch\n",
    "from torch.utils.data import DataLoader, Dataset\n",
    "\n",
    "class TranslationDataset(Dataset):\n",
    "    def __init__(self, source_sentences, target_sentences):\n",
    "        self.source_sentences = source_sentences\n",
    "        self.target_sentences = target_sentences\n",
    "\n",
    "    def __len__(self):\n",
    "        return len(self.source_sentences)\n",
    "\n",
    "    def __getitem__(self, idx):\n",
    "        return (torch.tensor(self.source_sentences[idx]), torch.tensor(self.target_sentences[idx]))"
   ]
  },
  {
   "cell_type": "code",
   "execution_count": 29,
   "metadata": {},
   "outputs": [],
   "source": [
    "from torch.nn.utils.rnn import pad_sequence\n",
    "from torch.utils.data import random_split\n",
    "\n",
    "# случайное разделение датасета (8:2)\n",
    "eng_to_rus_dataset = TranslationDataset(data[\"eng_encoded\"].tolist(), data[\"rus_encoded\"].tolist())\n",
    "\n",
    "dataset_size = len(eng_to_rus_dataset)\n",
    "train_size = int(dataset_size * 0.8)\n",
    "test_size = dataset_size - train_size\n",
    "\n",
    "train_dataset, test_dataset = random_split(eng_to_rus_dataset, [train_size, test_size])"
   ]
  },
  {
   "cell_type": "markdown",
   "metadata": {},
   "source": [
    "Дальше определим функцию `collate_fn`, которая используется для упаковки батчей данных в подготовленный формат, а затем создадим загрузчики данных для тренировочной и тестовой выборок.\n",
    "\n",
    "Функция `collate_fn` принимает аргумент `batch`, представляющий собой список пар предложений. С помощью `zip(*batch)` извлекаются две отдельные группы: `src_batch` (предложения на английском языке) и `tgt_batch` (предложения на русском языке)."
   ]
  },
  {
   "cell_type": "code",
   "execution_count": 30,
   "metadata": {},
   "outputs": [],
   "source": [
    "def collate_fn(batch):\n",
    "    src_batch, tgt_batch = zip(*batch)\n",
    "\n",
    "    # индексы паддинга (выровненных значений) для исходных и целевых тензоров\n",
    "    src_pad_idx, tgt_pad_idx = eng_vocab[\"<PAD>\"], rus_vocab[\"<PAD>\"]\n",
    "    # batch_first=True указывает, что первая размерность тензора является размером батча\n",
    "    src_batch_tensor = pad_sequence([torch.tensor(src) for src in src_batch],\n",
    "                                    padding_value=src_pad_idx, batch_first=True)\n",
    "    tgt_batch_tensor = pad_sequence([torch.tensor(tgt) for tgt in tgt_batch], \n",
    "                                    padding_value=tgt_pad_idx, batch_first=True)\n",
    "\n",
    "    return src_batch_tensor, tgt_batch_tensor\n",
    "\n",
    "train_dataloader = DataLoader(train_dataset, batch_size=32, collate_fn=collate_fn, shuffle=True)\n",
    "test_dataloader = DataLoader(test_dataset, batch_size=32, collate_fn=collate_fn, shuffle=False)"
   ]
  },
  {
   "cell_type": "code",
   "execution_count": 31,
   "metadata": {},
   "outputs": [],
   "source": [
    "import torch\n",
    "import torch.nn as nn\n",
    "import torch.optim as optim\n",
    "import random\n",
    "import math"
   ]
  },
  {
   "cell_type": "markdown",
   "metadata": {},
   "source": [
    "Пришло время создать архитектуру \"кодировщик-декодировщик\". Начнём с блока кодировщика, который определён классом `Encoder`. Этот класс наследуется от `nn.Module`, базового класса для всех модулей в `PyTorch`. Это значит, что `Encoder` сам является модулем `PyTorch` и может быть частью большей нейронной сети.\n",
    "\n",
    "В целом, этот кодировщик принимает последовательность слов, преобразует их в эмбеддинги, обрабатывает их с помощью LSTM и возвращает выходные данные LSTM вместе с его последним скрытым состоянием, которое содержит информацию о всей входной последовательности.  Это скрытое состояние затем используется декодером для генерации выходной последовательности.  \n",
    "\n",
    " Какие параметр имеет конструктор класса? Он инициализирует параметры кодировщика:\n",
    "  * `input_dim`: размер входного словаря (количество уникальных слов);\n",
    "  * `embed_dim`: размерность эмбеддингов (векторное представление слов);\n",
    "  * `hidden_dim`: размерность скрытого состояния LSTM;\n",
    "  * `n_layers`: количество слоев LSTM;\n",
    "  * `dropout`: вероятность отключения нейронов (для регуляризации);\n",
    "  * `device`: устройство, на котором будет выполняться вычисление (CPU или GPU)."
   ]
  },
  {
   "cell_type": "code",
   "execution_count": 32,
   "metadata": {},
   "outputs": [],
   "source": [
    "class Encoder(nn.Module):\n",
    "    def __init__(self, input_dim, embed_dim, hidden_dim, n_layers, dropout, device):\n",
    "        super().__init__()\n",
    "        self.hidden_dim = hidden_dim\n",
    "        self.embedding = nn.Embedding(input_dim, embed_dim)\n",
    "        self.lstm = nn.LSTM(embed_dim, hidden_dim, num_layers=n_layers)\n",
    "        self.dropout = nn.Dropout(dropout)\n",
    "\n",
    "    def forward(self, src):\n",
    "        embedded = self.embedding(src)\n",
    "        dropout_embedded = self.dropout(embedded)\n",
    "        outputs, (hidden, cell) = self.lstm(dropout_embedded)\n",
    "        return outputs, (hidden, cell)"
   ]
  },
  {
   "cell_type": "markdown",
   "metadata": {},
   "source": [
    "Опишем класс `Decoder` — декодер, который отвечает за генерацию выходной последовательности на основе информации, полученной от кодировщика. В целом, этот декодер принимает на вход текущее слово, скрытое состояние и выход кодировщика, использует LSTM для обработки информации и генерирует предсказание вероятностей для следующего слова в выходной последовательности.  Процесс повторяется итеративно, пока не будет сгенерирована вся выходная последовательность.  Важно понимать, что контекстная информация из кодировщика передаётся в декодер через конкатенацию с эмбеддингом входного слова."
   ]
  },
  {
   "cell_type": "code",
   "execution_count": 33,
   "metadata": {},
   "outputs": [],
   "source": [
    "class Decoder(nn.Module):\n",
    "    def __init__(self, output_dim, embed_dim, encoder_hid_dim, decoder_hid_dim, \n",
    "                 num_layers, dropout, device):\n",
    "        super().__init__()\n",
    "        self.output_dim = output_dim\n",
    "        self.embedding = nn.Embedding(output_dim, embed_dim)\n",
    "        self.lstm = nn.LSTM(embed_dim + encoder_hid_dim, decoder_hid_dim, num_layers=num_layers)\n",
    "        self.fc_out = nn.Linear(decoder_hid_dim, output_dim)\n",
    "        self.dropout = nn.Dropout(dropout)\n",
    "\n",
    "    def forward(self, input_token, hidden, cell, encoder_outputs):\n",
    "        input_token = input_token.unsqueeze(0)  # [1, batch_size]\n",
    "        embedded = self.embedding(input_token)\n",
    "\n",
    "        encoder_outputs = encoder_outputs[-1, :, :].unsqueeze(0)  # [1, batch_size, encoder_hid_dim]\n",
    "        lstm_input = torch.cat((embedded, encoder_outputs), dim=2)  # объединяем\n",
    "        output, (hidden, cell) = self.lstm(lstm_input, (hidden, cell))\n",
    "        prediction = self.fc_out(output.squeeze(0))\n",
    "\n",
    "        return prediction, hidden, cell"
   ]
  },
  {
   "cell_type": "markdown",
   "metadata": {},
   "source": [
    "Объединим кодер и декодер в одну структуру. Для этого напишем класс `Seq2Seq`.\n",
    "В этом классе стоит обратить внимание на метод `forward`. Если условие `teacher_forcing` истинно, то следующий входно, иначе используется токен с наибольшей вероятностью, предсказанный декодером на предыдущем шаге.\n",
    "\n",
    "Эта техника обучения рекуррентных нейронных сетей называется `усилением учителя` или `Teacher Forcing`. Такая техника обучения использует фактические целевые значения как входные данные на следующем временном шаге.  Это помогает стабильности обучения, но может привести к тому, что модель будет плохо обобщаться на новых данных, поскольку во время инференса (генерации) она не получает \"подсказок\" из целевой последовательности. Параметр `teacher_forcing_ratio` контролирует, как часто используется методика и вырабатывается \"подсказка\"."
   ]
  },
  {
   "cell_type": "code",
   "execution_count": 34,
   "metadata": {},
   "outputs": [],
   "source": [
    "class Seq2Seq(nn.Module):\n",
    "    def __init__(self, encoder, decoder, device):\n",
    "        super().__init__()\n",
    "        self.device = device\n",
    "        self.encoder = encoder.to(self.device)\n",
    "        self.decoder = decoder.to(self.device)\n",
    "\n",
    "    def forward(self, src, tgt, teacher_forcing_ratio=0.5):\n",
    "        tgt_len = tgt.shape[0]\n",
    "        batch_size = tgt.shape[1]\n",
    "        tgt_vocab_size = self.decoder.output_dim   # длина словаря языка, на который переводим\n",
    "\n",
    "        outputs = torch.zeros(tgt_len, batch_size, tgt_vocab_size).to(self.device)\n",
    "        encoder_outputs, (hidden, cell) = self.encoder(src)\n",
    "\n",
    "        # начинаем с первого токена в последовательности (<SOS>)\n",
    "        input_token = tgt[0, :]   \n",
    "\n",
    "        for t in range(1, tgt_len):\n",
    "            output, hidden, cell = self.decoder(input_token, hidden, cell, encoder_outputs)\n",
    "            outputs[t] = output\n",
    "        \n",
    "            top1 = output.argmax(1)\n",
    "            teacher_forcing = random.random() < teacher_forcing_ratio\n",
    "            input_token = tgt[t] if teacher_forcing else top1\n",
    "        return outputs"
   ]
  },
  {
   "cell_type": "markdown",
   "metadata": {},
   "source": [
    "Определим функцию для обучения модели. "
   ]
  },
  {
   "cell_type": "code",
   "execution_count": 35,
   "metadata": {},
   "outputs": [],
   "source": [
    "from tqdm import tqdm\n",
    "def train(model, iterator, optimizer, criterion, clip, device):\n",
    "    model.train()\n",
    "    epoch_loss = 0\n",
    "    progress = tqdm(iterator, total=len(iterator), \n",
    "                    desc=\"Обучение\", leave=False)\n",
    "    \n",
    "    for idx, (src, tgt) in enumerate(progress):\n",
    "        src, tgt = src.to(device), tgt.to(device)\n",
    "        \n",
    "        src = src.transpose(0, 1)\n",
    "        tgt = tgt.transpose(0, 1)\n",
    "        \n",
    "        optimizer.zero_grad()\n",
    "\n",
    "        output = model(src, tgt)\n",
    "        output_dim = output.shape[-1]\n",
    "        # сгладить все токены, кроме feature_dim, для вычисления потерь\n",
    "        # ([N, C]: N элементов, каждый из которых имеет класс C)\n",
    "        output = output[1:].reshape(-1, output_dim)\n",
    "        # также сгладить целевые токены ([N]: N элементов имеют индекс int в диапазоне от 0 до C-1).\n",
    "        tgt = tgt[1:].reshape(-1) # модель не обрабатывает <SOS> токен\n",
    "\n",
    "        loss = criterion(output, tgt)\n",
    "        loss.backward()  \n",
    "        torch.nn.utils.clip_grad_norm_(model.parameters(), clip)\n",
    "        \n",
    "        optimizer.step()\n",
    "\n",
    "        epoch_loss += loss.item()\n",
    "        progress.set_postfix(loss=loss.item())\n",
    "\n",
    "    return epoch_loss / len(iterator)"
   ]
  },
  {
   "cell_type": "code",
   "execution_count": 36,
   "metadata": {},
   "outputs": [],
   "source": [
    "def eval(model, iterator, criterion, device):\n",
    "    model.eval()\n",
    "    epoch_loss = 0\n",
    "    progress = tqdm(iterator, total=len(iterator), desc=\"Оценка\", leave=False)\n",
    "\n",
    "    with torch.no_grad():\n",
    "        for _, (src, tgt) in enumerate(progress):\n",
    "            src, tgt = src.to(device), tgt.to(device)\n",
    "            \n",
    "            src = src.transpose(0, 1)\n",
    "            tgt = tgt.transpose(0, 1)\n",
    "\n",
    "            output = model(src, tgt, 0) \n",
    "            \n",
    "            output_dim = output.shape[-1]\n",
    "            output = output[1:].reshape(-1, output_dim)\n",
    "            tgt = tgt[1:].reshape(-1)\n",
    "\n",
    "            loss = criterion(output, tgt)\n",
    "            epoch_loss += loss.item()\n",
    "            progress.set_postfix(loss=loss.item())\n",
    "\n",
    "    return epoch_loss / len(iterator)"
   ]
  },
  {
   "cell_type": "code",
   "execution_count": 37,
   "metadata": {},
   "outputs": [],
   "source": [
    "INPUT_DIM = len(eng_vocab)\n",
    "OUTPUT_DIM = len(rus_vocab)\n",
    "ENCODER_EMBED_DIM = 256\n",
    "DECODER_EMBED_DIM = 256\n",
    "HIDDEN_DIM = 1024\n",
    "N_LAYERS = 2\n",
    "ENCODER_DROPOUT = 0.3\n",
    "DECODER_DROPOUT = 0.3\n",
    "CLIP = 20\n",
    "N_EPOCHS = 10\n",
    "device = torch.device(\"cuda\" if torch.cuda.is_available() else \"cpu\")"
   ]
  },
  {
   "cell_type": "code",
   "execution_count": 38,
   "metadata": {},
   "outputs": [
    {
     "data": {
      "text/plain": [
       "device(type='cuda')"
      ]
     },
     "execution_count": 38,
     "metadata": {},
     "output_type": "execute_result"
    }
   ],
   "source": [
    "device"
   ]
  },
  {
   "cell_type": "markdown",
   "metadata": {},
   "source": [
    "По сути, в задаче генерации перевода нет ничего для вас нового $-$ это всё та же задача классификации, просто метками классов выступают индексы токенов в целевом словаре. И поэтому функцией потерь будет выступать перекрёстная энтропия."
   ]
  },
  {
   "cell_type": "code",
   "execution_count": 39,
   "metadata": {},
   "outputs": [],
   "source": [
    "encoder = Encoder(INPUT_DIM, ENCODER_EMBED_DIM, HIDDEN_DIM, N_LAYERS, ENCODER_DROPOUT, device)\n",
    "decoder = Decoder(OUTPUT_DIM, DECODER_EMBED_DIM, HIDDEN_DIM, HIDDEN_DIM, N_LAYERS, DECODER_DROPOUT, device)\n",
    "model = Seq2Seq(encoder, decoder, device).to(device)\n",
    "optimizer = optim.Adam(model.parameters())\n",
    "criterion = nn.CrossEntropyLoss(ignore_index=eng_vocab['<PAD>'])"
   ]
  },
  {
   "cell_type": "code",
   "execution_count": 40,
   "metadata": {},
   "outputs": [
    {
     "name": "stderr",
     "output_type": "stream",
     "text": [
      "                                                                                \r"
     ]
    },
    {
     "name": "stdout",
     "output_type": "stream",
     "text": [
      "Epoch: 01 | Train Loss: 3.925 | Valid Loss: 3.103\n"
     ]
    },
    {
     "name": "stderr",
     "output_type": "stream",
     "text": [
      "                                                                                \r"
     ]
    },
    {
     "name": "stdout",
     "output_type": "stream",
     "text": [
      "Epoch: 02 | Train Loss: 2.364 | Valid Loss: 2.644\n"
     ]
    },
    {
     "name": "stderr",
     "output_type": "stream",
     "text": [
      "                                                                                \r"
     ]
    },
    {
     "name": "stdout",
     "output_type": "stream",
     "text": [
      "Epoch: 03 | Train Loss: 1.813 | Valid Loss: 2.521\n"
     ]
    },
    {
     "name": "stderr",
     "output_type": "stream",
     "text": [
      "                                                                                \r"
     ]
    },
    {
     "name": "stdout",
     "output_type": "stream",
     "text": [
      "Epoch: 04 | Train Loss: 1.498 | Valid Loss: 2.534\n"
     ]
    },
    {
     "name": "stderr",
     "output_type": "stream",
     "text": [
      "                                                                                \r"
     ]
    },
    {
     "name": "stdout",
     "output_type": "stream",
     "text": [
      "Epoch: 05 | Train Loss: 1.294 | Valid Loss: 2.550\n"
     ]
    },
    {
     "name": "stderr",
     "output_type": "stream",
     "text": [
      "                                                                                \r"
     ]
    },
    {
     "name": "stdout",
     "output_type": "stream",
     "text": [
      "Epoch: 06 | Train Loss: 1.163 | Valid Loss: 2.584\n"
     ]
    },
    {
     "name": "stderr",
     "output_type": "stream",
     "text": [
      "                                                                                \r"
     ]
    },
    {
     "name": "stdout",
     "output_type": "stream",
     "text": [
      "Epoch: 07 | Train Loss: 1.062 | Valid Loss: 2.585\n"
     ]
    },
    {
     "name": "stderr",
     "output_type": "stream",
     "text": [
      "                                                                                \r"
     ]
    },
    {
     "name": "stdout",
     "output_type": "stream",
     "text": [
      "Epoch: 08 | Train Loss: 0.989 | Valid Loss: 2.639\n"
     ]
    },
    {
     "name": "stderr",
     "output_type": "stream",
     "text": [
      "                                                                                \r"
     ]
    },
    {
     "name": "stdout",
     "output_type": "stream",
     "text": [
      "Epoch: 09 | Train Loss: 0.928 | Valid Loss: 2.681\n"
     ]
    },
    {
     "name": "stderr",
     "output_type": "stream",
     "text": [
      "                                                                                "
     ]
    },
    {
     "name": "stdout",
     "output_type": "stream",
     "text": [
      "Epoch: 10 | Train Loss: 0.880 | Valid Loss: 2.711\n"
     ]
    },
    {
     "name": "stderr",
     "output_type": "stream",
     "text": [
      "\r"
     ]
    }
   ],
   "source": [
    "for epoch in range(N_EPOCHS):\n",
    "    train_loss = train(model, train_dataloader, optimizer, criterion, CLIP, device)\n",
    "    valid_loss = eval(model, test_dataloader, criterion, device)\n",
    "    print(f'Epoch: {epoch+1:02} | Train Loss: {train_loss:.3f} | Valid Loss: {valid_loss:.3f}')"
   ]
  },
  {
   "cell_type": "markdown",
   "metadata": {},
   "source": [
    "Для того, чтобы понять, насколько успешно справляется сеть с поставленной задачей, определим функцию для декодирования последовательности идентификаторов в токены."
   ]
  },
  {
   "cell_type": "code",
   "execution_count": 41,
   "metadata": {},
   "outputs": [],
   "source": [
    "def translate_sentence(model, sentence, src_vocab, trg_vocab, trg_token2id, src_encoder, max_len=50):\n",
    "    model.eval()\n",
    "    src_encoded = src_encoder(custom_standardization(sentence), src_vocab)\n",
    "    src_tensor = torch.LongTensor(src_encoded).unsqueeze(1).to(device)\n",
    "\n",
    "    with torch.no_grad():\n",
    "        encoder_outputs, (hidden, cell) = model.encoder(src_tensor)\n",
    "    \n",
    "    trg_indexes = [trg_vocab['<SOS>']]\n",
    "    \n",
    "    for i in range(max_len):\n",
    "        trg_tensor = torch.LongTensor([trg_indexes[-1]]).to(device)\n",
    "        \n",
    "        with torch.no_grad():\n",
    "            output, hidden, cell = model.decoder(trg_tensor, hidden, cell, encoder_outputs)\n",
    "        \n",
    "        pred_token = output.argmax(1).item()\n",
    "        trg_indexes.append(pred_token)\n",
    "        \n",
    "        if pred_token == trg_vocab['<EOS>']:\n",
    "            break\n",
    "    trg_tokens = [trg_token2id[i] for i in trg_indexes]\n",
    "    return ' '.join(trg_tokens[1:-1])"
   ]
  },
  {
   "cell_type": "markdown",
   "metadata": {},
   "source": [
    "Посмотрим несколько примеров перевода обученной моделью."
   ]
  },
  {
   "cell_type": "code",
   "execution_count": 42,
   "metadata": {},
   "outputs": [
    {
     "name": "stdout",
     "output_type": "stream",
     "text": [
      "Source sentence: The bottle is big.\n",
      "Translated sentence: большой красная\n"
     ]
    }
   ],
   "source": [
    "src_sentence = \"The bottle is big.\"\n",
    "translated_sentence = translate_sentence(model, src_sentence, eng_vocab, rus_vocab,\n",
    "                                         rus_token2id, tokenize_and_encode)\n",
    "print(f\"Source sentence: {src_sentence}\")\n",
    "print(f\"Translated sentence: {translated_sentence}\")"
   ]
  },
  {
   "cell_type": "code",
   "execution_count": 43,
   "metadata": {},
   "outputs": [
    {
     "name": "stdout",
     "output_type": "stream",
     "text": [
      "Source sentence: I want to go to the forest and pick mushrooms.\n",
      "Translated sentence: я хочу сходить в лес и прошёл самолётом\n"
     ]
    }
   ],
   "source": [
    "src_sentence = \"I want to go to the forest and pick mushrooms.\"\n",
    "translated_sentence = translate_sentence(model, src_sentence, eng_vocab, rus_vocab,\n",
    "                                         rus_token2id, tokenize_and_encode)\n",
    "print(f\"Source sentence: {src_sentence}\")\n",
    "print(f\"Translated sentence: {translated_sentence}\")"
   ]
  },
  {
   "cell_type": "markdown",
   "metadata": {},
   "source": [
    "Созданная модель не так хороша, как нам бы того хотелось. Однако даже её можно улучшить с помощью специальных механизмов, которые мы рассмотрим в следующей лекции."
   ]
  }
 ],
 "metadata": {
  "colab": {
   "provenance": []
  },
  "kernelspec": {
   "display_name": "Python 3 (ipykernel)",
   "language": "python",
   "name": "python3"
  },
  "language_info": {
   "codemirror_mode": {
    "name": "ipython",
    "version": 3
   },
   "file_extension": ".py",
   "mimetype": "text/x-python",
   "name": "python",
   "nbconvert_exporter": "python",
   "pygments_lexer": "ipython3",
   "version": "3.11.5"
  }
 },
 "nbformat": 4,
 "nbformat_minor": 1
}
